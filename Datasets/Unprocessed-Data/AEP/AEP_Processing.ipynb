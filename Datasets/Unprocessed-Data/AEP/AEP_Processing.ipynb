{
 "cells": [
  {
   "cell_type": "code",
   "execution_count": 1,
   "id": "93a2d32b",
   "metadata": {},
   "outputs": [],
   "source": [
    "import pandas as pd\n",
    "import numpy as np\n",
    "import matplotlib.pyplot as plt\n",
    "import seaborn as sns\n",
    "%matplotlib inline"
   ]
  },
  {
   "cell_type": "code",
   "execution_count": 2,
   "id": "39492340",
   "metadata": {},
   "outputs": [
    {
     "data": {
      "text/html": [
       "<div>\n",
       "<style scoped>\n",
       "    .dataframe tbody tr th:only-of-type {\n",
       "        vertical-align: middle;\n",
       "    }\n",
       "\n",
       "    .dataframe tbody tr th {\n",
       "        vertical-align: top;\n",
       "    }\n",
       "\n",
       "    .dataframe thead th {\n",
       "        text-align: right;\n",
       "    }\n",
       "</style>\n",
       "<table border=\"1\" class=\"dataframe\">\n",
       "  <thead>\n",
       "    <tr style=\"text-align: right;\">\n",
       "      <th></th>\n",
       "      <th>Datetime</th>\n",
       "      <th>AEP_MW</th>\n",
       "    </tr>\n",
       "  </thead>\n",
       "  <tbody>\n",
       "    <tr>\n",
       "      <th>0</th>\n",
       "      <td>2004-12-31 01:00:00</td>\n",
       "      <td>13478.0</td>\n",
       "    </tr>\n",
       "  </tbody>\n",
       "</table>\n",
       "</div>"
      ],
      "text/plain": [
       "              Datetime   AEP_MW\n",
       "0  2004-12-31 01:00:00  13478.0"
      ]
     },
     "execution_count": 2,
     "metadata": {},
     "output_type": "execute_result"
    }
   ],
   "source": [
    "df=pd.read_csv('E:\\\\0_PYTHON\\\\9_Datasets\\\\PJM\\\\AEP_hourly.csv' ,parse_dates=True)\n",
    "df.head(1)"
   ]
  },
  {
   "cell_type": "code",
   "execution_count": 3,
   "id": "508f075c",
   "metadata": {},
   "outputs": [
    {
     "name": "stdout",
     "output_type": "stream",
     "text": [
      "len =  121269\n"
     ]
    }
   ],
   "source": [
    "# Drop Duplicates Except the First Occurrence\n",
    "df.drop_duplicates(subset=['Datetime'], keep ='first',  inplace= True)\n",
    "print('len = ',len(df))"
   ]
  },
  {
   "cell_type": "code",
   "execution_count": 4,
   "id": "aeb6290b",
   "metadata": {},
   "outputs": [
    {
     "data": {
      "text/html": [
       "<div>\n",
       "<style scoped>\n",
       "    .dataframe tbody tr th:only-of-type {\n",
       "        vertical-align: middle;\n",
       "    }\n",
       "\n",
       "    .dataframe tbody tr th {\n",
       "        vertical-align: top;\n",
       "    }\n",
       "\n",
       "    .dataframe thead th {\n",
       "        text-align: right;\n",
       "    }\n",
       "</style>\n",
       "<table border=\"1\" class=\"dataframe\">\n",
       "  <thead>\n",
       "    <tr style=\"text-align: right;\">\n",
       "      <th></th>\n",
       "      <th>AEP_MW</th>\n",
       "    </tr>\n",
       "    <tr>\n",
       "      <th>Datetime</th>\n",
       "      <th></th>\n",
       "    </tr>\n",
       "  </thead>\n",
       "  <tbody>\n",
       "    <tr>\n",
       "      <th>2004-12-31 01:00:00</th>\n",
       "      <td>13478.0</td>\n",
       "    </tr>\n",
       "  </tbody>\n",
       "</table>\n",
       "</div>"
      ],
      "text/plain": [
       "                      AEP_MW\n",
       "Datetime                    \n",
       "2004-12-31 01:00:00  13478.0"
      ]
     },
     "execution_count": 4,
     "metadata": {},
     "output_type": "execute_result"
    }
   ],
   "source": [
    "df['Datetime']=pd.to_datetime(df['Datetime'])\n",
    "df.set_index('Datetime', inplace=True)\n",
    "df.head(1)"
   ]
  },
  {
   "cell_type": "code",
   "execution_count": 5,
   "id": "c052c773",
   "metadata": {},
   "outputs": [],
   "source": [
    "df=df.sort_index(ascending=True)"
   ]
  },
  {
   "cell_type": "code",
   "execution_count": 6,
   "id": "8d2c6522",
   "metadata": {},
   "outputs": [
    {
     "name": "stdout",
     "output_type": "stream",
     "text": [
      "                      AEP_MW\n",
      "Datetime                    \n",
      "2004-10-01 01:00:00  12379.0\n",
      "             AEP_MW\n",
      "Datetime           \n",
      "2018-08-03  14809.0\n"
     ]
    }
   ],
   "source": [
    "print(df.head(1))\n",
    "print(df.tail(1))"
   ]
  },
  {
   "cell_type": "code",
   "execution_count": 7,
   "id": "17831316",
   "metadata": {},
   "outputs": [
    {
     "name": "stdout",
     "output_type": "stream",
     "text": [
      "\n",
      "Number of Missing Timestamp=  28 \n",
      "\n",
      "[Timestamp('2004-10-01 00:00:00'), Timestamp('2004-10-31 02:00:00'), Timestamp('2005-04-03 03:00:00'), Timestamp('2005-10-30 02:00:00'), Timestamp('2006-04-02 03:00:00'), Timestamp('2006-10-29 02:00:00'), Timestamp('2007-03-11 03:00:00'), Timestamp('2007-11-04 02:00:00'), Timestamp('2008-03-09 03:00:00'), Timestamp('2008-11-02 02:00:00'), Timestamp('2009-03-08 03:00:00'), Timestamp('2009-11-01 02:00:00'), Timestamp('2010-03-14 03:00:00'), Timestamp('2010-11-07 02:00:00'), Timestamp('2010-12-10 00:00:00'), Timestamp('2011-03-13 03:00:00'), Timestamp('2011-11-06 02:00:00'), Timestamp('2012-03-11 03:00:00'), Timestamp('2012-11-04 02:00:00'), Timestamp('2012-12-06 04:00:00'), Timestamp('2013-03-10 03:00:00'), Timestamp('2013-11-03 02:00:00'), Timestamp('2014-03-09 03:00:00'), Timestamp('2014-03-11 14:00:00'), Timestamp('2015-03-08 03:00:00'), Timestamp('2016-03-13 03:00:00'), Timestamp('2017-03-12 03:00:00'), Timestamp('2018-03-11 03:00:00')]\n"
     ]
    }
   ],
   "source": [
    "missing_Timestamp=pd.date_range('2004-10-01','2018-08-03',freq='H').difference(df.index)\n",
    "print('\\nNumber of Missing Timestamp= ',len(missing_Timestamp),'\\n')\n",
    "print(missing_Timestamp.to_list())"
   ]
  },
  {
   "cell_type": "code",
   "execution_count": 8,
   "id": "8ed30d34",
   "metadata": {},
   "outputs": [
    {
     "name": "stdout",
     "output_type": "stream",
     "text": [
      "\n",
      "Number of Missing Timestamp=  1 \n",
      "\n",
      "[Timestamp('2004-10-01 00:00:00')]\n"
     ]
    }
   ],
   "source": [
    "df = df.resample('H').first().fillna(np.NaN)\n",
    "missing_Timestamp=pd.date_range('2004-10-01','2018-08-03',freq='H').difference(df.index)\n",
    "print('\\nNumber of Missing Timestamp= ',len(missing_Timestamp),'\\n')\n",
    "print(missing_Timestamp.to_list())"
   ]
  },
  {
   "cell_type": "code",
   "execution_count": 9,
   "id": "eb3e984d",
   "metadata": {},
   "outputs": [
    {
     "data": {
      "text/html": [
       "<div>\n",
       "<style scoped>\n",
       "    .dataframe tbody tr th:only-of-type {\n",
       "        vertical-align: middle;\n",
       "    }\n",
       "\n",
       "    .dataframe tbody tr th {\n",
       "        vertical-align: top;\n",
       "    }\n",
       "\n",
       "    .dataframe thead th {\n",
       "        text-align: right;\n",
       "    }\n",
       "</style>\n",
       "<table border=\"1\" class=\"dataframe\">\n",
       "  <thead>\n",
       "    <tr style=\"text-align: right;\">\n",
       "      <th></th>\n",
       "      <th>Datetime</th>\n",
       "      <th>AEP_MW</th>\n",
       "    </tr>\n",
       "  </thead>\n",
       "  <tbody>\n",
       "    <tr>\n",
       "      <th>721</th>\n",
       "      <td>2004-10-31 02:00:00</td>\n",
       "      <td>NaN</td>\n",
       "    </tr>\n",
       "    <tr>\n",
       "      <th>4418</th>\n",
       "      <td>2005-04-03 03:00:00</td>\n",
       "      <td>NaN</td>\n",
       "    </tr>\n",
       "    <tr>\n",
       "      <th>9457</th>\n",
       "      <td>2005-10-30 02:00:00</td>\n",
       "      <td>NaN</td>\n",
       "    </tr>\n",
       "    <tr>\n",
       "      <th>13154</th>\n",
       "      <td>2006-04-02 03:00:00</td>\n",
       "      <td>NaN</td>\n",
       "    </tr>\n",
       "    <tr>\n",
       "      <th>18193</th>\n",
       "      <td>2006-10-29 02:00:00</td>\n",
       "      <td>NaN</td>\n",
       "    </tr>\n",
       "    <tr>\n",
       "      <th>21386</th>\n",
       "      <td>2007-03-11 03:00:00</td>\n",
       "      <td>NaN</td>\n",
       "    </tr>\n",
       "    <tr>\n",
       "      <th>27097</th>\n",
       "      <td>2007-11-04 02:00:00</td>\n",
       "      <td>NaN</td>\n",
       "    </tr>\n",
       "    <tr>\n",
       "      <th>30122</th>\n",
       "      <td>2008-03-09 03:00:00</td>\n",
       "      <td>NaN</td>\n",
       "    </tr>\n",
       "    <tr>\n",
       "      <th>35833</th>\n",
       "      <td>2008-11-02 02:00:00</td>\n",
       "      <td>NaN</td>\n",
       "    </tr>\n",
       "    <tr>\n",
       "      <th>38858</th>\n",
       "      <td>2009-03-08 03:00:00</td>\n",
       "      <td>NaN</td>\n",
       "    </tr>\n",
       "    <tr>\n",
       "      <th>44569</th>\n",
       "      <td>2009-11-01 02:00:00</td>\n",
       "      <td>NaN</td>\n",
       "    </tr>\n",
       "    <tr>\n",
       "      <th>47762</th>\n",
       "      <td>2010-03-14 03:00:00</td>\n",
       "      <td>NaN</td>\n",
       "    </tr>\n",
       "    <tr>\n",
       "      <th>53473</th>\n",
       "      <td>2010-11-07 02:00:00</td>\n",
       "      <td>NaN</td>\n",
       "    </tr>\n",
       "    <tr>\n",
       "      <th>54263</th>\n",
       "      <td>2010-12-10 00:00:00</td>\n",
       "      <td>NaN</td>\n",
       "    </tr>\n",
       "    <tr>\n",
       "      <th>56498</th>\n",
       "      <td>2011-03-13 03:00:00</td>\n",
       "      <td>NaN</td>\n",
       "    </tr>\n",
       "    <tr>\n",
       "      <th>62209</th>\n",
       "      <td>2011-11-06 02:00:00</td>\n",
       "      <td>NaN</td>\n",
       "    </tr>\n",
       "    <tr>\n",
       "      <th>65234</th>\n",
       "      <td>2012-03-11 03:00:00</td>\n",
       "      <td>NaN</td>\n",
       "    </tr>\n",
       "    <tr>\n",
       "      <th>70945</th>\n",
       "      <td>2012-11-04 02:00:00</td>\n",
       "      <td>NaN</td>\n",
       "    </tr>\n",
       "    <tr>\n",
       "      <th>71715</th>\n",
       "      <td>2012-12-06 04:00:00</td>\n",
       "      <td>NaN</td>\n",
       "    </tr>\n",
       "    <tr>\n",
       "      <th>73970</th>\n",
       "      <td>2013-03-10 03:00:00</td>\n",
       "      <td>NaN</td>\n",
       "    </tr>\n",
       "    <tr>\n",
       "      <th>79681</th>\n",
       "      <td>2013-11-03 02:00:00</td>\n",
       "      <td>NaN</td>\n",
       "    </tr>\n",
       "    <tr>\n",
       "      <th>82706</th>\n",
       "      <td>2014-03-09 03:00:00</td>\n",
       "      <td>NaN</td>\n",
       "    </tr>\n",
       "    <tr>\n",
       "      <th>82765</th>\n",
       "      <td>2014-03-11 14:00:00</td>\n",
       "      <td>NaN</td>\n",
       "    </tr>\n",
       "    <tr>\n",
       "      <th>91442</th>\n",
       "      <td>2015-03-08 03:00:00</td>\n",
       "      <td>NaN</td>\n",
       "    </tr>\n",
       "    <tr>\n",
       "      <th>100346</th>\n",
       "      <td>2016-03-13 03:00:00</td>\n",
       "      <td>NaN</td>\n",
       "    </tr>\n",
       "    <tr>\n",
       "      <th>109082</th>\n",
       "      <td>2017-03-12 03:00:00</td>\n",
       "      <td>NaN</td>\n",
       "    </tr>\n",
       "    <tr>\n",
       "      <th>117818</th>\n",
       "      <td>2018-03-11 03:00:00</td>\n",
       "      <td>NaN</td>\n",
       "    </tr>\n",
       "  </tbody>\n",
       "</table>\n",
       "</div>"
      ],
      "text/plain": [
       "                  Datetime  AEP_MW\n",
       "721    2004-10-31 02:00:00     NaN\n",
       "4418   2005-04-03 03:00:00     NaN\n",
       "9457   2005-10-30 02:00:00     NaN\n",
       "13154  2006-04-02 03:00:00     NaN\n",
       "18193  2006-10-29 02:00:00     NaN\n",
       "21386  2007-03-11 03:00:00     NaN\n",
       "27097  2007-11-04 02:00:00     NaN\n",
       "30122  2008-03-09 03:00:00     NaN\n",
       "35833  2008-11-02 02:00:00     NaN\n",
       "38858  2009-03-08 03:00:00     NaN\n",
       "44569  2009-11-01 02:00:00     NaN\n",
       "47762  2010-03-14 03:00:00     NaN\n",
       "53473  2010-11-07 02:00:00     NaN\n",
       "54263  2010-12-10 00:00:00     NaN\n",
       "56498  2011-03-13 03:00:00     NaN\n",
       "62209  2011-11-06 02:00:00     NaN\n",
       "65234  2012-03-11 03:00:00     NaN\n",
       "70945  2012-11-04 02:00:00     NaN\n",
       "71715  2012-12-06 04:00:00     NaN\n",
       "73970  2013-03-10 03:00:00     NaN\n",
       "79681  2013-11-03 02:00:00     NaN\n",
       "82706  2014-03-09 03:00:00     NaN\n",
       "82765  2014-03-11 14:00:00     NaN\n",
       "91442  2015-03-08 03:00:00     NaN\n",
       "100346 2016-03-13 03:00:00     NaN\n",
       "109082 2017-03-12 03:00:00     NaN\n",
       "117818 2018-03-11 03:00:00     NaN"
      ]
     },
     "execution_count": 9,
     "metadata": {},
     "output_type": "execute_result"
    }
   ],
   "source": [
    "df.reset_index(inplace=True)\n",
    "len_list=df[df['AEP_MW'].isnull()].index.tolist()\n",
    "df.iloc[len_list[:len(len_list)]]"
   ]
  },
  {
   "cell_type": "code",
   "execution_count": 10,
   "id": "a0e3951a",
   "metadata": {},
   "outputs": [
    {
     "name": "stdout",
     "output_type": "stream",
     "text": [
      "values are missing at the following indexes:\n",
      " [721, 4418, 9457, 13154, 18193, 21386, 27097, 30122, 35833, 38858, 44569, 47762, 53473, 54263, 56498, 62209, 65234, 70945, 71715, 73970, 79681, 82706, 82765, 91442, 100346, 109082, 117818]\n"
     ]
    }
   ],
   "source": [
    "print('values are missing at the following indexes:\\n',len_list)"
   ]
  },
  {
   "cell_type": "code",
   "execution_count": 11,
   "id": "bec33e9e",
   "metadata": {},
   "outputs": [
    {
     "data": {
      "text/plain": [
       "Datetime     0\n",
       "AEP_MW      27\n",
       "dtype: int64"
      ]
     },
     "execution_count": 11,
     "metadata": {},
     "output_type": "execute_result"
    }
   ],
   "source": [
    "df.isnull().sum()"
   ]
  },
  {
   "cell_type": "code",
   "execution_count": 12,
   "id": "72da0c15",
   "metadata": {},
   "outputs": [],
   "source": [
    "df['AEP_MW'] = df['AEP_MW'].interpolate()"
   ]
  },
  {
   "cell_type": "code",
   "execution_count": 13,
   "id": "c382f81e",
   "metadata": {},
   "outputs": [
    {
     "data": {
      "text/plain": [
       "Datetime    0\n",
       "AEP_MW      0\n",
       "dtype: int64"
      ]
     },
     "execution_count": 13,
     "metadata": {},
     "output_type": "execute_result"
    }
   ],
   "source": [
    "df.isnull().sum()"
   ]
  },
  {
   "cell_type": "markdown",
   "id": "e283a29f",
   "metadata": {},
   "source": [
    "# Holidays"
   ]
  },
  {
   "cell_type": "code",
   "execution_count": 14,
   "id": "0ef1bf5a",
   "metadata": {},
   "outputs": [
    {
     "data": {
      "text/html": [
       "<div>\n",
       "<style scoped>\n",
       "    .dataframe tbody tr th:only-of-type {\n",
       "        vertical-align: middle;\n",
       "    }\n",
       "\n",
       "    .dataframe tbody tr th {\n",
       "        vertical-align: top;\n",
       "    }\n",
       "\n",
       "    .dataframe thead th {\n",
       "        text-align: right;\n",
       "    }\n",
       "</style>\n",
       "<table border=\"1\" class=\"dataframe\">\n",
       "  <thead>\n",
       "    <tr style=\"text-align: right;\">\n",
       "      <th></th>\n",
       "      <th>Datetime</th>\n",
       "      <th>AEP_MW</th>\n",
       "      <th>Date</th>\n",
       "    </tr>\n",
       "  </thead>\n",
       "  <tbody>\n",
       "    <tr>\n",
       "      <th>0</th>\n",
       "      <td>2004-10-01 01:00:00</td>\n",
       "      <td>12379.0</td>\n",
       "      <td>2004-10-01</td>\n",
       "    </tr>\n",
       "    <tr>\n",
       "      <th>1</th>\n",
       "      <td>2004-10-01 02:00:00</td>\n",
       "      <td>11935.0</td>\n",
       "      <td>2004-10-01</td>\n",
       "    </tr>\n",
       "  </tbody>\n",
       "</table>\n",
       "</div>"
      ],
      "text/plain": [
       "             Datetime   AEP_MW       Date\n",
       "0 2004-10-01 01:00:00  12379.0 2004-10-01\n",
       "1 2004-10-01 02:00:00  11935.0 2004-10-01"
      ]
     },
     "execution_count": 14,
     "metadata": {},
     "output_type": "execute_result"
    }
   ],
   "source": [
    "df['Date'] = df['Datetime'].dt.normalize()\n",
    "df.head(2)"
   ]
  },
  {
   "cell_type": "code",
   "execution_count": 15,
   "id": "55883dfa",
   "metadata": {},
   "outputs": [
    {
     "data": {
      "text/html": [
       "<div>\n",
       "<style scoped>\n",
       "    .dataframe tbody tr th:only-of-type {\n",
       "        vertical-align: middle;\n",
       "    }\n",
       "\n",
       "    .dataframe tbody tr th {\n",
       "        vertical-align: top;\n",
       "    }\n",
       "\n",
       "    .dataframe thead th {\n",
       "        text-align: right;\n",
       "    }\n",
       "</style>\n",
       "<table border=\"1\" class=\"dataframe\">\n",
       "  <thead>\n",
       "    <tr style=\"text-align: right;\">\n",
       "      <th></th>\n",
       "      <th>Date</th>\n",
       "      <th>Holiday</th>\n",
       "      <th>WeekDay</th>\n",
       "      <th>Month</th>\n",
       "      <th>Day</th>\n",
       "      <th>Year</th>\n",
       "    </tr>\n",
       "  </thead>\n",
       "  <tbody>\n",
       "    <tr>\n",
       "      <th>0</th>\n",
       "      <td>2004-01-01</td>\n",
       "      <td>New Year's Day</td>\n",
       "      <td>Thursday</td>\n",
       "      <td>1</td>\n",
       "      <td>1</td>\n",
       "      <td>2004</td>\n",
       "    </tr>\n",
       "    <tr>\n",
       "      <th>1</th>\n",
       "      <td>2004-01-19</td>\n",
       "      <td>Martin Luther King, Jr. Day</td>\n",
       "      <td>Monday</td>\n",
       "      <td>1</td>\n",
       "      <td>19</td>\n",
       "      <td>2004</td>\n",
       "    </tr>\n",
       "    <tr>\n",
       "      <th>2</th>\n",
       "      <td>2004-02-14</td>\n",
       "      <td>Valentine’s Day</td>\n",
       "      <td>Saturday</td>\n",
       "      <td>2</td>\n",
       "      <td>14</td>\n",
       "      <td>2004</td>\n",
       "    </tr>\n",
       "    <tr>\n",
       "      <th>3</th>\n",
       "      <td>2004-02-16</td>\n",
       "      <td>Washington's Birthday</td>\n",
       "      <td>Monday</td>\n",
       "      <td>2</td>\n",
       "      <td>16</td>\n",
       "      <td>2004</td>\n",
       "    </tr>\n",
       "    <tr>\n",
       "      <th>4</th>\n",
       "      <td>2004-04-11</td>\n",
       "      <td>Eastern Easter</td>\n",
       "      <td>Sunday</td>\n",
       "      <td>4</td>\n",
       "      <td>11</td>\n",
       "      <td>2004</td>\n",
       "    </tr>\n",
       "  </tbody>\n",
       "</table>\n",
       "</div>"
      ],
      "text/plain": [
       "        Date                      Holiday   WeekDay  Month  Day  Year\n",
       "0 2004-01-01               New Year's Day  Thursday      1    1  2004\n",
       "1 2004-01-19  Martin Luther King, Jr. Day    Monday      1   19  2004\n",
       "2 2004-02-14              Valentine’s Day  Saturday      2   14  2004\n",
       "3 2004-02-16        Washington's Birthday    Monday      2   16  2004\n",
       "4 2004-04-11               Eastern Easter    Sunday      4   11  2004"
      ]
     },
     "execution_count": 15,
     "metadata": {},
     "output_type": "execute_result"
    }
   ],
   "source": [
    "holiday=pd.read_csv('E:\\\\0_PYTHON\\\\9_Datasets\\\\PJM\\\\processed_holiday.csv',parse_dates=['Date'])\n",
    "holiday.head()"
   ]
  },
  {
   "cell_type": "code",
   "execution_count": 16,
   "id": "f12357e0",
   "metadata": {},
   "outputs": [
    {
     "data": {
      "text/html": [
       "<div>\n",
       "<style scoped>\n",
       "    .dataframe tbody tr th:only-of-type {\n",
       "        vertical-align: middle;\n",
       "    }\n",
       "\n",
       "    .dataframe tbody tr th {\n",
       "        vertical-align: top;\n",
       "    }\n",
       "\n",
       "    .dataframe thead th {\n",
       "        text-align: right;\n",
       "    }\n",
       "</style>\n",
       "<table border=\"1\" class=\"dataframe\">\n",
       "  <thead>\n",
       "    <tr style=\"text-align: right;\">\n",
       "      <th></th>\n",
       "      <th>Datetime</th>\n",
       "      <th>AEP_MW</th>\n",
       "      <th>Date</th>\n",
       "    </tr>\n",
       "  </thead>\n",
       "  <tbody>\n",
       "    <tr>\n",
       "      <th>0</th>\n",
       "      <td>2004-10-01 01:00:00</td>\n",
       "      <td>12379.0</td>\n",
       "      <td>2004-10-01</td>\n",
       "    </tr>\n",
       "    <tr>\n",
       "      <th>1</th>\n",
       "      <td>2004-10-01 02:00:00</td>\n",
       "      <td>11935.0</td>\n",
       "      <td>2004-10-01</td>\n",
       "    </tr>\n",
       "    <tr>\n",
       "      <th>2</th>\n",
       "      <td>2004-10-01 03:00:00</td>\n",
       "      <td>11692.0</td>\n",
       "      <td>2004-10-01</td>\n",
       "    </tr>\n",
       "    <tr>\n",
       "      <th>3</th>\n",
       "      <td>2004-10-01 04:00:00</td>\n",
       "      <td>11597.0</td>\n",
       "      <td>2004-10-01</td>\n",
       "    </tr>\n",
       "    <tr>\n",
       "      <th>4</th>\n",
       "      <td>2004-10-01 05:00:00</td>\n",
       "      <td>11681.0</td>\n",
       "      <td>2004-10-01</td>\n",
       "    </tr>\n",
       "  </tbody>\n",
       "</table>\n",
       "</div>"
      ],
      "text/plain": [
       "             Datetime   AEP_MW       Date\n",
       "0 2004-10-01 01:00:00  12379.0 2004-10-01\n",
       "1 2004-10-01 02:00:00  11935.0 2004-10-01\n",
       "2 2004-10-01 03:00:00  11692.0 2004-10-01\n",
       "3 2004-10-01 04:00:00  11597.0 2004-10-01\n",
       "4 2004-10-01 05:00:00  11681.0 2004-10-01"
      ]
     },
     "execution_count": 16,
     "metadata": {},
     "output_type": "execute_result"
    }
   ],
   "source": [
    "holiday.drop(['WeekDay','Month','Day','Year'],axis=1, inplace=True)\n",
    "df.head()"
   ]
  },
  {
   "cell_type": "code",
   "execution_count": 17,
   "id": "b6cc66d1",
   "metadata": {},
   "outputs": [
    {
     "data": {
      "text/html": [
       "<div>\n",
       "<style scoped>\n",
       "    .dataframe tbody tr th:only-of-type {\n",
       "        vertical-align: middle;\n",
       "    }\n",
       "\n",
       "    .dataframe tbody tr th {\n",
       "        vertical-align: top;\n",
       "    }\n",
       "\n",
       "    .dataframe thead th {\n",
       "        text-align: right;\n",
       "    }\n",
       "</style>\n",
       "<table border=\"1\" class=\"dataframe\">\n",
       "  <thead>\n",
       "    <tr style=\"text-align: right;\">\n",
       "      <th></th>\n",
       "      <th>Datetime</th>\n",
       "      <th>AEP_MW</th>\n",
       "      <th>Date</th>\n",
       "      <th>Holiday</th>\n",
       "    </tr>\n",
       "  </thead>\n",
       "  <tbody>\n",
       "    <tr>\n",
       "      <th>0</th>\n",
       "      <td>2004-10-01 01:00:00</td>\n",
       "      <td>12379.0</td>\n",
       "      <td>2004-10-01</td>\n",
       "      <td>NaN</td>\n",
       "    </tr>\n",
       "    <tr>\n",
       "      <th>1</th>\n",
       "      <td>2004-10-01 02:00:00</td>\n",
       "      <td>11935.0</td>\n",
       "      <td>2004-10-01</td>\n",
       "      <td>NaN</td>\n",
       "    </tr>\n",
       "    <tr>\n",
       "      <th>2</th>\n",
       "      <td>2004-10-01 03:00:00</td>\n",
       "      <td>11692.0</td>\n",
       "      <td>2004-10-01</td>\n",
       "      <td>NaN</td>\n",
       "    </tr>\n",
       "    <tr>\n",
       "      <th>3</th>\n",
       "      <td>2004-10-01 04:00:00</td>\n",
       "      <td>11597.0</td>\n",
       "      <td>2004-10-01</td>\n",
       "      <td>NaN</td>\n",
       "    </tr>\n",
       "    <tr>\n",
       "      <th>4</th>\n",
       "      <td>2004-10-01 05:00:00</td>\n",
       "      <td>11681.0</td>\n",
       "      <td>2004-10-01</td>\n",
       "      <td>NaN</td>\n",
       "    </tr>\n",
       "    <tr>\n",
       "      <th>...</th>\n",
       "      <td>...</td>\n",
       "      <td>...</td>\n",
       "      <td>...</td>\n",
       "      <td>...</td>\n",
       "    </tr>\n",
       "    <tr>\n",
       "      <th>121291</th>\n",
       "      <td>2018-08-02 20:00:00</td>\n",
       "      <td>17673.0</td>\n",
       "      <td>2018-08-02</td>\n",
       "      <td>NaN</td>\n",
       "    </tr>\n",
       "    <tr>\n",
       "      <th>121292</th>\n",
       "      <td>2018-08-02 21:00:00</td>\n",
       "      <td>17303.0</td>\n",
       "      <td>2018-08-02</td>\n",
       "      <td>NaN</td>\n",
       "    </tr>\n",
       "    <tr>\n",
       "      <th>121293</th>\n",
       "      <td>2018-08-02 22:00:00</td>\n",
       "      <td>17001.0</td>\n",
       "      <td>2018-08-02</td>\n",
       "      <td>NaN</td>\n",
       "    </tr>\n",
       "    <tr>\n",
       "      <th>121294</th>\n",
       "      <td>2018-08-02 23:00:00</td>\n",
       "      <td>15964.0</td>\n",
       "      <td>2018-08-02</td>\n",
       "      <td>NaN</td>\n",
       "    </tr>\n",
       "    <tr>\n",
       "      <th>121295</th>\n",
       "      <td>2018-08-03 00:00:00</td>\n",
       "      <td>14809.0</td>\n",
       "      <td>2018-08-03</td>\n",
       "      <td>NaN</td>\n",
       "    </tr>\n",
       "  </tbody>\n",
       "</table>\n",
       "<p>121296 rows × 4 columns</p>\n",
       "</div>"
      ],
      "text/plain": [
       "                  Datetime   AEP_MW       Date Holiday\n",
       "0      2004-10-01 01:00:00  12379.0 2004-10-01     NaN\n",
       "1      2004-10-01 02:00:00  11935.0 2004-10-01     NaN\n",
       "2      2004-10-01 03:00:00  11692.0 2004-10-01     NaN\n",
       "3      2004-10-01 04:00:00  11597.0 2004-10-01     NaN\n",
       "4      2004-10-01 05:00:00  11681.0 2004-10-01     NaN\n",
       "...                    ...      ...        ...     ...\n",
       "121291 2018-08-02 20:00:00  17673.0 2018-08-02     NaN\n",
       "121292 2018-08-02 21:00:00  17303.0 2018-08-02     NaN\n",
       "121293 2018-08-02 22:00:00  17001.0 2018-08-02     NaN\n",
       "121294 2018-08-02 23:00:00  15964.0 2018-08-02     NaN\n",
       "121295 2018-08-03 00:00:00  14809.0 2018-08-03     NaN\n",
       "\n",
       "[121296 rows x 4 columns]"
      ]
     },
     "execution_count": 17,
     "metadata": {},
     "output_type": "execute_result"
    }
   ],
   "source": [
    "mergedf = pd.merge(df, holiday, on= 'Date', how=\"left\")\n",
    "mergedf"
   ]
  },
  {
   "cell_type": "code",
   "execution_count": 18,
   "id": "86f37559",
   "metadata": {},
   "outputs": [
    {
     "data": {
      "text/html": [
       "<div>\n",
       "<style scoped>\n",
       "    .dataframe tbody tr th:only-of-type {\n",
       "        vertical-align: middle;\n",
       "    }\n",
       "\n",
       "    .dataframe tbody tr th {\n",
       "        vertical-align: top;\n",
       "    }\n",
       "\n",
       "    .dataframe thead th {\n",
       "        text-align: right;\n",
       "    }\n",
       "</style>\n",
       "<table border=\"1\" class=\"dataframe\">\n",
       "  <thead>\n",
       "    <tr style=\"text-align: right;\">\n",
       "      <th></th>\n",
       "      <th>Datetime</th>\n",
       "      <th>AEP_MW</th>\n",
       "      <th>Date</th>\n",
       "      <th>Holiday</th>\n",
       "    </tr>\n",
       "  </thead>\n",
       "  <tbody>\n",
       "    <tr>\n",
       "      <th>0</th>\n",
       "      <td>2004-10-01 01:00:00</td>\n",
       "      <td>12379.0</td>\n",
       "      <td>2004-10-01</td>\n",
       "      <td>0</td>\n",
       "    </tr>\n",
       "    <tr>\n",
       "      <th>1</th>\n",
       "      <td>2004-10-01 02:00:00</td>\n",
       "      <td>11935.0</td>\n",
       "      <td>2004-10-01</td>\n",
       "      <td>0</td>\n",
       "    </tr>\n",
       "    <tr>\n",
       "      <th>2</th>\n",
       "      <td>2004-10-01 03:00:00</td>\n",
       "      <td>11692.0</td>\n",
       "      <td>2004-10-01</td>\n",
       "      <td>0</td>\n",
       "    </tr>\n",
       "    <tr>\n",
       "      <th>3</th>\n",
       "      <td>2004-10-01 04:00:00</td>\n",
       "      <td>11597.0</td>\n",
       "      <td>2004-10-01</td>\n",
       "      <td>0</td>\n",
       "    </tr>\n",
       "    <tr>\n",
       "      <th>4</th>\n",
       "      <td>2004-10-01 05:00:00</td>\n",
       "      <td>11681.0</td>\n",
       "      <td>2004-10-01</td>\n",
       "      <td>0</td>\n",
       "    </tr>\n",
       "  </tbody>\n",
       "</table>\n",
       "</div>"
      ],
      "text/plain": [
       "             Datetime   AEP_MW       Date  Holiday\n",
       "0 2004-10-01 01:00:00  12379.0 2004-10-01        0\n",
       "1 2004-10-01 02:00:00  11935.0 2004-10-01        0\n",
       "2 2004-10-01 03:00:00  11692.0 2004-10-01        0\n",
       "3 2004-10-01 04:00:00  11597.0 2004-10-01        0\n",
       "4 2004-10-01 05:00:00  11681.0 2004-10-01        0"
      ]
     },
     "execution_count": 18,
     "metadata": {},
     "output_type": "execute_result"
    }
   ],
   "source": [
    "mergedf['Holiday'] = mergedf['Holiday'].notnull().astype(\"int\")\n",
    "mergedf.head()"
   ]
  },
  {
   "cell_type": "code",
   "execution_count": 19,
   "id": "7b006a0f",
   "metadata": {},
   "outputs": [
    {
     "data": {
      "text/html": [
       "<div>\n",
       "<style scoped>\n",
       "    .dataframe tbody tr th:only-of-type {\n",
       "        vertical-align: middle;\n",
       "    }\n",
       "\n",
       "    .dataframe tbody tr th {\n",
       "        vertical-align: top;\n",
       "    }\n",
       "\n",
       "    .dataframe thead th {\n",
       "        text-align: right;\n",
       "    }\n",
       "</style>\n",
       "<table border=\"1\" class=\"dataframe\">\n",
       "  <thead>\n",
       "    <tr style=\"text-align: right;\">\n",
       "      <th></th>\n",
       "      <th>Datetime</th>\n",
       "      <th>AEP_MW</th>\n",
       "      <th>Holiday</th>\n",
       "    </tr>\n",
       "  </thead>\n",
       "  <tbody>\n",
       "    <tr>\n",
       "      <th>0</th>\n",
       "      <td>2004-10-01 01:00:00</td>\n",
       "      <td>12379.0</td>\n",
       "      <td>0</td>\n",
       "    </tr>\n",
       "  </tbody>\n",
       "</table>\n",
       "</div>"
      ],
      "text/plain": [
       "             Datetime   AEP_MW  Holiday\n",
       "0 2004-10-01 01:00:00  12379.0        0"
      ]
     },
     "execution_count": 19,
     "metadata": {},
     "output_type": "execute_result"
    }
   ],
   "source": [
    "mergedf.drop(['Date'],axis=1,inplace=True)\n",
    "mergedf.head(1)"
   ]
  },
  {
   "cell_type": "code",
   "execution_count": 20,
   "id": "0808e986",
   "metadata": {},
   "outputs": [],
   "source": [
    "mergedf.to_csv('E:\\\\0_PYTHON\\\\9_Datasets\\\\PJM\\\\AEP_hourly_processd.csv',index=False)"
   ]
  }
 ],
 "metadata": {
  "kernelspec": {
   "display_name": "Python 3 (ipykernel)",
   "language": "python",
   "name": "python3"
  },
  "language_info": {
   "codemirror_mode": {
    "name": "ipython",
    "version": 3
   },
   "file_extension": ".py",
   "mimetype": "text/x-python",
   "name": "python",
   "nbconvert_exporter": "python",
   "pygments_lexer": "ipython3",
   "version": "3.9.12"
  }
 },
 "nbformat": 4,
 "nbformat_minor": 5
}
