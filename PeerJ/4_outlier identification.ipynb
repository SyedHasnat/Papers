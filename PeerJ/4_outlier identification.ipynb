{
 "cells": [
  {
   "cell_type": "code",
   "execution_count": 1,
   "id": "ab3405da",
   "metadata": {},
   "outputs": [],
   "source": [
    "import pandas as pd\n",
    "import numpy as np\n",
    "import matplotlib.pyplot as plt\n",
    "#import seaborn as sns\n",
    "%matplotlib inline"
   ]
  },
  {
   "cell_type": "code",
   "execution_count": 22,
   "id": "ece3f07f",
   "metadata": {},
   "outputs": [],
   "source": [
    "df = pd.read_csv('C:\\\\Users\\\\arif\\\\OneDrive\\\\Journal Paper\\\\Code\\\\Irshad\\\\Dataset\\\\2_Missing_Values_Identified.csv', parse_dates=['date_and_hour'], index_col='date_and_hour')"
   ]
  },
  {
   "cell_type": "code",
   "execution_count": 23,
   "id": "33244489",
   "metadata": {},
   "outputs": [
    {
     "data": {
      "text/plain": [
       "<AxesSubplot:>"
      ]
     },
     "execution_count": 23,
     "metadata": {},
     "output_type": "execute_result"
    },
    {
     "data": {
      "image/png": "[encoded data removed]",
      "text/plain": [
       "<Figure size 432x288 with 1 Axes>"
      ]
     },
     "metadata": {
      "needs_background": "light"
     },
     "output_type": "display_data"
    }
   ],
   "source": [
    "df.boxplot('System_load')"
   ]
  },
  {
   "cell_type": "code",
   "execution_count": 24,
   "id": "083157e5",
   "metadata": {},
   "outputs": [],
   "source": [
    "def detect_outliers_iqr(data):\n",
    "    outliers = []\n",
    "    #data = sorted(data)\n",
    "    q1 = data['System_load'].quantile(0.25)\n",
    "    q3 = data['System_load'].quantile(0.75)\n",
    "    # print(q1, q3)\n",
    "    IQR = q3-q1\n",
    "    lwr_bound = q1-(1.5*IQR)\n",
    "    upr_bound = q3+(1.5*IQR)\n",
    "    # print(lwr_bound, upr_bound)\n",
    "    idx = 2\n",
    "    idx_list = []\n",
    "    for i in list(data['System_load']): \n",
    "        if (i<lwr_bound or i>upr_bound):\n",
    "            outliers.append(i)\n",
    "            idx_list.append(idx)\n",
    "        idx = idx + 1\n",
    "    data.loc[data['System_load'] < lwr_bound, 'System_load'] = np.nan\n",
    "    data.loc[data['System_load'] > upr_bound, 'System_load'] = np.nan\n",
    "    return outliers, data, idx_list# Driver code"
   ]
  },
  {
   "cell_type": "code",
   "execution_count": 25,
   "id": "2ee57808",
   "metadata": {},
   "outputs": [
    {
     "name": "stdout",
     "output_type": "stream",
     "text": [
      "Outliers from IQR method:  [1256.0, 1414.0, 1548.0, 637.0, 473.0, 754.0, 943.0, 1457.0, 1098.0, 24786.0]\n"
     ]
    }
   ],
   "source": [
    "sample_outliers, p_data, index_of_out = detect_outliers_iqr(df)\n",
    "print(\"Outliers from IQR method: \", sample_outliers)"
   ]
  },
  {
   "cell_type": "code",
   "execution_count": 26,
   "id": "6df87a2a",
   "metadata": {},
   "outputs": [
    {
     "data": {
      "text/plain": [
       "183"
      ]
     },
     "execution_count": 26,
     "metadata": {},
     "output_type": "execute_result"
    }
   ],
   "source": [
    "pd.isnull(p_data['System_load']).sum()"
   ]
  },
  {
   "cell_type": "code",
   "execution_count": 27,
   "id": "1a3f2772",
   "metadata": {},
   "outputs": [
    {
     "data": {
      "text/plain": [
       "[175, 176, 177, 577, 578, 579, 580, 581, 582, 13826]"
      ]
     },
     "execution_count": 27,
     "metadata": {},
     "output_type": "execute_result"
    }
   ],
   "source": [
    "index_of_out"
   ]
  },
  {
   "cell_type": "code",
   "execution_count": 29,
   "id": "ea651102",
   "metadata": {},
   "outputs": [],
   "source": [
    "p_data.reset_index(inplace=True)"
   ]
  },
  {
   "cell_type": "code",
   "execution_count": 30,
   "id": "bd71a1bd",
   "metadata": {},
   "outputs": [],
   "source": [
    "p_data.to_csv('C:\\\\Users\\\\arif\\\\OneDrive\\\\Journal Paper\\\\Code\\\\Irshad\\\\Dataset\\\\3_Outlier_Identified.csv',index=False)"
   ]
  },
  {
   "cell_type": "code",
   "execution_count": null,
   "id": "5eb3e8c5",
   "metadata": {},
   "outputs": [],
   "source": []
  }
 ],
 "metadata": {
  "kernelspec": {
   "display_name": "Python 3 (ipykernel)",
   "language": "python",
   "name": "python3"
  },
  "language_info": {
   "codemirror_mode": {
    "name": "ipython",
    "version": 3
   },
   "file_extension": ".py",
   "mimetype": "text/x-python",
   "name": "python",
   "nbconvert_exporter": "python",
   "pygments_lexer": "ipython3",
   "version": "3.7.13"
  }
 },
 "nbformat": 4,
 "nbformat_minor": 5
}
