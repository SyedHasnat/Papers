{
 "cells": [
  {
   "cell_type": "code",
   "execution_count": 31,
   "metadata": {},
   "outputs": [],
   "source": [
    "import pandas as pd\n",
    "import numpy as np\n",
    "import matplotlib.pyplot as plt\n",
    "import seaborn as sns\n",
    "%matplotlib inline"
   ]
  },
  {
   "cell_type": "code",
   "execution_count": 32,
   "metadata": {},
   "outputs": [
    {
     "data": {
      "text/html": [
       "<div>\n",
       "<style scoped>\n",
       "    .dataframe tbody tr th:only-of-type {\n",
       "        vertical-align: middle;\n",
       "    }\n",
       "\n",
       "    .dataframe tbody tr th {\n",
       "        vertical-align: top;\n",
       "    }\n",
       "\n",
       "    .dataframe thead th {\n",
       "        text-align: right;\n",
       "    }\n",
       "</style>\n",
       "<table border=\"1\" class=\"dataframe\">\n",
       "  <thead>\n",
       "    <tr style=\"text-align: right;\">\n",
       "      <th></th>\n",
       "      <th>Date</th>\n",
       "      <th>HOUR</th>\n",
       "      <th>System_load</th>\n",
       "    </tr>\n",
       "  </thead>\n",
       "  <tbody>\n",
       "    <tr>\n",
       "      <th>0</th>\n",
       "      <td>01/01/2015</td>\n",
       "      <td>1</td>\n",
       "      <td>8288</td>\n",
       "    </tr>\n",
       "    <tr>\n",
       "      <th>1</th>\n",
       "      <td>01/01/2015</td>\n",
       "      <td>2</td>\n",
       "      <td>8099</td>\n",
       "    </tr>\n",
       "  </tbody>\n",
       "</table>\n",
       "</div>"
      ],
      "text/plain": [
       "         Date  HOUR System_load\n",
       "0  01/01/2015     1        8288\n",
       "1  01/01/2015     2        8099"
      ]
     },
     "execution_count": 32,
     "metadata": {},
     "output_type": "execute_result"
    }
   ],
   "source": [
    "df=pd.read_csv('C:\\\\Users\\\\arif\\\\OneDrive\\\\Journal Paper\\\\Code\\\\Irshad\\\\Dataset\\\\1_Originol_DataSet.csv')\n",
    "df.head(2)"
   ]
  },
  {
   "cell_type": "code",
   "execution_count": 33,
   "metadata": {},
   "outputs": [
    {
     "name": "stdout",
     "output_type": "stream",
     "text": [
      "Data Points=  46608\n"
     ]
    }
   ],
   "source": [
    "print('Data Points= ',len(df))"
   ]
  },
  {
   "cell_type": "code",
   "execution_count": 34,
   "metadata": {},
   "outputs": [
    {
     "name": "stdout",
     "output_type": "stream",
     "text": [
      "<class 'pandas.core.frame.DataFrame'>\n",
      "RangeIndex: 46608 entries, 0 to 46607\n",
      "Data columns (total 3 columns):\n",
      " #   Column       Non-Null Count  Dtype \n",
      "---  ------       --------------  ----- \n",
      " 0   Date         46608 non-null  object\n",
      " 1   HOUR         46608 non-null  int64 \n",
      " 2   System_load  46608 non-null  object\n",
      "dtypes: int64(1), object(2)\n",
      "memory usage: 1.1+ MB\n"
     ]
    }
   ],
   "source": [
    "df.info()"
   ]
  },
  {
   "cell_type": "code",
   "execution_count": 35,
   "metadata": {},
   "outputs": [],
   "source": [
    "df['Date']=pd.to_datetime(df['Date'], dayfirst=True, format=\"%d/%m/%Y\")"
   ]
  },
  {
   "cell_type": "code",
   "execution_count": 36,
   "metadata": {},
   "outputs": [
    {
     "data": {
      "text/html": [
       "<div>\n",
       "<style scoped>\n",
       "    .dataframe tbody tr th:only-of-type {\n",
       "        vertical-align: middle;\n",
       "    }\n",
       "\n",
       "    .dataframe tbody tr th {\n",
       "        vertical-align: top;\n",
       "    }\n",
       "\n",
       "    .dataframe thead th {\n",
       "        text-align: right;\n",
       "    }\n",
       "</style>\n",
       "<table border=\"1\" class=\"dataframe\">\n",
       "  <thead>\n",
       "    <tr style=\"text-align: right;\">\n",
       "      <th></th>\n",
       "      <th>System_load</th>\n",
       "      <th>date_and_hour</th>\n",
       "    </tr>\n",
       "  </thead>\n",
       "  <tbody>\n",
       "    <tr>\n",
       "      <th>0</th>\n",
       "      <td>8288</td>\n",
       "      <td>2015-01-01 0:00:00</td>\n",
       "    </tr>\n",
       "    <tr>\n",
       "      <th>1</th>\n",
       "      <td>8099</td>\n",
       "      <td>2015-01-01 1:00:00</td>\n",
       "    </tr>\n",
       "    <tr>\n",
       "      <th>2</th>\n",
       "      <td>7994</td>\n",
       "      <td>2015-01-01 2:00:00</td>\n",
       "    </tr>\n",
       "    <tr>\n",
       "      <th>3</th>\n",
       "      <td>7965</td>\n",
       "      <td>2015-01-01 3:00:00</td>\n",
       "    </tr>\n",
       "    <tr>\n",
       "      <th>4</th>\n",
       "      <td>8120</td>\n",
       "      <td>2015-01-01 4:00:00</td>\n",
       "    </tr>\n",
       "  </tbody>\n",
       "</table>\n",
       "</div>"
      ],
      "text/plain": [
       "  System_load       date_and_hour\n",
       "0        8288  2015-01-01 0:00:00\n",
       "1        8099  2015-01-01 1:00:00\n",
       "2        7994  2015-01-01 2:00:00\n",
       "3        7965  2015-01-01 3:00:00\n",
       "4        8120  2015-01-01 4:00:00"
      ]
     },
     "execution_count": 36,
     "metadata": {},
     "output_type": "execute_result"
    }
   ],
   "source": [
    "df['rough']='00:00'\n",
    "df['hour']=df['HOUR']-1\n",
    "df[\"hour_m_s\"] = df['hour'].astype(str) +\":\"+ df[\"rough\"].astype(str)\n",
    "df[\"date_and_hour\"] = df['Date'].astype(str) +\" \"+ df[\"hour_m_s\"].astype(str)\n",
    "del df[\"hour_m_s\"]\n",
    "del df[\"rough\"]\n",
    "del df['hour']\n",
    "del df['HOUR']\n",
    "del df['Date']\n",
    "df.head()"
   ]
  },
  {
   "cell_type": "code",
   "execution_count": 37,
   "metadata": {},
   "outputs": [
    {
     "name": "stdout",
     "output_type": "stream",
     "text": [
      "<class 'pandas.core.frame.DataFrame'>\n",
      "RangeIndex: 46608 entries, 0 to 46607\n",
      "Data columns (total 2 columns):\n",
      " #   Column         Non-Null Count  Dtype         \n",
      "---  ------         --------------  -----         \n",
      " 0   System_load    46608 non-null  object        \n",
      " 1   date_and_hour  46608 non-null  datetime64[ns]\n",
      "dtypes: datetime64[ns](1), object(1)\n",
      "memory usage: 728.4+ KB\n"
     ]
    }
   ],
   "source": [
    "df['date_and_hour']=pd.to_datetime(df['date_and_hour'])\n",
    "df.info()"
   ]
  },
  {
   "cell_type": "code",
   "execution_count": 38,
   "metadata": {},
   "outputs": [
    {
     "data": {
      "text/html": [
       "<div>\n",
       "<style scoped>\n",
       "    .dataframe tbody tr th:only-of-type {\n",
       "        vertical-align: middle;\n",
       "    }\n",
       "\n",
       "    .dataframe tbody tr th {\n",
       "        vertical-align: top;\n",
       "    }\n",
       "\n",
       "    .dataframe thead th {\n",
       "        text-align: right;\n",
       "    }\n",
       "</style>\n",
       "<table border=\"1\" class=\"dataframe\">\n",
       "  <thead>\n",
       "    <tr style=\"text-align: right;\">\n",
       "      <th></th>\n",
       "      <th>System_load</th>\n",
       "      <th>date_and_hour</th>\n",
       "    </tr>\n",
       "  </thead>\n",
       "  <tbody>\n",
       "    <tr>\n",
       "      <th>0</th>\n",
       "      <td>8288</td>\n",
       "      <td>2015-01-01 00:00:00</td>\n",
       "    </tr>\n",
       "    <tr>\n",
       "      <th>1</th>\n",
       "      <td>8099</td>\n",
       "      <td>2015-01-01 01:00:00</td>\n",
       "    </tr>\n",
       "    <tr>\n",
       "      <th>2</th>\n",
       "      <td>7994</td>\n",
       "      <td>2015-01-01 02:00:00</td>\n",
       "    </tr>\n",
       "    <tr>\n",
       "      <th>3</th>\n",
       "      <td>7965</td>\n",
       "      <td>2015-01-01 03:00:00</td>\n",
       "    </tr>\n",
       "    <tr>\n",
       "      <th>4</th>\n",
       "      <td>8120</td>\n",
       "      <td>2015-01-01 04:00:00</td>\n",
       "    </tr>\n",
       "    <tr>\n",
       "      <th>...</th>\n",
       "      <td>...</td>\n",
       "      <td>...</td>\n",
       "    </tr>\n",
       "    <tr>\n",
       "      <th>46603</th>\n",
       "      <td>16858</td>\n",
       "      <td>2020-04-30 19:00:00</td>\n",
       "    </tr>\n",
       "    <tr>\n",
       "      <th>46604</th>\n",
       "      <td>17105</td>\n",
       "      <td>2020-04-30 20:00:00</td>\n",
       "    </tr>\n",
       "    <tr>\n",
       "      <th>46605</th>\n",
       "      <td>16824</td>\n",
       "      <td>2020-04-30 21:00:00</td>\n",
       "    </tr>\n",
       "    <tr>\n",
       "      <th>46606</th>\n",
       "      <td>16332</td>\n",
       "      <td>2020-04-30 22:00:00</td>\n",
       "    </tr>\n",
       "    <tr>\n",
       "      <th>46607</th>\n",
       "      <td>15003</td>\n",
       "      <td>2020-04-30 23:00:00</td>\n",
       "    </tr>\n",
       "  </tbody>\n",
       "</table>\n",
       "<p>46608 rows × 2 columns</p>\n",
       "</div>"
      ],
      "text/plain": [
       "      System_load       date_and_hour\n",
       "0            8288 2015-01-01 00:00:00\n",
       "1            8099 2015-01-01 01:00:00\n",
       "2            7994 2015-01-01 02:00:00\n",
       "3            7965 2015-01-01 03:00:00\n",
       "4            8120 2015-01-01 04:00:00\n",
       "...           ...                 ...\n",
       "46603       16858 2020-04-30 19:00:00\n",
       "46604       17105 2020-04-30 20:00:00\n",
       "46605       16824 2020-04-30 21:00:00\n",
       "46606       16332 2020-04-30 22:00:00\n",
       "46607       15003 2020-04-30 23:00:00\n",
       "\n",
       "[46608 rows x 2 columns]"
      ]
     },
     "execution_count": 38,
     "metadata": {},
     "output_type": "execute_result"
    }
   ],
   "source": [
    "#df.set_index('date_and_hour', inplace=True)\n",
    "df"
   ]
  },
  {
   "cell_type": "code",
   "execution_count": 39,
   "metadata": {},
   "outputs": [
    {
     "data": {
      "text/html": [
       "<div>\n",
       "<style scoped>\n",
       "    .dataframe tbody tr th:only-of-type {\n",
       "        vertical-align: middle;\n",
       "    }\n",
       "\n",
       "    .dataframe tbody tr th {\n",
       "        vertical-align: top;\n",
       "    }\n",
       "\n",
       "    .dataframe thead th {\n",
       "        text-align: right;\n",
       "    }\n",
       "</style>\n",
       "<table border=\"1\" class=\"dataframe\">\n",
       "  <thead>\n",
       "    <tr style=\"text-align: right;\">\n",
       "      <th></th>\n",
       "      <th>System_load</th>\n",
       "      <th>date_and_hour</th>\n",
       "    </tr>\n",
       "  </thead>\n",
       "  <tbody>\n",
       "    <tr>\n",
       "      <th>0</th>\n",
       "      <td>8288</td>\n",
       "      <td>2015-01-01 00:00:00</td>\n",
       "    </tr>\n",
       "    <tr>\n",
       "      <th>1</th>\n",
       "      <td>8099</td>\n",
       "      <td>2015-01-01 01:00:00</td>\n",
       "    </tr>\n",
       "    <tr>\n",
       "      <th>2</th>\n",
       "      <td>7994</td>\n",
       "      <td>2015-01-01 02:00:00</td>\n",
       "    </tr>\n",
       "    <tr>\n",
       "      <th>3</th>\n",
       "      <td>7965</td>\n",
       "      <td>2015-01-01 03:00:00</td>\n",
       "    </tr>\n",
       "    <tr>\n",
       "      <th>4</th>\n",
       "      <td>8120</td>\n",
       "      <td>2015-01-01 04:00:00</td>\n",
       "    </tr>\n",
       "    <tr>\n",
       "      <th>...</th>\n",
       "      <td>...</td>\n",
       "      <td>...</td>\n",
       "    </tr>\n",
       "    <tr>\n",
       "      <th>46603</th>\n",
       "      <td>16858</td>\n",
       "      <td>2020-04-30 19:00:00</td>\n",
       "    </tr>\n",
       "    <tr>\n",
       "      <th>46604</th>\n",
       "      <td>17105</td>\n",
       "      <td>2020-04-30 20:00:00</td>\n",
       "    </tr>\n",
       "    <tr>\n",
       "      <th>46605</th>\n",
       "      <td>16824</td>\n",
       "      <td>2020-04-30 21:00:00</td>\n",
       "    </tr>\n",
       "    <tr>\n",
       "      <th>46606</th>\n",
       "      <td>16332</td>\n",
       "      <td>2020-04-30 22:00:00</td>\n",
       "    </tr>\n",
       "    <tr>\n",
       "      <th>46607</th>\n",
       "      <td>15003</td>\n",
       "      <td>2020-04-30 23:00:00</td>\n",
       "    </tr>\n",
       "  </tbody>\n",
       "</table>\n",
       "<p>46557 rows × 2 columns</p>\n",
       "</div>"
      ],
      "text/plain": [
       "      System_load       date_and_hour\n",
       "0            8288 2015-01-01 00:00:00\n",
       "1            8099 2015-01-01 01:00:00\n",
       "2            7994 2015-01-01 02:00:00\n",
       "3            7965 2015-01-01 03:00:00\n",
       "4            8120 2015-01-01 04:00:00\n",
       "...           ...                 ...\n",
       "46603       16858 2020-04-30 19:00:00\n",
       "46604       17105 2020-04-30 20:00:00\n",
       "46605       16824 2020-04-30 21:00:00\n",
       "46606       16332 2020-04-30 22:00:00\n",
       "46607       15003 2020-04-30 23:00:00\n",
       "\n",
       "[46557 rows x 2 columns]"
      ]
     },
     "execution_count": 39,
     "metadata": {},
     "output_type": "execute_result"
    }
   ],
   "source": [
    "# Drop Duplicates Except the First Occurrence\n",
    "df.drop_duplicates(subset=['date_and_hour'], keep ='first',  inplace= True)\n",
    "df"
   ]
  },
  {
   "cell_type": "code",
   "execution_count": 50,
   "metadata": {},
   "outputs": [
    {
     "data": {
      "text/html": [
       "<div>\n",
       "<style scoped>\n",
       "    .dataframe tbody tr th:only-of-type {\n",
       "        vertical-align: middle;\n",
       "    }\n",
       "\n",
       "    .dataframe tbody tr th {\n",
       "        vertical-align: top;\n",
       "    }\n",
       "\n",
       "    .dataframe thead th {\n",
       "        text-align: right;\n",
       "    }\n",
       "</style>\n",
       "<table border=\"1\" class=\"dataframe\">\n",
       "  <thead>\n",
       "    <tr style=\"text-align: right;\">\n",
       "      <th></th>\n",
       "      <th>date_and_hour</th>\n",
       "      <th>System_load</th>\n",
       "    </tr>\n",
       "  </thead>\n",
       "  <tbody>\n",
       "    <tr>\n",
       "      <th>120</th>\n",
       "      <td>2015-01-06 00:00:00</td>\n",
       "      <td>8212.0</td>\n",
       "    </tr>\n",
       "    <tr>\n",
       "      <th>121</th>\n",
       "      <td>2015-01-06 01:00:00</td>\n",
       "      <td>8134.0</td>\n",
       "    </tr>\n",
       "    <tr>\n",
       "      <th>122</th>\n",
       "      <td>2015-01-06 02:00:00</td>\n",
       "      <td>8014.0</td>\n",
       "    </tr>\n",
       "    <tr>\n",
       "      <th>123</th>\n",
       "      <td>2015-01-06 03:00:00</td>\n",
       "      <td>7699.0</td>\n",
       "    </tr>\n",
       "    <tr>\n",
       "      <th>124</th>\n",
       "      <td>2015-01-06 04:00:00</td>\n",
       "      <td>7652.0</td>\n",
       "    </tr>\n",
       "    <tr>\n",
       "      <th>125</th>\n",
       "      <td>2015-01-06 05:00:00</td>\n",
       "      <td>7947.0</td>\n",
       "    </tr>\n",
       "    <tr>\n",
       "      <th>126</th>\n",
       "      <td>2015-01-06 06:00:00</td>\n",
       "      <td>8399.0</td>\n",
       "    </tr>\n",
       "    <tr>\n",
       "      <th>127</th>\n",
       "      <td>2015-01-06 07:00:00</td>\n",
       "      <td>8428.0</td>\n",
       "    </tr>\n",
       "    <tr>\n",
       "      <th>128</th>\n",
       "      <td>2015-01-06 08:00:00</td>\n",
       "      <td>8083.0</td>\n",
       "    </tr>\n",
       "    <tr>\n",
       "      <th>129</th>\n",
       "      <td>2015-01-06 09:00:00</td>\n",
       "      <td>8042.0</td>\n",
       "    </tr>\n",
       "    <tr>\n",
       "      <th>130</th>\n",
       "      <td>2015-01-06 10:00:00</td>\n",
       "      <td>8055.0</td>\n",
       "    </tr>\n",
       "    <tr>\n",
       "      <th>131</th>\n",
       "      <td>2015-01-06 11:00:00</td>\n",
       "      <td>8282.0</td>\n",
       "    </tr>\n",
       "    <tr>\n",
       "      <th>132</th>\n",
       "      <td>2015-01-06 12:00:00</td>\n",
       "      <td>9066.0</td>\n",
       "    </tr>\n",
       "    <tr>\n",
       "      <th>133</th>\n",
       "      <td>2015-01-06 13:00:00</td>\n",
       "      <td>9117.0</td>\n",
       "    </tr>\n",
       "    <tr>\n",
       "      <th>134</th>\n",
       "      <td>2015-01-06 14:00:00</td>\n",
       "      <td>9088.0</td>\n",
       "    </tr>\n",
       "    <tr>\n",
       "      <th>135</th>\n",
       "      <td>2015-01-06 15:00:00</td>\n",
       "      <td>9117.0</td>\n",
       "    </tr>\n",
       "    <tr>\n",
       "      <th>136</th>\n",
       "      <td>2015-01-06 16:00:00</td>\n",
       "      <td>9151.0</td>\n",
       "    </tr>\n",
       "    <tr>\n",
       "      <th>137</th>\n",
       "      <td>2015-01-06 17:00:00</td>\n",
       "      <td>9455.0</td>\n",
       "    </tr>\n",
       "    <tr>\n",
       "      <th>138</th>\n",
       "      <td>2015-01-06 18:00:00</td>\n",
       "      <td>9463.0</td>\n",
       "    </tr>\n",
       "    <tr>\n",
       "      <th>139</th>\n",
       "      <td>2015-01-06 19:00:00</td>\n",
       "      <td>9946.0</td>\n",
       "    </tr>\n",
       "    <tr>\n",
       "      <th>140</th>\n",
       "      <td>2015-01-06 20:00:00</td>\n",
       "      <td>10209.0</td>\n",
       "    </tr>\n",
       "    <tr>\n",
       "      <th>141</th>\n",
       "      <td>2015-01-06 21:00:00</td>\n",
       "      <td>9581.0</td>\n",
       "    </tr>\n",
       "    <tr>\n",
       "      <th>142</th>\n",
       "      <td>2015-01-06 22:00:00</td>\n",
       "      <td>8913.0</td>\n",
       "    </tr>\n",
       "    <tr>\n",
       "      <th>143</th>\n",
       "      <td>2015-01-06 23:00:00</td>\n",
       "      <td>8806.0</td>\n",
       "    </tr>\n",
       "    <tr>\n",
       "      <th>144</th>\n",
       "      <td>2015-01-07 00:00:00</td>\n",
       "      <td>8181.0</td>\n",
       "    </tr>\n",
       "    <tr>\n",
       "      <th>145</th>\n",
       "      <td>2015-01-07 01:00:00</td>\n",
       "      <td>8175.0</td>\n",
       "    </tr>\n",
       "    <tr>\n",
       "      <th>146</th>\n",
       "      <td>2015-01-07 02:00:00</td>\n",
       "      <td>8053.0</td>\n",
       "    </tr>\n",
       "    <tr>\n",
       "      <th>147</th>\n",
       "      <td>2015-01-07 03:00:00</td>\n",
       "      <td>7794.0</td>\n",
       "    </tr>\n",
       "    <tr>\n",
       "      <th>148</th>\n",
       "      <td>2015-01-07 04:00:00</td>\n",
       "      <td>7882.0</td>\n",
       "    </tr>\n",
       "    <tr>\n",
       "      <th>149</th>\n",
       "      <td>2015-01-07 05:00:00</td>\n",
       "      <td>8423.0</td>\n",
       "    </tr>\n",
       "  </tbody>\n",
       "</table>\n",
       "</div>"
      ],
      "text/plain": [
       "          date_and_hour  System_load\n",
       "120 2015-01-06 00:00:00       8212.0\n",
       "121 2015-01-06 01:00:00       8134.0\n",
       "122 2015-01-06 02:00:00       8014.0\n",
       "123 2015-01-06 03:00:00       7699.0\n",
       "124 2015-01-06 04:00:00       7652.0\n",
       "125 2015-01-06 05:00:00       7947.0\n",
       "126 2015-01-06 06:00:00       8399.0\n",
       "127 2015-01-06 07:00:00       8428.0\n",
       "128 2015-01-06 08:00:00       8083.0\n",
       "129 2015-01-06 09:00:00       8042.0\n",
       "130 2015-01-06 10:00:00       8055.0\n",
       "131 2015-01-06 11:00:00       8282.0\n",
       "132 2015-01-06 12:00:00       9066.0\n",
       "133 2015-01-06 13:00:00       9117.0\n",
       "134 2015-01-06 14:00:00       9088.0\n",
       "135 2015-01-06 15:00:00       9117.0\n",
       "136 2015-01-06 16:00:00       9151.0\n",
       "137 2015-01-06 17:00:00       9455.0\n",
       "138 2015-01-06 18:00:00       9463.0\n",
       "139 2015-01-06 19:00:00       9946.0\n",
       "140 2015-01-06 20:00:00      10209.0\n",
       "141 2015-01-06 21:00:00       9581.0\n",
       "142 2015-01-06 22:00:00       8913.0\n",
       "143 2015-01-06 23:00:00       8806.0\n",
       "144 2015-01-07 00:00:00       8181.0\n",
       "145 2015-01-07 01:00:00       8175.0\n",
       "146 2015-01-07 02:00:00       8053.0\n",
       "147 2015-01-07 03:00:00       7794.0\n",
       "148 2015-01-07 04:00:00       7882.0\n",
       "149 2015-01-07 05:00:00       8423.0"
      ]
     },
     "execution_count": 50,
     "metadata": {},
     "output_type": "execute_result"
    }
   ],
   "source": [
    "df.iloc[120:150]"
   ]
  },
  {
   "cell_type": "code",
   "execution_count": null,
   "metadata": {},
   "outputs": [],
   "source": [
    "df.set_index('date_and_hour', inplace=True)\n",
    "df=df.sort_index(ascending=True)\n",
    "\n",
    "df.head(1)"
   ]
  },
  {
   "cell_type": "code",
   "execution_count": 3,
   "metadata": {},
   "outputs": [
    {
     "ename": "NameError",
     "evalue": "name 'df' is not defined",
     "output_type": "error",
     "traceback": [
      "\u001b[1;31m---------------------------------------------------------------------------\u001b[0m",
      "\u001b[1;31mNameError\u001b[0m                                 Traceback (most recent call last)",
      "\u001b[1;32m~\\AppData\\Local\\Temp\\ipykernel_10068\\3318704057.py\u001b[0m in \u001b[0;36m<module>\u001b[1;34m\u001b[0m\n\u001b[1;32m----> 1\u001b[1;33m \u001b[0mdf\u001b[0m\u001b[1;33m.\u001b[0m\u001b[0mhead\u001b[0m\u001b[1;33m(\u001b[0m\u001b[1;36m1\u001b[0m\u001b[1;33m)\u001b[0m\u001b[1;33m\u001b[0m\u001b[1;33m\u001b[0m\u001b[0m\n\u001b[0m",
      "\u001b[1;31mNameError\u001b[0m: name 'df' is not defined"
     ]
    }
   ],
   "source": []
  },
  {
   "cell_type": "code",
   "execution_count": null,
   "metadata": {},
   "outputs": [],
   "source": []
  },
  {
   "cell_type": "code",
   "execution_count": 42,
   "metadata": {},
   "outputs": [
    {
     "name": "stdout",
     "output_type": "stream",
     "text": [
      "\n",
      "Number of Missing Timestamp=  171 \n",
      "\n",
      "[Timestamp('2015-01-07 23:00:00'), Timestamp('2015-01-08 00:00:00'), Timestamp('2015-03-12 02:00:00'), Timestamp('2015-06-05 08:00:00'), Timestamp('2015-06-05 09:00:00'), Timestamp('2015-06-05 10:00:00'), Timestamp('2015-06-05 11:00:00'), Timestamp('2015-06-05 12:00:00'), Timestamp('2015-06-05 13:00:00'), Timestamp('2015-06-05 14:00:00'), Timestamp('2015-06-05 15:00:00'), Timestamp('2015-06-05 16:00:00'), Timestamp('2015-06-05 17:00:00'), Timestamp('2015-06-05 18:00:00'), Timestamp('2015-06-05 19:00:00'), Timestamp('2015-06-05 20:00:00'), Timestamp('2015-06-05 21:00:00'), Timestamp('2015-06-05 22:00:00'), Timestamp('2015-06-05 23:00:00'), Timestamp('2015-06-06 00:00:00'), Timestamp('2015-06-06 01:00:00'), Timestamp('2015-06-06 02:00:00'), Timestamp('2015-06-06 03:00:00'), Timestamp('2015-06-06 04:00:00'), Timestamp('2015-06-06 05:00:00'), Timestamp('2015-06-06 06:00:00'), Timestamp('2015-06-06 07:00:00'), Timestamp('2015-07-03 01:00:00'), Timestamp('2016-01-07 23:00:00'), Timestamp('2016-01-08 00:00:00'), Timestamp('2016-02-29 00:00:00'), Timestamp('2016-02-29 01:00:00'), Timestamp('2016-02-29 02:00:00'), Timestamp('2016-02-29 03:00:00'), Timestamp('2016-02-29 04:00:00'), Timestamp('2016-02-29 05:00:00'), Timestamp('2016-02-29 06:00:00'), Timestamp('2016-02-29 07:00:00'), Timestamp('2016-02-29 08:00:00'), Timestamp('2016-02-29 09:00:00'), Timestamp('2016-02-29 10:00:00'), Timestamp('2016-02-29 11:00:00'), Timestamp('2016-02-29 12:00:00'), Timestamp('2016-02-29 13:00:00'), Timestamp('2016-02-29 14:00:00'), Timestamp('2016-02-29 15:00:00'), Timestamp('2016-02-29 16:00:00'), Timestamp('2016-02-29 17:00:00'), Timestamp('2016-02-29 18:00:00'), Timestamp('2016-02-29 19:00:00'), Timestamp('2016-02-29 20:00:00'), Timestamp('2016-02-29 21:00:00'), Timestamp('2016-02-29 22:00:00'), Timestamp('2016-02-29 23:00:00'), Timestamp('2016-03-12 02:00:00'), Timestamp('2016-06-05 08:00:00'), Timestamp('2016-06-05 09:00:00'), Timestamp('2016-06-05 10:00:00'), Timestamp('2016-06-05 11:00:00'), Timestamp('2016-06-05 12:00:00'), Timestamp('2016-06-05 13:00:00'), Timestamp('2016-06-05 14:00:00'), Timestamp('2016-06-05 15:00:00'), Timestamp('2016-06-05 16:00:00'), Timestamp('2016-06-05 17:00:00'), Timestamp('2016-06-05 18:00:00'), Timestamp('2016-06-05 19:00:00'), Timestamp('2016-06-05 20:00:00'), Timestamp('2016-06-05 21:00:00'), Timestamp('2016-06-05 22:00:00'), Timestamp('2016-06-05 23:00:00'), Timestamp('2016-06-06 00:00:00'), Timestamp('2016-06-06 01:00:00'), Timestamp('2016-06-06 02:00:00'), Timestamp('2016-06-06 03:00:00'), Timestamp('2016-06-06 04:00:00'), Timestamp('2016-06-06 05:00:00'), Timestamp('2016-06-06 06:00:00'), Timestamp('2016-06-06 07:00:00'), Timestamp('2017-01-07 23:00:00'), Timestamp('2017-01-08 00:00:00'), Timestamp('2017-03-12 02:00:00'), Timestamp('2017-06-05 08:00:00'), Timestamp('2017-06-05 09:00:00'), Timestamp('2017-06-05 10:00:00'), Timestamp('2017-06-05 11:00:00'), Timestamp('2017-06-05 12:00:00'), Timestamp('2017-06-05 13:00:00'), Timestamp('2017-06-05 14:00:00'), Timestamp('2017-06-05 15:00:00'), Timestamp('2017-06-05 16:00:00'), Timestamp('2017-06-05 17:00:00'), Timestamp('2017-06-05 18:00:00'), Timestamp('2017-06-05 19:00:00'), Timestamp('2017-06-05 20:00:00'), Timestamp('2017-06-05 21:00:00'), Timestamp('2017-06-05 22:00:00'), Timestamp('2017-06-05 23:00:00'), Timestamp('2017-06-06 00:00:00'), Timestamp('2017-06-06 01:00:00'), Timestamp('2017-06-06 02:00:00'), Timestamp('2017-06-06 03:00:00'), Timestamp('2017-06-06 04:00:00'), Timestamp('2017-06-06 05:00:00'), Timestamp('2017-06-06 06:00:00'), Timestamp('2017-06-06 07:00:00'), Timestamp('2017-07-03 01:00:00'), Timestamp('2018-01-07 23:00:00'), Timestamp('2018-01-08 00:00:00'), Timestamp('2018-03-12 02:00:00'), Timestamp('2018-06-05 08:00:00'), Timestamp('2018-06-05 09:00:00'), Timestamp('2018-06-05 10:00:00'), Timestamp('2018-06-05 11:00:00'), Timestamp('2018-06-05 12:00:00'), Timestamp('2018-06-05 13:00:00'), Timestamp('2018-06-05 14:00:00'), Timestamp('2018-06-05 15:00:00'), Timestamp('2018-06-05 16:00:00'), Timestamp('2018-06-05 17:00:00'), Timestamp('2018-06-05 18:00:00'), Timestamp('2018-06-05 19:00:00'), Timestamp('2018-06-05 20:00:00'), Timestamp('2018-06-05 21:00:00'), Timestamp('2018-06-05 22:00:00'), Timestamp('2018-06-05 23:00:00'), Timestamp('2018-06-06 00:00:00'), Timestamp('2018-06-06 01:00:00'), Timestamp('2018-06-06 02:00:00'), Timestamp('2018-06-06 03:00:00'), Timestamp('2018-06-06 04:00:00'), Timestamp('2018-06-06 05:00:00'), Timestamp('2018-06-06 06:00:00'), Timestamp('2018-06-06 07:00:00'), Timestamp('2018-07-03 01:00:00'), Timestamp('2019-01-09 23:00:00'), Timestamp('2019-01-27 23:00:00'), Timestamp('2019-02-08 23:00:00'), Timestamp('2019-02-10 23:00:00'), Timestamp('2019-02-27 23:00:00'), Timestamp('2019-03-02 23:00:00'), Timestamp('2019-03-20 23:00:00'), Timestamp('2019-04-12 23:00:00'), Timestamp('2019-05-10 23:00:00'), Timestamp('2019-05-16 23:00:00'), Timestamp('2019-05-20 23:00:00'), Timestamp('2019-05-31 23:00:00'), Timestamp('2019-06-02 23:00:00'), Timestamp('2019-07-01 22:00:00'), Timestamp('2019-07-01 23:00:00'), Timestamp('2019-07-05 23:00:00'), Timestamp('2019-07-11 23:00:00'), Timestamp('2019-08-14 00:00:00'), Timestamp('2019-09-01 01:00:00'), Timestamp('2019-10-02 00:00:00'), Timestamp('2019-10-08 01:00:00'), Timestamp('2019-11-10 00:00:00'), Timestamp('2019-12-19 00:00:00'), Timestamp('2019-12-21 00:00:00'), Timestamp('2019-12-24 00:00:00'), Timestamp('2019-12-28 00:00:00'), Timestamp('2020-01-03 23:00:00'), Timestamp('2020-01-11 00:00:00'), Timestamp('2020-01-31 00:00:00'), Timestamp('2020-02-17 01:00:00'), Timestamp('2020-03-22 23:00:00'), Timestamp('2020-03-23 22:00:00'), Timestamp('2020-03-30 22:00:00'), Timestamp('2020-03-30 23:00:00'), Timestamp('2020-04-02 22:00:00'), Timestamp('2020-04-02 23:00:00')]\n"
     ]
    }
   ],
   "source": [
    "missing_Timestamp=pd.date_range('2015-1-1','2020-4-30',freq='H').difference(df.index)\n",
    "print('\\nNumber of Missing Timestamp= ',len(missing_Timestamp),'\\n')\n",
    "print(missing_Timestamp.to_list())"
   ]
  },
  {
   "cell_type": "code",
   "execution_count": 43,
   "metadata": {},
   "outputs": [
    {
     "name": "stdout",
     "output_type": "stream",
     "text": [
      "\n",
      "Number of Missing Timestamp=  0 \n",
      "\n",
      "[]\n"
     ]
    }
   ],
   "source": [
    "df = df.resample('H').first().fillna(np.NaN)\n",
    "missing_Timestamp=pd.date_range('2015-1-1','2020-4-30',freq='H').difference(df.index)\n",
    "print('\\nNumber of Missing Timestamp= ',len(missing_Timestamp),'\\n')\n",
    "print(missing_Timestamp.to_list())"
   ]
  },
  {
   "cell_type": "code",
   "execution_count": 44,
   "metadata": {},
   "outputs": [
    {
     "data": {
      "text/html": [
       "<div>\n",
       "<style scoped>\n",
       "    .dataframe tbody tr th:only-of-type {\n",
       "        vertical-align: middle;\n",
       "    }\n",
       "\n",
       "    .dataframe tbody tr th {\n",
       "        vertical-align: top;\n",
       "    }\n",
       "\n",
       "    .dataframe thead th {\n",
       "        text-align: right;\n",
       "    }\n",
       "</style>\n",
       "<table border=\"1\" class=\"dataframe\">\n",
       "  <thead>\n",
       "    <tr style=\"text-align: right;\">\n",
       "      <th></th>\n",
       "      <th>date_and_hour</th>\n",
       "      <th>System_load</th>\n",
       "    </tr>\n",
       "  </thead>\n",
       "  <tbody>\n",
       "    <tr>\n",
       "      <th>167</th>\n",
       "      <td>2015-01-07 23:00:00</td>\n",
       "      <td>NaN</td>\n",
       "    </tr>\n",
       "    <tr>\n",
       "      <th>168</th>\n",
       "      <td>2015-01-08 00:00:00</td>\n",
       "      <td>NaN</td>\n",
       "    </tr>\n",
       "    <tr>\n",
       "      <th>1682</th>\n",
       "      <td>2015-03-12 02:00:00</td>\n",
       "      <td>NaN</td>\n",
       "    </tr>\n",
       "    <tr>\n",
       "      <th>3728</th>\n",
       "      <td>2015-06-05 08:00:00</td>\n",
       "      <td>NaN</td>\n",
       "    </tr>\n",
       "    <tr>\n",
       "      <th>3729</th>\n",
       "      <td>2015-06-05 09:00:00</td>\n",
       "      <td>NaN</td>\n",
       "    </tr>\n",
       "    <tr>\n",
       "      <th>...</th>\n",
       "      <td>...</td>\n",
       "      <td>...</td>\n",
       "    </tr>\n",
       "    <tr>\n",
       "      <th>45814</th>\n",
       "      <td>2020-03-23 22:00:00</td>\n",
       "      <td>NaN</td>\n",
       "    </tr>\n",
       "    <tr>\n",
       "      <th>45982</th>\n",
       "      <td>2020-03-30 22:00:00</td>\n",
       "      <td>NaN</td>\n",
       "    </tr>\n",
       "    <tr>\n",
       "      <th>45983</th>\n",
       "      <td>2020-03-30 23:00:00</td>\n",
       "      <td>NaN</td>\n",
       "    </tr>\n",
       "    <tr>\n",
       "      <th>46054</th>\n",
       "      <td>2020-04-02 22:00:00</td>\n",
       "      <td>NaN</td>\n",
       "    </tr>\n",
       "    <tr>\n",
       "      <th>46055</th>\n",
       "      <td>2020-04-02 23:00:00</td>\n",
       "      <td>NaN</td>\n",
       "    </tr>\n",
       "  </tbody>\n",
       "</table>\n",
       "<p>171 rows × 2 columns</p>\n",
       "</div>"
      ],
      "text/plain": [
       "            date_and_hour System_load\n",
       "167   2015-01-07 23:00:00         NaN\n",
       "168   2015-01-08 00:00:00         NaN\n",
       "1682  2015-03-12 02:00:00         NaN\n",
       "3728  2015-06-05 08:00:00         NaN\n",
       "3729  2015-06-05 09:00:00         NaN\n",
       "...                   ...         ...\n",
       "45814 2020-03-23 22:00:00         NaN\n",
       "45982 2020-03-30 22:00:00         NaN\n",
       "45983 2020-03-30 23:00:00         NaN\n",
       "46054 2020-04-02 22:00:00         NaN\n",
       "46055 2020-04-02 23:00:00         NaN\n",
       "\n",
       "[171 rows x 2 columns]"
      ]
     },
     "execution_count": 44,
     "metadata": {},
     "output_type": "execute_result"
    }
   ],
   "source": [
    "df.reset_index(inplace=True)\n",
    "len_list=df[df['System_load'].isnull()].index.tolist()\n",
    "df.iloc[len_list[:len(len_list)]]"
   ]
  },
  {
   "cell_type": "code",
   "execution_count": 45,
   "metadata": {},
   "outputs": [
    {
     "name": "stdout",
     "output_type": "stream",
     "text": [
      "values are missing at the following indexes:\n",
      " [167, 168, 1682, 3728, 3729, 3730, 3731, 3732, 3733, 3734, 3735, 3736, 3737, 3738, 3739, 3740, 3741, 3742, 3743, 3744, 3745, 3746, 3747, 3748, 3749, 3750, 3751, 4393, 8927, 8928, 10176, 10177, 10178, 10179, 10180, 10181, 10182, 10183, 10184, 10185, 10186, 10187, 10188, 10189, 10190, 10191, 10192, 10193, 10194, 10195, 10196, 10197, 10198, 10199, 10466, 12512, 12513, 12514, 12515, 12516, 12517, 12518, 12519, 12520, 12521, 12522, 12523, 12524, 12525, 12526, 12527, 12528, 12529, 12530, 12531, 12532, 12533, 12534, 12535, 17711, 17712, 19226, 21272, 21273, 21274, 21275, 21276, 21277, 21278, 21279, 21280, 21281, 21282, 21283, 21284, 21285, 21286, 21287, 21288, 21289, 21290, 21291, 21292, 21293, 21294, 21295, 21937, 26471, 26472, 27986, 30032, 30033, 30034, 30035, 30036, 30037, 30038, 30039, 30040, 30041, 30042, 30043, 30044, 30045, 30046, 30047, 30048, 30049, 30050, 30051, 30052, 30053, 30054, 30055, 30697, 35279, 35711, 35999, 36047, 36455, 36527, 36959, 37511, 38183, 38327, 38423, 38687, 38735, 39430, 39431, 39527, 39671, 40464, 40897, 41640, 41785, 42576, 43512, 43560, 43632, 43728, 43895, 44064, 44544, 44953, 45791, 45814, 45982, 45983, 46054, 46055]\n"
     ]
    }
   ],
   "source": [
    "print('values are missing at the following indexes:\\n',len_list)"
   ]
  },
  {
   "cell_type": "code",
   "execution_count": 46,
   "metadata": {},
   "outputs": [],
   "source": [
    "df['System_load']=pd.to_numeric(df['System_load'],errors='coerce')"
   ]
  },
  {
   "cell_type": "code",
   "execution_count": 47,
   "metadata": {},
   "outputs": [
    {
     "data": {
      "text/plain": [
       "date_and_hour      0\n",
       "System_load      173\n",
       "dtype: int64"
      ]
     },
     "execution_count": 47,
     "metadata": {},
     "output_type": "execute_result"
    }
   ],
   "source": [
    "df.isnull().sum()"
   ]
  },
  {
   "cell_type": "code",
   "execution_count": 48,
   "metadata": {},
   "outputs": [],
   "source": [
    "df.to_csv('C:\\\\Users\\\\arif\\\\OneDrive\\\\Journal Paper\\\\Code\\\\Irshad\\\\Dataset\\\\2_Missing_Values_Identified.csv',index=False)"
   ]
  },
  {
   "cell_type": "code",
   "execution_count": null,
   "metadata": {},
   "outputs": [],
   "source": []
  },
  {
   "cell_type": "code",
   "execution_count": null,
   "metadata": {},
   "outputs": [],
   "source": []
  },
  {
   "cell_type": "markdown",
   "metadata": {},
   "source": [
    "# Practice"
   ]
  },
  {
   "cell_type": "code",
   "execution_count": 17,
   "metadata": {},
   "outputs": [
    {
     "data": {
      "text/html": [
       "<div>\n",
       "<style scoped>\n",
       "    .dataframe tbody tr th:only-of-type {\n",
       "        vertical-align: middle;\n",
       "    }\n",
       "\n",
       "    .dataframe tbody tr th {\n",
       "        vertical-align: top;\n",
       "    }\n",
       "\n",
       "    .dataframe thead th {\n",
       "        text-align: right;\n",
       "    }\n",
       "</style>\n",
       "<table border=\"1\" class=\"dataframe\">\n",
       "  <thead>\n",
       "    <tr style=\"text-align: right;\">\n",
       "      <th></th>\n",
       "      <th>date_and_hour</th>\n",
       "      <th>System_load</th>\n",
       "      <th>Hour</th>\n",
       "      <th>Day</th>\n",
       "      <th>Month</th>\n",
       "      <th>Year</th>\n",
       "      <th>Day_Of_Week</th>\n",
       "    </tr>\n",
       "  </thead>\n",
       "  <tbody>\n",
       "    <tr>\n",
       "      <th>0</th>\n",
       "      <td>2015-01-01 00:00:00</td>\n",
       "      <td>8288.0</td>\n",
       "      <td>0</td>\n",
       "      <td>1</td>\n",
       "      <td>1</td>\n",
       "      <td>2015</td>\n",
       "      <td>3</td>\n",
       "    </tr>\n",
       "    <tr>\n",
       "      <th>1</th>\n",
       "      <td>2015-01-01 01:00:00</td>\n",
       "      <td>8099.0</td>\n",
       "      <td>1</td>\n",
       "      <td>1</td>\n",
       "      <td>1</td>\n",
       "      <td>2015</td>\n",
       "      <td>3</td>\n",
       "    </tr>\n",
       "    <tr>\n",
       "      <th>2</th>\n",
       "      <td>2015-01-01 02:00:00</td>\n",
       "      <td>7994.0</td>\n",
       "      <td>2</td>\n",
       "      <td>1</td>\n",
       "      <td>1</td>\n",
       "      <td>2015</td>\n",
       "      <td>3</td>\n",
       "    </tr>\n",
       "    <tr>\n",
       "      <th>3</th>\n",
       "      <td>2015-01-01 03:00:00</td>\n",
       "      <td>7965.0</td>\n",
       "      <td>3</td>\n",
       "      <td>1</td>\n",
       "      <td>1</td>\n",
       "      <td>2015</td>\n",
       "      <td>3</td>\n",
       "    </tr>\n",
       "    <tr>\n",
       "      <th>4</th>\n",
       "      <td>2015-01-01 04:00:00</td>\n",
       "      <td>8120.0</td>\n",
       "      <td>4</td>\n",
       "      <td>1</td>\n",
       "      <td>1</td>\n",
       "      <td>2015</td>\n",
       "      <td>3</td>\n",
       "    </tr>\n",
       "  </tbody>\n",
       "</table>\n",
       "</div>"
      ],
      "text/plain": [
       "        date_and_hour  System_load  Hour  Day  Month  Year  Day_Of_Week\n",
       "0 2015-01-01 00:00:00       8288.0     0    1      1  2015            3\n",
       "1 2015-01-01 01:00:00       8099.0     1    1      1  2015            3\n",
       "2 2015-01-01 02:00:00       7994.0     2    1      1  2015            3\n",
       "3 2015-01-01 03:00:00       7965.0     3    1      1  2015            3\n",
       "4 2015-01-01 04:00:00       8120.0     4    1      1  2015            3"
      ]
     },
     "execution_count": 17,
     "metadata": {},
     "output_type": "execute_result"
    }
   ],
   "source": [
    "df['Hour']=df['date_and_hour'].dt.hour\n",
    "df['Day']=df['date_and_hour'].dt.day\n",
    "df['Month']=df['date_and_hour'].dt.month\n",
    "df['Year']=df['date_and_hour'].dt.year\n",
    "df['Day_Of_Week']=df['date_and_hour'].dt.weekday\n",
    "df['date_and_hour']\n",
    "#df['Date']=df['Year'].astype(str) + \"/\" + df['Month'].astype(str) +\"/\"+ df['Day'].astype(str)\n",
    "#df['Date']=pd.to_datetime(df['Date'])\n",
    "#df.set_index('Date', inplace=True)\n",
    "df.head()"
   ]
  },
  {
   "cell_type": "code",
   "execution_count": 14,
   "metadata": {},
   "outputs": [
    {
     "name": "stdout",
     "output_type": "stream",
     "text": [
      "<class 'pandas.core.frame.DataFrame'>\n",
      "RangeIndex: 46608 entries, 0 to 46607\n",
      "Data columns (total 3 columns):\n",
      " #   Column       Non-Null Count  Dtype \n",
      "---  ------       --------------  ----- \n",
      " 0   Date         46608 non-null  object\n",
      " 1   HOUR         46608 non-null  int64 \n",
      " 2   System_load  46608 non-null  object\n",
      "dtypes: int64(1), object(2)\n",
      "memory usage: 1.1+ MB\n"
     ]
    }
   ],
   "source": [
    "df.info()"
   ]
  },
  {
   "cell_type": "code",
   "execution_count": 15,
   "metadata": {},
   "outputs": [
    {
     "data": {
      "text/plain": [
       "46608"
      ]
     },
     "execution_count": 15,
     "metadata": {},
     "output_type": "execute_result"
    }
   ],
   "source": [
    "before_legth=len(df)\n",
    "before_legth"
   ]
  },
  {
   "cell_type": "code",
   "execution_count": 16,
   "metadata": {},
   "outputs": [],
   "source": [
    "df['Date']=pd.to_datetime(df['Date'], dayfirst=True, format=\"%d/%m/%Y\")"
   ]
  },
  {
   "cell_type": "code",
   "execution_count": 17,
   "metadata": {},
   "outputs": [
    {
     "name": "stdout",
     "output_type": "stream",
     "text": [
      "<class 'pandas.core.frame.DataFrame'>\n",
      "RangeIndex: 46608 entries, 0 to 46607\n",
      "Data columns (total 3 columns):\n",
      " #   Column       Non-Null Count  Dtype         \n",
      "---  ------       --------------  -----         \n",
      " 0   Date         46608 non-null  datetime64[ns]\n",
      " 1   HOUR         46608 non-null  int64         \n",
      " 2   System_load  46608 non-null  object        \n",
      "dtypes: datetime64[ns](1), int64(1), object(1)\n",
      "memory usage: 1.1+ MB\n"
     ]
    }
   ],
   "source": [
    "df.info()"
   ]
  },
  {
   "cell_type": "code",
   "execution_count": 18,
   "metadata": {},
   "outputs": [],
   "source": [
    "df['rough']='00:00'\n",
    "df['hour']=df['HOUR']-1\n",
    "df[\"hour_m_s\"] = df['hour'].astype(str) +\":\"+ df[\"rough\"].astype(str)\n",
    "df[\"date_and_hour\"] = df['Date'].astype(str) +\" \"+ df[\"hour_m_s\"].astype(str)\n",
    "del df[\"hour_m_s\"]\n",
    "del df[\"rough\"]\n",
    "del df['hour']"
   ]
  },
  {
   "cell_type": "code",
   "execution_count": 19,
   "metadata": {},
   "outputs": [
    {
     "data": {
      "text/html": [
       "<div>\n",
       "<style scoped>\n",
       "    .dataframe tbody tr th:only-of-type {\n",
       "        vertical-align: middle;\n",
       "    }\n",
       "\n",
       "    .dataframe tbody tr th {\n",
       "        vertical-align: top;\n",
       "    }\n",
       "\n",
       "    .dataframe thead th {\n",
       "        text-align: right;\n",
       "    }\n",
       "</style>\n",
       "<table border=\"1\" class=\"dataframe\">\n",
       "  <thead>\n",
       "    <tr style=\"text-align: right;\">\n",
       "      <th></th>\n",
       "      <th>Date</th>\n",
       "      <th>HOUR</th>\n",
       "      <th>System_load</th>\n",
       "      <th>date_and_hour</th>\n",
       "    </tr>\n",
       "  </thead>\n",
       "  <tbody>\n",
       "    <tr>\n",
       "      <th>0</th>\n",
       "      <td>2015-01-01</td>\n",
       "      <td>1</td>\n",
       "      <td>8288</td>\n",
       "      <td>2015-01-01 0:00:00</td>\n",
       "    </tr>\n",
       "    <tr>\n",
       "      <th>1</th>\n",
       "      <td>2015-01-01</td>\n",
       "      <td>2</td>\n",
       "      <td>8099</td>\n",
       "      <td>2015-01-01 1:00:00</td>\n",
       "    </tr>\n",
       "    <tr>\n",
       "      <th>2</th>\n",
       "      <td>2015-01-01</td>\n",
       "      <td>3</td>\n",
       "      <td>7994</td>\n",
       "      <td>2015-01-01 2:00:00</td>\n",
       "    </tr>\n",
       "    <tr>\n",
       "      <th>3</th>\n",
       "      <td>2015-01-01</td>\n",
       "      <td>4</td>\n",
       "      <td>7965</td>\n",
       "      <td>2015-01-01 3:00:00</td>\n",
       "    </tr>\n",
       "    <tr>\n",
       "      <th>4</th>\n",
       "      <td>2015-01-01</td>\n",
       "      <td>5</td>\n",
       "      <td>8120</td>\n",
       "      <td>2015-01-01 4:00:00</td>\n",
       "    </tr>\n",
       "    <tr>\n",
       "      <th>...</th>\n",
       "      <td>...</td>\n",
       "      <td>...</td>\n",
       "      <td>...</td>\n",
       "      <td>...</td>\n",
       "    </tr>\n",
       "    <tr>\n",
       "      <th>46603</th>\n",
       "      <td>2020-04-30</td>\n",
       "      <td>20</td>\n",
       "      <td>16858</td>\n",
       "      <td>2020-04-30 19:00:00</td>\n",
       "    </tr>\n",
       "    <tr>\n",
       "      <th>46604</th>\n",
       "      <td>2020-04-30</td>\n",
       "      <td>21</td>\n",
       "      <td>17105</td>\n",
       "      <td>2020-04-30 20:00:00</td>\n",
       "    </tr>\n",
       "    <tr>\n",
       "      <th>46605</th>\n",
       "      <td>2020-04-30</td>\n",
       "      <td>22</td>\n",
       "      <td>16824</td>\n",
       "      <td>2020-04-30 21:00:00</td>\n",
       "    </tr>\n",
       "    <tr>\n",
       "      <th>46606</th>\n",
       "      <td>2020-04-30</td>\n",
       "      <td>23</td>\n",
       "      <td>16332</td>\n",
       "      <td>2020-04-30 22:00:00</td>\n",
       "    </tr>\n",
       "    <tr>\n",
       "      <th>46607</th>\n",
       "      <td>2020-04-30</td>\n",
       "      <td>24</td>\n",
       "      <td>15003</td>\n",
       "      <td>2020-04-30 23:00:00</td>\n",
       "    </tr>\n",
       "  </tbody>\n",
       "</table>\n",
       "<p>46608 rows × 4 columns</p>\n",
       "</div>"
      ],
      "text/plain": [
       "            Date  HOUR System_load        date_and_hour\n",
       "0     2015-01-01     1        8288   2015-01-01 0:00:00\n",
       "1     2015-01-01     2        8099   2015-01-01 1:00:00\n",
       "2     2015-01-01     3        7994   2015-01-01 2:00:00\n",
       "3     2015-01-01     4        7965   2015-01-01 3:00:00\n",
       "4     2015-01-01     5        8120   2015-01-01 4:00:00\n",
       "...          ...   ...         ...                  ...\n",
       "46603 2020-04-30    20       16858  2020-04-30 19:00:00\n",
       "46604 2020-04-30    21       17105  2020-04-30 20:00:00\n",
       "46605 2020-04-30    22       16824  2020-04-30 21:00:00\n",
       "46606 2020-04-30    23       16332  2020-04-30 22:00:00\n",
       "46607 2020-04-30    24       15003  2020-04-30 23:00:00\n",
       "\n",
       "[46608 rows x 4 columns]"
      ]
     },
     "execution_count": 19,
     "metadata": {},
     "output_type": "execute_result"
    }
   ],
   "source": [
    "df"
   ]
  },
  {
   "cell_type": "code",
   "execution_count": 20,
   "metadata": {},
   "outputs": [
    {
     "name": "stdout",
     "output_type": "stream",
     "text": [
      "<class 'pandas.core.frame.DataFrame'>\n",
      "RangeIndex: 46608 entries, 0 to 46607\n",
      "Data columns (total 4 columns):\n",
      " #   Column         Non-Null Count  Dtype         \n",
      "---  ------         --------------  -----         \n",
      " 0   Date           46608 non-null  datetime64[ns]\n",
      " 1   HOUR           46608 non-null  int64         \n",
      " 2   System_load    46608 non-null  object        \n",
      " 3   date_and_hour  46608 non-null  datetime64[ns]\n",
      "dtypes: datetime64[ns](2), int64(1), object(1)\n",
      "memory usage: 1.4+ MB\n"
     ]
    }
   ],
   "source": [
    "df['date_and_hour']=pd.to_datetime(df['date_and_hour'])\n",
    "df.info()"
   ]
  },
  {
   "cell_type": "code",
   "execution_count": 21,
   "metadata": {},
   "outputs": [
    {
     "data": {
      "text/html": [
       "<div>\n",
       "<style scoped>\n",
       "    .dataframe tbody tr th:only-of-type {\n",
       "        vertical-align: middle;\n",
       "    }\n",
       "\n",
       "    .dataframe tbody tr th {\n",
       "        vertical-align: top;\n",
       "    }\n",
       "\n",
       "    .dataframe thead th {\n",
       "        text-align: right;\n",
       "    }\n",
       "</style>\n",
       "<table border=\"1\" class=\"dataframe\">\n",
       "  <thead>\n",
       "    <tr style=\"text-align: right;\">\n",
       "      <th></th>\n",
       "      <th>Date</th>\n",
       "      <th>HOUR</th>\n",
       "      <th>System_load</th>\n",
       "    </tr>\n",
       "    <tr>\n",
       "      <th>date_and_hour</th>\n",
       "      <th></th>\n",
       "      <th></th>\n",
       "      <th></th>\n",
       "    </tr>\n",
       "  </thead>\n",
       "  <tbody>\n",
       "    <tr>\n",
       "      <th>2015-01-01 00:00:00</th>\n",
       "      <td>2015-01-01</td>\n",
       "      <td>1</td>\n",
       "      <td>8288</td>\n",
       "    </tr>\n",
       "    <tr>\n",
       "      <th>2015-01-01 01:00:00</th>\n",
       "      <td>2015-01-01</td>\n",
       "      <td>2</td>\n",
       "      <td>8099</td>\n",
       "    </tr>\n",
       "    <tr>\n",
       "      <th>2015-01-01 02:00:00</th>\n",
       "      <td>2015-01-01</td>\n",
       "      <td>3</td>\n",
       "      <td>7994</td>\n",
       "    </tr>\n",
       "    <tr>\n",
       "      <th>2015-01-01 03:00:00</th>\n",
       "      <td>2015-01-01</td>\n",
       "      <td>4</td>\n",
       "      <td>7965</td>\n",
       "    </tr>\n",
       "    <tr>\n",
       "      <th>2015-01-01 04:00:00</th>\n",
       "      <td>2015-01-01</td>\n",
       "      <td>5</td>\n",
       "      <td>8120</td>\n",
       "    </tr>\n",
       "    <tr>\n",
       "      <th>...</th>\n",
       "      <td>...</td>\n",
       "      <td>...</td>\n",
       "      <td>...</td>\n",
       "    </tr>\n",
       "    <tr>\n",
       "      <th>2020-04-30 19:00:00</th>\n",
       "      <td>2020-04-30</td>\n",
       "      <td>20</td>\n",
       "      <td>16858</td>\n",
       "    </tr>\n",
       "    <tr>\n",
       "      <th>2020-04-30 20:00:00</th>\n",
       "      <td>2020-04-30</td>\n",
       "      <td>21</td>\n",
       "      <td>17105</td>\n",
       "    </tr>\n",
       "    <tr>\n",
       "      <th>2020-04-30 21:00:00</th>\n",
       "      <td>2020-04-30</td>\n",
       "      <td>22</td>\n",
       "      <td>16824</td>\n",
       "    </tr>\n",
       "    <tr>\n",
       "      <th>2020-04-30 22:00:00</th>\n",
       "      <td>2020-04-30</td>\n",
       "      <td>23</td>\n",
       "      <td>16332</td>\n",
       "    </tr>\n",
       "    <tr>\n",
       "      <th>2020-04-30 23:00:00</th>\n",
       "      <td>2020-04-30</td>\n",
       "      <td>24</td>\n",
       "      <td>15003</td>\n",
       "    </tr>\n",
       "  </tbody>\n",
       "</table>\n",
       "<p>46608 rows × 3 columns</p>\n",
       "</div>"
      ],
      "text/plain": [
       "                          Date  HOUR System_load\n",
       "date_and_hour                                   \n",
       "2015-01-01 00:00:00 2015-01-01     1        8288\n",
       "2015-01-01 01:00:00 2015-01-01     2        8099\n",
       "2015-01-01 02:00:00 2015-01-01     3        7994\n",
       "2015-01-01 03:00:00 2015-01-01     4        7965\n",
       "2015-01-01 04:00:00 2015-01-01     5        8120\n",
       "...                        ...   ...         ...\n",
       "2020-04-30 19:00:00 2020-04-30    20       16858\n",
       "2020-04-30 20:00:00 2020-04-30    21       17105\n",
       "2020-04-30 21:00:00 2020-04-30    22       16824\n",
       "2020-04-30 22:00:00 2020-04-30    23       16332\n",
       "2020-04-30 23:00:00 2020-04-30    24       15003\n",
       "\n",
       "[46608 rows x 3 columns]"
      ]
     },
     "execution_count": 21,
     "metadata": {},
     "output_type": "execute_result"
    }
   ],
   "source": [
    "df.set_index('date_and_hour', inplace=True)\n",
    "df=df.sort_index(ascending=True)\n",
    "df"
   ]
  },
  {
   "cell_type": "code",
   "execution_count": 22,
   "metadata": {},
   "outputs": [
    {
     "data": {
      "text/html": [
       "<div>\n",
       "<style scoped>\n",
       "    .dataframe tbody tr th:only-of-type {\n",
       "        vertical-align: middle;\n",
       "    }\n",
       "\n",
       "    .dataframe tbody tr th {\n",
       "        vertical-align: top;\n",
       "    }\n",
       "\n",
       "    .dataframe thead th {\n",
       "        text-align: right;\n",
       "    }\n",
       "</style>\n",
       "<table border=\"1\" class=\"dataframe\">\n",
       "  <thead>\n",
       "    <tr style=\"text-align: right;\">\n",
       "      <th></th>\n",
       "      <th>System_load</th>\n",
       "    </tr>\n",
       "    <tr>\n",
       "      <th>date_and_hour</th>\n",
       "      <th></th>\n",
       "    </tr>\n",
       "  </thead>\n",
       "  <tbody>\n",
       "    <tr>\n",
       "      <th>2015-01-01 00:00:00</th>\n",
       "      <td>8288</td>\n",
       "    </tr>\n",
       "    <tr>\n",
       "      <th>2015-01-01 01:00:00</th>\n",
       "      <td>8099</td>\n",
       "    </tr>\n",
       "    <tr>\n",
       "      <th>2015-01-01 02:00:00</th>\n",
       "      <td>7994</td>\n",
       "    </tr>\n",
       "    <tr>\n",
       "      <th>2015-01-01 03:00:00</th>\n",
       "      <td>7965</td>\n",
       "    </tr>\n",
       "    <tr>\n",
       "      <th>2015-01-01 04:00:00</th>\n",
       "      <td>8120</td>\n",
       "    </tr>\n",
       "    <tr>\n",
       "      <th>...</th>\n",
       "      <td>...</td>\n",
       "    </tr>\n",
       "    <tr>\n",
       "      <th>2020-04-30 19:00:00</th>\n",
       "      <td>16858</td>\n",
       "    </tr>\n",
       "    <tr>\n",
       "      <th>2020-04-30 20:00:00</th>\n",
       "      <td>17105</td>\n",
       "    </tr>\n",
       "    <tr>\n",
       "      <th>2020-04-30 21:00:00</th>\n",
       "      <td>16824</td>\n",
       "    </tr>\n",
       "    <tr>\n",
       "      <th>2020-04-30 22:00:00</th>\n",
       "      <td>16332</td>\n",
       "    </tr>\n",
       "    <tr>\n",
       "      <th>2020-04-30 23:00:00</th>\n",
       "      <td>15003</td>\n",
       "    </tr>\n",
       "  </tbody>\n",
       "</table>\n",
       "<p>46608 rows × 1 columns</p>\n",
       "</div>"
      ],
      "text/plain": [
       "                    System_load\n",
       "date_and_hour                  \n",
       "2015-01-01 00:00:00        8288\n",
       "2015-01-01 01:00:00        8099\n",
       "2015-01-01 02:00:00        7994\n",
       "2015-01-01 03:00:00        7965\n",
       "2015-01-01 04:00:00        8120\n",
       "...                         ...\n",
       "2020-04-30 19:00:00       16858\n",
       "2020-04-30 20:00:00       17105\n",
       "2020-04-30 21:00:00       16824\n",
       "2020-04-30 22:00:00       16332\n",
       "2020-04-30 23:00:00       15003\n",
       "\n",
       "[46608 rows x 1 columns]"
      ]
     },
     "execution_count": 22,
     "metadata": {},
     "output_type": "execute_result"
    }
   ],
   "source": [
    "del df['Date']\n",
    "del df['HOUR']\n",
    "df"
   ]
  },
  {
   "cell_type": "code",
   "execution_count": 23,
   "metadata": {},
   "outputs": [
    {
     "data": {
      "text/plain": [
       "171"
      ]
     },
     "execution_count": 23,
     "metadata": {},
     "output_type": "execute_result"
    }
   ],
   "source": [
    "a=pd.date_range('2015-1-1','2020-4-30',freq='H').difference(df.index)\n",
    "len(a)#missing points"
   ]
  },
  {
   "cell_type": "code",
   "execution_count": 24,
   "metadata": {},
   "outputs": [
    {
     "data": {
      "text/plain": [
       "0"
      ]
     },
     "execution_count": 24,
     "metadata": {},
     "output_type": "execute_result"
    }
   ],
   "source": [
    "df = df.resample('H').first().fillna(np.NaN)\n",
    "a = pd.date_range('2015-1-1','2020-4-30',freq='H').difference(df.index)\n",
    "len(a)#missing points"
   ]
  },
  {
   "cell_type": "code",
   "execution_count": 25,
   "metadata": {},
   "outputs": [
    {
     "name": "stdout",
     "output_type": "stream",
     "text": [
      "missing_data_was=  120\n"
     ]
    }
   ],
   "source": [
    "missing_data_was=len(df)-before_legth\n",
    "print('missing_data_was= ',missing_data_was)"
   ]
  },
  {
   "cell_type": "code",
   "execution_count": 26,
   "metadata": {},
   "outputs": [
    {
     "data": {
      "text/html": [
       "<div>\n",
       "<style scoped>\n",
       "    .dataframe tbody tr th:only-of-type {\n",
       "        vertical-align: middle;\n",
       "    }\n",
       "\n",
       "    .dataframe tbody tr th {\n",
       "        vertical-align: top;\n",
       "    }\n",
       "\n",
       "    .dataframe thead th {\n",
       "        text-align: right;\n",
       "    }\n",
       "</style>\n",
       "<table border=\"1\" class=\"dataframe\">\n",
       "  <thead>\n",
       "    <tr style=\"text-align: right;\">\n",
       "      <th></th>\n",
       "      <th>System_load</th>\n",
       "    </tr>\n",
       "    <tr>\n",
       "      <th>date_and_hour</th>\n",
       "      <th></th>\n",
       "    </tr>\n",
       "  </thead>\n",
       "  <tbody>\n",
       "    <tr>\n",
       "      <th>2015-01-07 20:00:00</th>\n",
       "      <td>9725</td>\n",
       "    </tr>\n",
       "    <tr>\n",
       "      <th>2015-01-07 21:00:00</th>\n",
       "      <td>8990</td>\n",
       "    </tr>\n",
       "    <tr>\n",
       "      <th>2015-01-07 22:00:00</th>\n",
       "      <td>8347</td>\n",
       "    </tr>\n",
       "    <tr>\n",
       "      <th>2015-01-07 23:00:00</th>\n",
       "      <td>NaN</td>\n",
       "    </tr>\n",
       "    <tr>\n",
       "      <th>2015-01-08 00:00:00</th>\n",
       "      <td>NaN</td>\n",
       "    </tr>\n",
       "    <tr>\n",
       "      <th>2015-01-08 01:00:00</th>\n",
       "      <td>8094</td>\n",
       "    </tr>\n",
       "  </tbody>\n",
       "</table>\n",
       "</div>"
      ],
      "text/plain": [
       "                    System_load\n",
       "date_and_hour                  \n",
       "2015-01-07 20:00:00        9725\n",
       "2015-01-07 21:00:00        8990\n",
       "2015-01-07 22:00:00        8347\n",
       "2015-01-07 23:00:00         NaN\n",
       "2015-01-08 00:00:00         NaN\n",
       "2015-01-08 01:00:00        8094"
      ]
     },
     "execution_count": 26,
     "metadata": {},
     "output_type": "execute_result"
    }
   ],
   "source": [
    "df[164:170]"
   ]
  },
  {
   "cell_type": "code",
   "execution_count": null,
   "metadata": {},
   "outputs": [],
   "source": []
  },
  {
   "cell_type": "code",
   "execution_count": 13,
   "metadata": {},
   "outputs": [
    {
     "data": {
      "text/html": [
       "<div>\n",
       "<style scoped>\n",
       "    .dataframe tbody tr th:only-of-type {\n",
       "        vertical-align: middle;\n",
       "    }\n",
       "\n",
       "    .dataframe tbody tr th {\n",
       "        vertical-align: top;\n",
       "    }\n",
       "\n",
       "    .dataframe thead th {\n",
       "        text-align: right;\n",
       "    }\n",
       "</style>\n",
       "<table border=\"1\" class=\"dataframe\">\n",
       "  <thead>\n",
       "    <tr style=\"text-align: right;\">\n",
       "      <th></th>\n",
       "      <th>Date</th>\n",
       "      <th>HOUR</th>\n",
       "      <th>System_load</th>\n",
       "      <th>date_and_hour</th>\n",
       "    </tr>\n",
       "  </thead>\n",
       "  <tbody>\n",
       "    <tr>\n",
       "      <th>0</th>\n",
       "      <td>2015-01-01</td>\n",
       "      <td>1</td>\n",
       "      <td>8288</td>\n",
       "      <td>2015-01-01 00:00:00</td>\n",
       "    </tr>\n",
       "    <tr>\n",
       "      <th>1</th>\n",
       "      <td>2015-01-01</td>\n",
       "      <td>2</td>\n",
       "      <td>8099</td>\n",
       "      <td>2015-01-01 01:00:00</td>\n",
       "    </tr>\n",
       "    <tr>\n",
       "      <th>2</th>\n",
       "      <td>2015-01-01</td>\n",
       "      <td>3</td>\n",
       "      <td>7994</td>\n",
       "      <td>2015-01-01 02:00:00</td>\n",
       "    </tr>\n",
       "    <tr>\n",
       "      <th>3</th>\n",
       "      <td>2015-01-01</td>\n",
       "      <td>4</td>\n",
       "      <td>7965</td>\n",
       "      <td>2015-01-01 03:00:00</td>\n",
       "    </tr>\n",
       "    <tr>\n",
       "      <th>4</th>\n",
       "      <td>2015-01-01</td>\n",
       "      <td>5</td>\n",
       "      <td>8120</td>\n",
       "      <td>2015-01-01 04:00:00</td>\n",
       "    </tr>\n",
       "    <tr>\n",
       "      <th>...</th>\n",
       "      <td>...</td>\n",
       "      <td>...</td>\n",
       "      <td>...</td>\n",
       "      <td>...</td>\n",
       "    </tr>\n",
       "    <tr>\n",
       "      <th>46603</th>\n",
       "      <td>2020-04-30</td>\n",
       "      <td>20</td>\n",
       "      <td>16858</td>\n",
       "      <td>2020-04-30 19:00:00</td>\n",
       "    </tr>\n",
       "    <tr>\n",
       "      <th>46604</th>\n",
       "      <td>2020-04-30</td>\n",
       "      <td>21</td>\n",
       "      <td>17105</td>\n",
       "      <td>2020-04-30 20:00:00</td>\n",
       "    </tr>\n",
       "    <tr>\n",
       "      <th>46605</th>\n",
       "      <td>2020-04-30</td>\n",
       "      <td>22</td>\n",
       "      <td>16824</td>\n",
       "      <td>2020-04-30 21:00:00</td>\n",
       "    </tr>\n",
       "    <tr>\n",
       "      <th>46606</th>\n",
       "      <td>2020-04-30</td>\n",
       "      <td>23</td>\n",
       "      <td>16332</td>\n",
       "      <td>2020-04-30 22:00:00</td>\n",
       "    </tr>\n",
       "    <tr>\n",
       "      <th>46607</th>\n",
       "      <td>2020-04-30</td>\n",
       "      <td>24</td>\n",
       "      <td>15003</td>\n",
       "      <td>2020-04-30 23:00:00</td>\n",
       "    </tr>\n",
       "  </tbody>\n",
       "</table>\n",
       "<p>46608 rows × 4 columns</p>\n",
       "</div>"
      ],
      "text/plain": [
       "            Date  HOUR System_load       date_and_hour\n",
       "0     2015-01-01     1        8288 2015-01-01 00:00:00\n",
       "1     2015-01-01     2        8099 2015-01-01 01:00:00\n",
       "2     2015-01-01     3        7994 2015-01-01 02:00:00\n",
       "3     2015-01-01     4        7965 2015-01-01 03:00:00\n",
       "4     2015-01-01     5        8120 2015-01-01 04:00:00\n",
       "...          ...   ...         ...                 ...\n",
       "46603 2020-04-30    20       16858 2020-04-30 19:00:00\n",
       "46604 2020-04-30    21       17105 2020-04-30 20:00:00\n",
       "46605 2020-04-30    22       16824 2020-04-30 21:00:00\n",
       "46606 2020-04-30    23       16332 2020-04-30 22:00:00\n",
       "46607 2020-04-30    24       15003 2020-04-30 23:00:00\n",
       "\n",
       "[46608 rows x 4 columns]"
      ]
     },
     "execution_count": 13,
     "metadata": {},
     "output_type": "execute_result"
    }
   ],
   "source": [
    "df"
   ]
  },
  {
   "cell_type": "code",
   "execution_count": 14,
   "metadata": {},
   "outputs": [
    {
     "name": "stdout",
     "output_type": "stream",
     "text": [
      "<class 'pandas.core.frame.DataFrame'>\n",
      "RangeIndex: 46608 entries, 0 to 46607\n",
      "Data columns (total 4 columns):\n",
      " #   Column         Non-Null Count  Dtype         \n",
      "---  ------         --------------  -----         \n",
      " 0   Date           46608 non-null  datetime64[ns]\n",
      " 1   HOUR           46608 non-null  int64         \n",
      " 2   System_load    46608 non-null  object        \n",
      " 3   date_and_hour  46608 non-null  datetime64[ns]\n",
      "dtypes: datetime64[ns](2), int64(1), object(1)\n",
      "memory usage: 1.4+ MB\n"
     ]
    }
   ],
   "source": [
    "df.info()"
   ]
  },
  {
   "cell_type": "code",
   "execution_count": null,
   "metadata": {},
   "outputs": [],
   "source": []
  },
  {
   "cell_type": "code",
   "execution_count": null,
   "metadata": {},
   "outputs": [],
   "source": []
  },
  {
   "cell_type": "code",
   "execution_count": null,
   "metadata": {},
   "outputs": [],
   "source": []
  },
  {
   "cell_type": "code",
   "execution_count": null,
   "metadata": {},
   "outputs": [],
   "source": []
  },
  {
   "cell_type": "markdown",
   "metadata": {},
   "source": [
    "# Practice work"
   ]
  },
  {
   "cell_type": "code",
   "execution_count": 57,
   "metadata": {},
   "outputs": [],
   "source": [
    "df = pd.read_csv('E:\\\\DataSets\\\\ShortTermLF\\\\NTDC\\\\Originol_DataSetNaN.csv')\n",
    "#df = pd.read_csv('E:\\\\DataSets\\\\ShortTermLF\\\\NTDC\\\\Dataset1.csv')"
   ]
  },
  {
   "cell_type": "code",
   "execution_count": 58,
   "metadata": {},
   "outputs": [
    {
     "data": {
      "text/plain": [
       "dtype('int64')"
      ]
     },
     "execution_count": 58,
     "metadata": {},
     "output_type": "execute_result"
    }
   ],
   "source": [
    "df.HOUR.dtype"
   ]
  },
  {
   "cell_type": "code",
   "execution_count": 59,
   "metadata": {},
   "outputs": [],
   "source": [
    "df['rough']='00:00'"
   ]
  },
  {
   "cell_type": "code",
   "execution_count": 60,
   "metadata": {},
   "outputs": [],
   "source": [
    "df['hour']=df['HOUR']-1"
   ]
  },
  {
   "cell_type": "code",
   "execution_count": 61,
   "metadata": {},
   "outputs": [
    {
     "data": {
      "text/html": [
       "<div>\n",
       "<style scoped>\n",
       "    .dataframe tbody tr th:only-of-type {\n",
       "        vertical-align: middle;\n",
       "    }\n",
       "\n",
       "    .dataframe tbody tr th {\n",
       "        vertical-align: top;\n",
       "    }\n",
       "\n",
       "    .dataframe thead th {\n",
       "        text-align: right;\n",
       "    }\n",
       "</style>\n",
       "<table border=\"1\" class=\"dataframe\">\n",
       "  <thead>\n",
       "    <tr style=\"text-align: right;\">\n",
       "      <th></th>\n",
       "      <th>Date</th>\n",
       "      <th>HOUR</th>\n",
       "      <th>System_load</th>\n",
       "      <th>rough</th>\n",
       "      <th>hour</th>\n",
       "    </tr>\n",
       "  </thead>\n",
       "  <tbody>\n",
       "    <tr>\n",
       "      <th>0</th>\n",
       "      <td>01/01/2015</td>\n",
       "      <td>1</td>\n",
       "      <td>8288</td>\n",
       "      <td>00:00</td>\n",
       "      <td>0</td>\n",
       "    </tr>\n",
       "    <tr>\n",
       "      <th>1</th>\n",
       "      <td>01/01/2015</td>\n",
       "      <td>2</td>\n",
       "      <td>8099</td>\n",
       "      <td>00:00</td>\n",
       "      <td>1</td>\n",
       "    </tr>\n",
       "  </tbody>\n",
       "</table>\n",
       "</div>"
      ],
      "text/plain": [
       "         Date  HOUR  System_load  rough  hour\n",
       "0  01/01/2015     1         8288  00:00     0\n",
       "1  01/01/2015     2         8099  00:00     1"
      ]
     },
     "execution_count": 61,
     "metadata": {},
     "output_type": "execute_result"
    }
   ],
   "source": [
    "df.head(2)"
   ]
  },
  {
   "cell_type": "code",
   "execution_count": 62,
   "metadata": {},
   "outputs": [],
   "source": [
    "df[\"hour_m_s\"] = df['hour'].astype(str) +\":\"+ df[\"rough\"].astype(str)\n",
    "del df[\"rough\"]\n",
    "del df['hour']\n"
   ]
  },
  {
   "cell_type": "code",
   "execution_count": 63,
   "metadata": {},
   "outputs": [
    {
     "data": {
      "text/html": [
       "<div>\n",
       "<style scoped>\n",
       "    .dataframe tbody tr th:only-of-type {\n",
       "        vertical-align: middle;\n",
       "    }\n",
       "\n",
       "    .dataframe tbody tr th {\n",
       "        vertical-align: top;\n",
       "    }\n",
       "\n",
       "    .dataframe thead th {\n",
       "        text-align: right;\n",
       "    }\n",
       "</style>\n",
       "<table border=\"1\" class=\"dataframe\">\n",
       "  <thead>\n",
       "    <tr style=\"text-align: right;\">\n",
       "      <th></th>\n",
       "      <th>Date</th>\n",
       "      <th>HOUR</th>\n",
       "      <th>System_load</th>\n",
       "      <th>hour_m_s</th>\n",
       "    </tr>\n",
       "  </thead>\n",
       "  <tbody>\n",
       "    <tr>\n",
       "      <th>0</th>\n",
       "      <td>01/01/2015</td>\n",
       "      <td>1</td>\n",
       "      <td>8288</td>\n",
       "      <td>0:00:00</td>\n",
       "    </tr>\n",
       "    <tr>\n",
       "      <th>1</th>\n",
       "      <td>01/01/2015</td>\n",
       "      <td>2</td>\n",
       "      <td>8099</td>\n",
       "      <td>1:00:00</td>\n",
       "    </tr>\n",
       "  </tbody>\n",
       "</table>\n",
       "</div>"
      ],
      "text/plain": [
       "         Date  HOUR  System_load hour_m_s\n",
       "0  01/01/2015     1         8288  0:00:00\n",
       "1  01/01/2015     2         8099  1:00:00"
      ]
     },
     "execution_count": 63,
     "metadata": {},
     "output_type": "execute_result"
    }
   ],
   "source": [
    "df.head(2)"
   ]
  },
  {
   "cell_type": "code",
   "execution_count": 64,
   "metadata": {},
   "outputs": [],
   "source": [
    "# Using + operator to combine two columns\n",
    "df[\"date_and_hour\"] = df['Date'].astype(str) +\" \"+ df[\"hour_m_s\"].astype(str)\n",
    "del df['Date']\n",
    "del df[\"hour_m_s\"]"
   ]
  },
  {
   "cell_type": "code",
   "execution_count": 65,
   "metadata": {},
   "outputs": [
    {
     "data": {
      "text/html": [
       "<div>\n",
       "<style scoped>\n",
       "    .dataframe tbody tr th:only-of-type {\n",
       "        vertical-align: middle;\n",
       "    }\n",
       "\n",
       "    .dataframe tbody tr th {\n",
       "        vertical-align: top;\n",
       "    }\n",
       "\n",
       "    .dataframe thead th {\n",
       "        text-align: right;\n",
       "    }\n",
       "</style>\n",
       "<table border=\"1\" class=\"dataframe\">\n",
       "  <thead>\n",
       "    <tr style=\"text-align: right;\">\n",
       "      <th></th>\n",
       "      <th>HOUR</th>\n",
       "      <th>System_load</th>\n",
       "      <th>date_and_hour</th>\n",
       "    </tr>\n",
       "  </thead>\n",
       "  <tbody>\n",
       "    <tr>\n",
       "      <th>0</th>\n",
       "      <td>1</td>\n",
       "      <td>8288</td>\n",
       "      <td>01/01/2015 0:00:00</td>\n",
       "    </tr>\n",
       "    <tr>\n",
       "      <th>1</th>\n",
       "      <td>2</td>\n",
       "      <td>8099</td>\n",
       "      <td>01/01/2015 1:00:00</td>\n",
       "    </tr>\n",
       "  </tbody>\n",
       "</table>\n",
       "</div>"
      ],
      "text/plain": [
       "   HOUR  System_load       date_and_hour\n",
       "0     1         8288  01/01/2015 0:00:00\n",
       "1     2         8099  01/01/2015 1:00:00"
      ]
     },
     "execution_count": 65,
     "metadata": {},
     "output_type": "execute_result"
    }
   ],
   "source": [
    "df.head(2)"
   ]
  },
  {
   "cell_type": "code",
   "execution_count": 66,
   "metadata": {},
   "outputs": [],
   "source": [
    "df['date_and_hour']=pd.to_datetime(df['date_and_hour'])"
   ]
  },
  {
   "cell_type": "code",
   "execution_count": 67,
   "metadata": {},
   "outputs": [
    {
     "data": {
      "text/html": [
       "<div>\n",
       "<style scoped>\n",
       "    .dataframe tbody tr th:only-of-type {\n",
       "        vertical-align: middle;\n",
       "    }\n",
       "\n",
       "    .dataframe tbody tr th {\n",
       "        vertical-align: top;\n",
       "    }\n",
       "\n",
       "    .dataframe thead th {\n",
       "        text-align: right;\n",
       "    }\n",
       "</style>\n",
       "<table border=\"1\" class=\"dataframe\">\n",
       "  <thead>\n",
       "    <tr style=\"text-align: right;\">\n",
       "      <th></th>\n",
       "      <th>HOUR</th>\n",
       "      <th>System_load</th>\n",
       "      <th>date_and_hour</th>\n",
       "    </tr>\n",
       "  </thead>\n",
       "  <tbody>\n",
       "    <tr>\n",
       "      <th>0</th>\n",
       "      <td>1</td>\n",
       "      <td>8288</td>\n",
       "      <td>2015-01-01 00:00:00</td>\n",
       "    </tr>\n",
       "    <tr>\n",
       "      <th>1</th>\n",
       "      <td>2</td>\n",
       "      <td>8099</td>\n",
       "      <td>2015-01-01 01:00:00</td>\n",
       "    </tr>\n",
       "    <tr>\n",
       "      <th>2</th>\n",
       "      <td>3</td>\n",
       "      <td>7994</td>\n",
       "      <td>2015-01-01 02:00:00</td>\n",
       "    </tr>\n",
       "    <tr>\n",
       "      <th>3</th>\n",
       "      <td>4</td>\n",
       "      <td>7965</td>\n",
       "      <td>2015-01-01 03:00:00</td>\n",
       "    </tr>\n",
       "    <tr>\n",
       "      <th>4</th>\n",
       "      <td>5</td>\n",
       "      <td>8120</td>\n",
       "      <td>2015-01-01 04:00:00</td>\n",
       "    </tr>\n",
       "    <tr>\n",
       "      <th>5</th>\n",
       "      <td>6</td>\n",
       "      <td>8462</td>\n",
       "      <td>2015-01-01 05:00:00</td>\n",
       "    </tr>\n",
       "    <tr>\n",
       "      <th>6</th>\n",
       "      <td>7</td>\n",
       "      <td>9200</td>\n",
       "      <td>2015-01-01 06:00:00</td>\n",
       "    </tr>\n",
       "    <tr>\n",
       "      <th>7</th>\n",
       "      <td>8</td>\n",
       "      <td>9657</td>\n",
       "      <td>2015-01-01 07:00:00</td>\n",
       "    </tr>\n",
       "    <tr>\n",
       "      <th>8</th>\n",
       "      <td>9</td>\n",
       "      <td>10032</td>\n",
       "      <td>2015-01-01 08:00:00</td>\n",
       "    </tr>\n",
       "    <tr>\n",
       "      <th>9</th>\n",
       "      <td>10</td>\n",
       "      <td>10072</td>\n",
       "      <td>2015-01-01 09:00:00</td>\n",
       "    </tr>\n",
       "    <tr>\n",
       "      <th>10</th>\n",
       "      <td>11</td>\n",
       "      <td>9932</td>\n",
       "      <td>2015-01-01 10:00:00</td>\n",
       "    </tr>\n",
       "    <tr>\n",
       "      <th>11</th>\n",
       "      <td>12</td>\n",
       "      <td>9980</td>\n",
       "      <td>2015-01-01 11:00:00</td>\n",
       "    </tr>\n",
       "    <tr>\n",
       "      <th>12</th>\n",
       "      <td>13</td>\n",
       "      <td>9392</td>\n",
       "      <td>2015-01-01 12:00:00</td>\n",
       "    </tr>\n",
       "    <tr>\n",
       "      <th>13</th>\n",
       "      <td>14</td>\n",
       "      <td>9488</td>\n",
       "      <td>2015-01-01 13:00:00</td>\n",
       "    </tr>\n",
       "    <tr>\n",
       "      <th>14</th>\n",
       "      <td>15</td>\n",
       "      <td>9270</td>\n",
       "      <td>2015-01-01 14:00:00</td>\n",
       "    </tr>\n",
       "    <tr>\n",
       "      <th>15</th>\n",
       "      <td>16</td>\n",
       "      <td>9209</td>\n",
       "      <td>2015-01-01 15:00:00</td>\n",
       "    </tr>\n",
       "    <tr>\n",
       "      <th>16</th>\n",
       "      <td>17</td>\n",
       "      <td>9369</td>\n",
       "      <td>2015-01-01 16:00:00</td>\n",
       "    </tr>\n",
       "    <tr>\n",
       "      <th>17</th>\n",
       "      <td>18</td>\n",
       "      <td>9435</td>\n",
       "      <td>2015-01-01 17:00:00</td>\n",
       "    </tr>\n",
       "    <tr>\n",
       "      <th>18</th>\n",
       "      <td>19</td>\n",
       "      <td>10065</td>\n",
       "      <td>2015-01-01 18:00:00</td>\n",
       "    </tr>\n",
       "    <tr>\n",
       "      <th>19</th>\n",
       "      <td>20</td>\n",
       "      <td>9990</td>\n",
       "      <td>2015-01-01 19:00:00</td>\n",
       "    </tr>\n",
       "    <tr>\n",
       "      <th>20</th>\n",
       "      <td>21</td>\n",
       "      <td>9689</td>\n",
       "      <td>2015-01-01 20:00:00</td>\n",
       "    </tr>\n",
       "    <tr>\n",
       "      <th>21</th>\n",
       "      <td>22</td>\n",
       "      <td>9312</td>\n",
       "      <td>2015-01-01 21:00:00</td>\n",
       "    </tr>\n",
       "    <tr>\n",
       "      <th>22</th>\n",
       "      <td>23</td>\n",
       "      <td>9049</td>\n",
       "      <td>2015-01-01 22:00:00</td>\n",
       "    </tr>\n",
       "    <tr>\n",
       "      <th>23</th>\n",
       "      <td>24</td>\n",
       "      <td>8760</td>\n",
       "      <td>2015-01-01 23:00:00</td>\n",
       "    </tr>\n",
       "    <tr>\n",
       "      <th>24</th>\n",
       "      <td>1</td>\n",
       "      <td>8291</td>\n",
       "      <td>2015-02-01 00:00:00</td>\n",
       "    </tr>\n",
       "  </tbody>\n",
       "</table>\n",
       "</div>"
      ],
      "text/plain": [
       "    HOUR  System_load       date_and_hour\n",
       "0      1         8288 2015-01-01 00:00:00\n",
       "1      2         8099 2015-01-01 01:00:00\n",
       "2      3         7994 2015-01-01 02:00:00\n",
       "3      4         7965 2015-01-01 03:00:00\n",
       "4      5         8120 2015-01-01 04:00:00\n",
       "5      6         8462 2015-01-01 05:00:00\n",
       "6      7         9200 2015-01-01 06:00:00\n",
       "7      8         9657 2015-01-01 07:00:00\n",
       "8      9        10032 2015-01-01 08:00:00\n",
       "9     10        10072 2015-01-01 09:00:00\n",
       "10    11         9932 2015-01-01 10:00:00\n",
       "11    12         9980 2015-01-01 11:00:00\n",
       "12    13         9392 2015-01-01 12:00:00\n",
       "13    14         9488 2015-01-01 13:00:00\n",
       "14    15         9270 2015-01-01 14:00:00\n",
       "15    16         9209 2015-01-01 15:00:00\n",
       "16    17         9369 2015-01-01 16:00:00\n",
       "17    18         9435 2015-01-01 17:00:00\n",
       "18    19        10065 2015-01-01 18:00:00\n",
       "19    20         9990 2015-01-01 19:00:00\n",
       "20    21         9689 2015-01-01 20:00:00\n",
       "21    22         9312 2015-01-01 21:00:00\n",
       "22    23         9049 2015-01-01 22:00:00\n",
       "23    24         8760 2015-01-01 23:00:00\n",
       "24     1         8291 2015-02-01 00:00:00"
      ]
     },
     "execution_count": 67,
     "metadata": {},
     "output_type": "execute_result"
    }
   ],
   "source": [
    "df.head(25)"
   ]
  },
  {
   "cell_type": "code",
   "execution_count": 68,
   "metadata": {},
   "outputs": [],
   "source": [
    "df.set_index('date_and_hour', inplace=True)"
   ]
  },
  {
   "cell_type": "code",
   "execution_count": 69,
   "metadata": {},
   "outputs": [
    {
     "data": {
      "text/html": [
       "<div>\n",
       "<style scoped>\n",
       "    .dataframe tbody tr th:only-of-type {\n",
       "        vertical-align: middle;\n",
       "    }\n",
       "\n",
       "    .dataframe tbody tr th {\n",
       "        vertical-align: top;\n",
       "    }\n",
       "\n",
       "    .dataframe thead th {\n",
       "        text-align: right;\n",
       "    }\n",
       "</style>\n",
       "<table border=\"1\" class=\"dataframe\">\n",
       "  <thead>\n",
       "    <tr style=\"text-align: right;\">\n",
       "      <th></th>\n",
       "      <th>HOUR</th>\n",
       "      <th>System_load</th>\n",
       "    </tr>\n",
       "    <tr>\n",
       "      <th>date_and_hour</th>\n",
       "      <th></th>\n",
       "      <th></th>\n",
       "    </tr>\n",
       "  </thead>\n",
       "  <tbody>\n",
       "    <tr>\n",
       "      <th>2015-01-01 00:00:00</th>\n",
       "      <td>1</td>\n",
       "      <td>8288</td>\n",
       "    </tr>\n",
       "    <tr>\n",
       "      <th>2015-01-01 01:00:00</th>\n",
       "      <td>2</td>\n",
       "      <td>8099</td>\n",
       "    </tr>\n",
       "  </tbody>\n",
       "</table>\n",
       "</div>"
      ],
      "text/plain": [
       "                     HOUR  System_load\n",
       "date_and_hour                         \n",
       "2015-01-01 00:00:00     1         8288\n",
       "2015-01-01 01:00:00     2         8099"
      ]
     },
     "execution_count": 69,
     "metadata": {},
     "output_type": "execute_result"
    }
   ],
   "source": [
    "df.head(2)"
   ]
  },
  {
   "cell_type": "code",
   "execution_count": null,
   "metadata": {},
   "outputs": [],
   "source": [
    "a=pd.date_range('2015-1-1','2020-4-30',freq='H').difference(df.index)\n",
    "len(a)"
   ]
  },
  {
   "cell_type": "code",
   "execution_count": 41,
   "metadata": {},
   "outputs": [
    {
     "name": "stdout",
     "output_type": "stream",
     "text": [
      "data missing in 2015\n",
      " DatetimeIndex(['2015-03-07 01:00:00', '2015-05-06 08:00:00',\n",
      "               '2015-05-06 09:00:00', '2015-05-06 10:00:00',\n",
      "               '2015-05-06 11:00:00', '2015-05-06 12:00:00',\n",
      "               '2015-05-06 13:00:00', '2015-05-06 14:00:00',\n",
      "               '2015-05-06 15:00:00', '2015-05-06 16:00:00',\n",
      "               '2015-05-06 17:00:00', '2015-05-06 18:00:00',\n",
      "               '2015-05-06 19:00:00', '2015-05-06 20:00:00',\n",
      "               '2015-05-06 21:00:00', '2015-05-06 22:00:00',\n",
      "               '2015-05-06 23:00:00', '2015-06-06 00:00:00',\n",
      "               '2015-06-06 01:00:00', '2015-06-06 02:00:00',\n",
      "               '2015-06-06 03:00:00', '2015-06-06 04:00:00',\n",
      "               '2015-06-06 05:00:00', '2015-06-06 06:00:00',\n",
      "               '2015-06-06 07:00:00', '2015-07-01 23:00:00',\n",
      "               '2015-08-01 00:00:00', '2015-12-03 02:00:00',\n",
      "               '2016-02-29 00:00:00', '2016-02-29 01:00:00',\n",
      "               '2016-02-29 02:00:00', '2016-02-29 03:00:00',\n",
      "               '2016-02-29 04:00:00', '2016-02-29 05:00:00',\n",
      "               '2016-02-29 06:00:00', '2016-02-29 07:00:00',\n",
      "               '2016-02-29 08:00:00', '2016-02-29 09:00:00',\n",
      "               '2016-02-29 10:00:00', '2016-02-29 11:00:00',\n",
      "               '2016-02-29 12:00:00', '2016-02-29 13:00:00',\n",
      "               '2016-02-29 14:00:00', '2016-02-29 15:00:00',\n",
      "               '2016-02-29 16:00:00', '2016-02-29 17:00:00',\n",
      "               '2016-02-29 18:00:00', '2016-02-29 19:00:00',\n",
      "               '2016-02-29 20:00:00', '2016-02-29 21:00:00'],\n",
      "              dtype='datetime64[ns]', freq=None)\n",
      "\n",
      "missing points=  28\n"
     ]
    }
   ],
   "source": [
    "print('data missing in 2015\\n', a[0:50])\n",
    "print('\\nmissing points= ',len(a[0:28]))"
   ]
  },
  {
   "cell_type": "code",
   "execution_count": 42,
   "metadata": {},
   "outputs": [
    {
     "name": "stdout",
     "output_type": "stream",
     "text": [
      "data missing in 2016\n",
      "\n",
      " DatetimeIndex(['2016-02-29 00:00:00', '2016-02-29 01:00:00',\n",
      "               '2016-02-29 02:00:00', '2016-02-29 03:00:00',\n",
      "               '2016-02-29 04:00:00', '2016-02-29 05:00:00',\n",
      "               '2016-02-29 06:00:00', '2016-02-29 07:00:00',\n",
      "               '2016-02-29 08:00:00', '2016-02-29 09:00:00',\n",
      "               '2016-02-29 10:00:00', '2016-02-29 11:00:00',\n",
      "               '2016-02-29 12:00:00', '2016-02-29 13:00:00',\n",
      "               '2016-02-29 14:00:00', '2016-02-29 15:00:00',\n",
      "               '2016-02-29 16:00:00', '2016-02-29 17:00:00',\n",
      "               '2016-02-29 18:00:00', '2016-02-29 19:00:00',\n",
      "               '2016-02-29 20:00:00', '2016-02-29 21:00:00',\n",
      "               '2016-02-29 22:00:00', '2016-02-29 23:00:00',\n",
      "               '2016-05-06 08:00:00', '2016-05-06 09:00:00',\n",
      "               '2016-05-06 10:00:00', '2016-05-06 11:00:00',\n",
      "               '2016-05-06 12:00:00', '2016-05-06 13:00:00',\n",
      "               '2016-05-06 14:00:00', '2016-05-06 15:00:00',\n",
      "               '2016-05-06 16:00:00', '2016-05-06 17:00:00',\n",
      "               '2016-05-06 18:00:00', '2016-05-06 19:00:00',\n",
      "               '2016-05-06 20:00:00', '2016-05-06 21:00:00',\n",
      "               '2016-05-06 22:00:00', '2016-05-06 23:00:00',\n",
      "               '2016-06-06 00:00:00', '2016-06-06 01:00:00',\n",
      "               '2016-06-06 02:00:00', '2016-06-06 03:00:00',\n",
      "               '2016-06-06 04:00:00', '2016-06-06 05:00:00',\n",
      "               '2016-06-06 06:00:00', '2016-06-06 07:00:00',\n",
      "               '2016-07-01 23:00:00', '2016-08-01 00:00:00',\n",
      "               '2016-12-03 02:00:00'],\n",
      "              dtype='datetime64[ns]', freq=None)\n",
      "\n",
      "missing points=  51\n"
     ]
    }
   ],
   "source": [
    "print('data missing in 2016\\n\\n', a[28:79])\n",
    "print('\\nmissing points= ',len(a[28:79]))"
   ]
  },
  {
   "cell_type": "code",
   "execution_count": 43,
   "metadata": {},
   "outputs": [
    {
     "name": "stdout",
     "output_type": "stream",
     "text": [
      "data missing in 2017\n",
      "\n",
      " DatetimeIndex(['2017-03-07 01:00:00', '2017-05-06 08:00:00',\n",
      "               '2017-05-06 09:00:00', '2017-05-06 10:00:00',\n",
      "               '2017-05-06 11:00:00', '2017-05-06 12:00:00',\n",
      "               '2017-05-06 13:00:00', '2017-05-06 14:00:00',\n",
      "               '2017-05-06 15:00:00', '2017-05-06 16:00:00',\n",
      "               '2017-05-06 17:00:00', '2017-05-06 18:00:00',\n",
      "               '2017-05-06 19:00:00', '2017-05-06 20:00:00',\n",
      "               '2017-05-06 21:00:00', '2017-05-06 22:00:00',\n",
      "               '2017-05-06 23:00:00', '2017-06-06 00:00:00',\n",
      "               '2017-06-06 01:00:00', '2017-06-06 02:00:00',\n",
      "               '2017-06-06 03:00:00', '2017-06-06 04:00:00',\n",
      "               '2017-06-06 05:00:00', '2017-06-06 06:00:00',\n",
      "               '2017-06-06 07:00:00', '2017-07-01 23:00:00',\n",
      "               '2017-08-01 00:00:00', '2017-12-03 02:00:00'],\n",
      "              dtype='datetime64[ns]', freq=None)\n",
      "\n",
      "missing points=  28\n"
     ]
    }
   ],
   "source": [
    "print('data missing in 2017\\n\\n', a[79:107])\n",
    "print('\\nmissing points= ',len(a[79:107]))"
   ]
  },
  {
   "cell_type": "code",
   "execution_count": 44,
   "metadata": {},
   "outputs": [
    {
     "name": "stdout",
     "output_type": "stream",
     "text": [
      "data missing in 2018\n",
      "\n",
      " DatetimeIndex(['2018-03-07 01:00:00', '2018-05-06 08:00:00',\n",
      "               '2018-05-06 09:00:00', '2018-05-06 10:00:00',\n",
      "               '2018-05-06 11:00:00', '2018-05-06 12:00:00',\n",
      "               '2018-05-06 13:00:00', '2018-05-06 14:00:00',\n",
      "               '2018-05-06 15:00:00', '2018-05-06 16:00:00',\n",
      "               '2018-05-06 17:00:00', '2018-05-06 18:00:00',\n",
      "               '2018-05-06 19:00:00', '2018-05-06 20:00:00',\n",
      "               '2018-05-06 21:00:00', '2018-05-06 22:00:00',\n",
      "               '2018-05-06 23:00:00', '2018-06-06 00:00:00',\n",
      "               '2018-06-06 01:00:00', '2018-06-06 02:00:00',\n",
      "               '2018-06-06 03:00:00', '2018-06-06 04:00:00',\n",
      "               '2018-06-06 05:00:00', '2018-06-06 06:00:00',\n",
      "               '2018-06-06 07:00:00', '2018-07-01 23:00:00',\n",
      "               '2018-08-01 00:00:00', '2018-12-03 02:00:00'],\n",
      "              dtype='datetime64[ns]', freq=None)\n",
      "\n",
      "missing points=  28\n"
     ]
    }
   ],
   "source": [
    "print('data missing in 2018\\n\\n', a[107:135])\n",
    "print('\\nmissing points= ',len(a[107:135]))"
   ]
  },
  {
   "cell_type": "code",
   "execution_count": 45,
   "metadata": {},
   "outputs": [
    {
     "name": "stdout",
     "output_type": "stream",
     "text": [
      "data missing in 2019\n",
      "\n",
      " DatetimeIndex(['2019-01-07 22:00:00', '2019-01-07 23:00:00',\n",
      "               '2019-01-09 01:00:00', '2019-01-27 23:00:00',\n",
      "               '2019-02-03 23:00:00', '2019-02-06 23:00:00',\n",
      "               '2019-02-10 00:00:00', '2019-02-27 23:00:00',\n",
      "               '2019-03-20 23:00:00', '2019-05-07 23:00:00',\n",
      "               '2019-05-16 23:00:00', '2019-05-20 23:00:00',\n",
      "               '2019-05-31 23:00:00', '2019-08-02 23:00:00',\n",
      "               '2019-08-10 01:00:00', '2019-08-14 00:00:00',\n",
      "               '2019-09-01 23:00:00', '2019-10-02 23:00:00',\n",
      "               '2019-10-05 23:00:00', '2019-10-11 00:00:00',\n",
      "               '2019-11-07 23:00:00', '2019-12-04 23:00:00',\n",
      "               '2019-12-19 00:00:00', '2019-12-21 00:00:00',\n",
      "               '2019-12-24 00:00:00', '2019-12-28 00:00:00'],\n",
      "              dtype='datetime64[ns]', freq=None)\n",
      "\n",
      "missing points=  26\n"
     ]
    }
   ],
   "source": [
    "print('data missing in 2019\\n\\n', a[135:161])\n",
    "print('\\nmissing points= ',len(a[135:161]))"
   ]
  },
  {
   "cell_type": "code",
   "execution_count": 46,
   "metadata": {},
   "outputs": [
    {
     "name": "stdout",
     "output_type": "stream",
     "text": [
      "data missing in 2020\n",
      "\n",
      " DatetimeIndex(['2020-01-05 00:00:00', '2020-01-05 01:00:00',\n",
      "               '2020-01-05 02:00:00', '2020-01-05 03:00:00',\n",
      "               '2020-01-05 04:00:00', '2020-01-05 05:00:00',\n",
      "               '2020-01-05 06:00:00', '2020-01-05 07:00:00',\n",
      "               '2020-01-05 08:00:00', '2020-01-05 09:00:00',\n",
      "               ...\n",
      "               '2020-04-12 14:00:00', '2020-04-12 15:00:00',\n",
      "               '2020-04-12 16:00:00', '2020-04-12 17:00:00',\n",
      "               '2020-04-12 18:00:00', '2020-04-12 19:00:00',\n",
      "               '2020-04-12 20:00:00', '2020-04-12 21:00:00',\n",
      "               '2020-04-12 22:00:00', '2020-04-12 23:00:00'],\n",
      "              dtype='datetime64[ns]', length=777, freq=None)\n",
      "\n",
      "missing points=  777\n"
     ]
    }
   ],
   "source": [
    "print('data missing in 2020\\n\\n', a[161:])\n",
    "print('\\nmissing points= ',len(a[161:]))"
   ]
  },
  {
   "cell_type": "markdown",
   "metadata": {},
   "source": [
    "# Practice "
   ]
  },
  {
   "cell_type": "code",
   "execution_count": 3,
   "metadata": {},
   "outputs": [],
   "source": [
    "import pandas as pd\n",
    "data=pd.read_csv('C:\\\\Users\\\\arif\\\\OneDrive\\\\Journal Paper\\\\Code\\\\Hasant code\\\\1_process_originol_datset_to_find_number_of_missing_points\\\\1_Dataset_ready_for_filling.csv')\n",
    "data = data[[\"System_load\"]]"
   ]
  },
  {
   "cell_type": "code",
   "execution_count": 4,
   "metadata": {},
   "outputs": [
    {
     "data": {
      "text/html": [
       "<div>\n",
       "<style scoped>\n",
       "    .dataframe tbody tr th:only-of-type {\n",
       "        vertical-align: middle;\n",
       "    }\n",
       "\n",
       "    .dataframe tbody tr th {\n",
       "        vertical-align: top;\n",
       "    }\n",
       "\n",
       "    .dataframe thead th {\n",
       "        text-align: right;\n",
       "    }\n",
       "</style>\n",
       "<table border=\"1\" class=\"dataframe\">\n",
       "  <thead>\n",
       "    <tr style=\"text-align: right;\">\n",
       "      <th></th>\n",
       "      <th>System_load</th>\n",
       "    </tr>\n",
       "  </thead>\n",
       "  <tbody>\n",
       "    <tr>\n",
       "      <th>0</th>\n",
       "      <td>8288</td>\n",
       "    </tr>\n",
       "    <tr>\n",
       "      <th>1</th>\n",
       "      <td>8099</td>\n",
       "    </tr>\n",
       "    <tr>\n",
       "      <th>2</th>\n",
       "      <td>7994</td>\n",
       "    </tr>\n",
       "    <tr>\n",
       "      <th>3</th>\n",
       "      <td>7965</td>\n",
       "    </tr>\n",
       "    <tr>\n",
       "      <th>4</th>\n",
       "      <td>8120</td>\n",
       "    </tr>\n",
       "    <tr>\n",
       "      <th>...</th>\n",
       "      <td>...</td>\n",
       "    </tr>\n",
       "    <tr>\n",
       "      <th>46723</th>\n",
       "      <td>16858</td>\n",
       "    </tr>\n",
       "    <tr>\n",
       "      <th>46724</th>\n",
       "      <td>17105</td>\n",
       "    </tr>\n",
       "    <tr>\n",
       "      <th>46725</th>\n",
       "      <td>16824</td>\n",
       "    </tr>\n",
       "    <tr>\n",
       "      <th>46726</th>\n",
       "      <td>16332</td>\n",
       "    </tr>\n",
       "    <tr>\n",
       "      <th>46727</th>\n",
       "      <td>15003</td>\n",
       "    </tr>\n",
       "  </tbody>\n",
       "</table>\n",
       "<p>46728 rows × 1 columns</p>\n",
       "</div>"
      ],
      "text/plain": [
       "      System_load\n",
       "0            8288\n",
       "1            8099\n",
       "2            7994\n",
       "3            7965\n",
       "4            8120\n",
       "...           ...\n",
       "46723       16858\n",
       "46724       17105\n",
       "46725       16824\n",
       "46726       16332\n",
       "46727       15003\n",
       "\n",
       "[46728 rows x 1 columns]"
      ]
     },
     "execution_count": 4,
     "metadata": {},
     "output_type": "execute_result"
    }
   ],
   "source": [
    "data"
   ]
  },
  {
   "cell_type": "code",
   "execution_count": 7,
   "metadata": {},
   "outputs": [
    {
     "data": {
      "text/html": [
       "<div>\n",
       "<style scoped>\n",
       "    .dataframe tbody tr th:only-of-type {\n",
       "        vertical-align: middle;\n",
       "    }\n",
       "\n",
       "    .dataframe tbody tr th {\n",
       "        vertical-align: top;\n",
       "    }\n",
       "\n",
       "    .dataframe thead th {\n",
       "        text-align: right;\n",
       "    }\n",
       "</style>\n",
       "<table border=\"1\" class=\"dataframe\">\n",
       "  <thead>\n",
       "    <tr style=\"text-align: right;\">\n",
       "      <th></th>\n",
       "      <th>System_load</th>\n",
       "    </tr>\n",
       "  </thead>\n",
       "  <tbody>\n",
       "    <tr>\n",
       "      <th>167</th>\n",
       "      <td>NaN</td>\n",
       "    </tr>\n",
       "    <tr>\n",
       "      <th>168</th>\n",
       "      <td>NaN</td>\n",
       "    </tr>\n",
       "    <tr>\n",
       "      <th>1682</th>\n",
       "      <td>NaN</td>\n",
       "    </tr>\n",
       "    <tr>\n",
       "      <th>3728</th>\n",
       "      <td>NaN</td>\n",
       "    </tr>\n",
       "    <tr>\n",
       "      <th>3729</th>\n",
       "      <td>NaN</td>\n",
       "    </tr>\n",
       "    <tr>\n",
       "      <th>...</th>\n",
       "      <td>...</td>\n",
       "    </tr>\n",
       "    <tr>\n",
       "      <th>45814</th>\n",
       "      <td>NaN</td>\n",
       "    </tr>\n",
       "    <tr>\n",
       "      <th>45982</th>\n",
       "      <td>NaN</td>\n",
       "    </tr>\n",
       "    <tr>\n",
       "      <th>45983</th>\n",
       "      <td>NaN</td>\n",
       "    </tr>\n",
       "    <tr>\n",
       "      <th>46054</th>\n",
       "      <td>NaN</td>\n",
       "    </tr>\n",
       "    <tr>\n",
       "      <th>46055</th>\n",
       "      <td>NaN</td>\n",
       "    </tr>\n",
       "  </tbody>\n",
       "</table>\n",
       "<p>171 rows × 1 columns</p>\n",
       "</div>"
      ],
      "text/plain": [
       "      System_load\n",
       "167           NaN\n",
       "168           NaN\n",
       "1682          NaN\n",
       "3728          NaN\n",
       "3729          NaN\n",
       "...           ...\n",
       "45814         NaN\n",
       "45982         NaN\n",
       "45983         NaN\n",
       "46054         NaN\n",
       "46055         NaN\n",
       "\n",
       "[171 rows x 1 columns]"
      ]
     },
     "execution_count": 7,
     "metadata": {},
     "output_type": "execute_result"
    }
   ],
   "source": [
    "data[data[\"System_load\"].isnull()]"
   ]
  },
  {
   "cell_type": "code",
   "execution_count": null,
   "metadata": {},
   "outputs": [],
   "source": [
    "import pandas as pd\n",
    "data=pd.read_csv('C:\\\\Users\\\\arif\\\\OneDrive\\\\Journal Paper\\\\Code\\\\Hasant code\\\\1_process_originol_datset_to_find_number_of_missing_points\\\\1_Dataset_ready_for_filling.csv')\n",
    "data = data[[\"System_load\"]]\n",
    "test_data = data[data[\"System_load\"].isnull()]\n",
    "data.dropna(inplace=True)\n",
    "x_train = data.drop(\"Age\", axis=1)\n",
    "x_test = test_data.drop(\"Age\", axis=1)\n",
    "y_train = data[\"Age\"]"
   ]
  },
  {
   "cell_type": "code",
   "execution_count": null,
   "metadata": {},
   "outputs": [],
   "source": []
  },
  {
   "cell_type": "code",
   "execution_count": null,
   "metadata": {},
   "outputs": [],
   "source": []
  },
  {
   "cell_type": "code",
   "execution_count": null,
   "metadata": {},
   "outputs": [],
   "source": []
  }
 ],
 "metadata": {
  "kernelspec": {
   "display_name": "Python 3 (ipykernel)",
   "language": "python",
   "name": "python3"
  },
  "language_info": {
   "codemirror_mode": {
    "name": "ipython",
    "version": 3
   },
   "file_extension": ".py",
   "mimetype": "text/x-python",
   "name": "python",
   "nbconvert_exporter": "python",
   "pygments_lexer": "ipython3",
   "version": "3.7.13"
  }
 },
 "nbformat": 4,
 "nbformat_minor": 4
}
