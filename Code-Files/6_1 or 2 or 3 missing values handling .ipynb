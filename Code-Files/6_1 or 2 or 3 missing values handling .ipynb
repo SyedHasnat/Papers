{
 "cells": [
  {
   "cell_type": "code",
   "execution_count": 1,
   "id": "4415dd67",
   "metadata": {},
   "outputs": [],
   "source": [
    "import pandas as pd\n",
    "import numpy as np\n",
    "import matplotlib.pyplot as plt\n",
    "#import seaborn as sns\n",
    "%matplotlib inline"
   ]
  },
  {
   "cell_type": "code",
   "execution_count": 2,
   "id": "1ada329e",
   "metadata": {},
   "outputs": [],
   "source": [
    "df = pd.read_csv('C:\\\\Users\\\\arif\\\\OneDrive\\\\Journal Paper\\\\Code\\\\Irshad\\\\Dataset\\\\4_fill_consectives_missing.csv', parse_dates=['date_and_hour'], index_col='date_and_hour')"
   ]
  },
  {
   "cell_type": "code",
   "execution_count": 3,
   "id": "df131f8e",
   "metadata": {},
   "outputs": [
    {
     "data": {
      "text/html": [
       "<div>\n",
       "<style scoped>\n",
       "    .dataframe tbody tr th:only-of-type {\n",
       "        vertical-align: middle;\n",
       "    }\n",
       "\n",
       "    .dataframe tbody tr th {\n",
       "        vertical-align: top;\n",
       "    }\n",
       "\n",
       "    .dataframe thead th {\n",
       "        text-align: right;\n",
       "    }\n",
       "</style>\n",
       "<table border=\"1\" class=\"dataframe\">\n",
       "  <thead>\n",
       "    <tr style=\"text-align: right;\">\n",
       "      <th></th>\n",
       "      <th>System_load</th>\n",
       "    </tr>\n",
       "    <tr>\n",
       "      <th>date_and_hour</th>\n",
       "      <th></th>\n",
       "    </tr>\n",
       "  </thead>\n",
       "  <tbody>\n",
       "    <tr>\n",
       "      <th>2015-01-01 00:00:00</th>\n",
       "      <td>8288.0</td>\n",
       "    </tr>\n",
       "    <tr>\n",
       "      <th>2015-01-01 01:00:00</th>\n",
       "      <td>8099.0</td>\n",
       "    </tr>\n",
       "    <tr>\n",
       "      <th>2015-01-01 02:00:00</th>\n",
       "      <td>7994.0</td>\n",
       "    </tr>\n",
       "    <tr>\n",
       "      <th>2015-01-01 03:00:00</th>\n",
       "      <td>7965.0</td>\n",
       "    </tr>\n",
       "    <tr>\n",
       "      <th>2015-01-01 04:00:00</th>\n",
       "      <td>8120.0</td>\n",
       "    </tr>\n",
       "    <tr>\n",
       "      <th>...</th>\n",
       "      <td>...</td>\n",
       "    </tr>\n",
       "    <tr>\n",
       "      <th>2020-04-30 19:00:00</th>\n",
       "      <td>16858.0</td>\n",
       "    </tr>\n",
       "    <tr>\n",
       "      <th>2020-04-30 20:00:00</th>\n",
       "      <td>17105.0</td>\n",
       "    </tr>\n",
       "    <tr>\n",
       "      <th>2020-04-30 21:00:00</th>\n",
       "      <td>16824.0</td>\n",
       "    </tr>\n",
       "    <tr>\n",
       "      <th>2020-04-30 22:00:00</th>\n",
       "      <td>16332.0</td>\n",
       "    </tr>\n",
       "    <tr>\n",
       "      <th>2020-04-30 23:00:00</th>\n",
       "      <td>15003.0</td>\n",
       "    </tr>\n",
       "  </tbody>\n",
       "</table>\n",
       "<p>46728 rows × 1 columns</p>\n",
       "</div>"
      ],
      "text/plain": [
       "                     System_load\n",
       "date_and_hour                   \n",
       "2015-01-01 00:00:00       8288.0\n",
       "2015-01-01 01:00:00       8099.0\n",
       "2015-01-01 02:00:00       7994.0\n",
       "2015-01-01 03:00:00       7965.0\n",
       "2015-01-01 04:00:00       8120.0\n",
       "...                          ...\n",
       "2020-04-30 19:00:00      16858.0\n",
       "2020-04-30 20:00:00      17105.0\n",
       "2020-04-30 21:00:00      16824.0\n",
       "2020-04-30 22:00:00      16332.0\n",
       "2020-04-30 23:00:00      15003.0\n",
       "\n",
       "[46728 rows x 1 columns]"
      ]
     },
     "execution_count": 3,
     "metadata": {},
     "output_type": "execute_result"
    }
   ],
   "source": [
    "df"
   ]
  },
  {
   "cell_type": "code",
   "execution_count": 4,
   "id": "1b1dc915",
   "metadata": {},
   "outputs": [],
   "source": [
    "df['System_load'].interpolate(method='time',inplace=True)"
   ]
  },
  {
   "cell_type": "code",
   "execution_count": 5,
   "id": "29cf50de",
   "metadata": {},
   "outputs": [
    {
     "data": {
      "text/plain": [
       "System_load    0\n",
       "dtype: int64"
      ]
     },
     "execution_count": 5,
     "metadata": {},
     "output_type": "execute_result"
    }
   ],
   "source": [
    "# will fill the remaing by interpolation\n",
    "df.isnull().sum()"
   ]
  },
  {
   "cell_type": "code",
   "execution_count": 6,
   "id": "4af6496e",
   "metadata": {},
   "outputs": [],
   "source": [
    "df.reset_index(inplace=True)"
   ]
  },
  {
   "cell_type": "code",
   "execution_count": 7,
   "id": "b101e69e",
   "metadata": {},
   "outputs": [
    {
     "data": {
      "text/html": [
       "<div>\n",
       "<style scoped>\n",
       "    .dataframe tbody tr th:only-of-type {\n",
       "        vertical-align: middle;\n",
       "    }\n",
       "\n",
       "    .dataframe tbody tr th {\n",
       "        vertical-align: top;\n",
       "    }\n",
       "\n",
       "    .dataframe thead th {\n",
       "        text-align: right;\n",
       "    }\n",
       "</style>\n",
       "<table border=\"1\" class=\"dataframe\">\n",
       "  <thead>\n",
       "    <tr style=\"text-align: right;\">\n",
       "      <th></th>\n",
       "      <th>date_and_hour</th>\n",
       "      <th>System_load</th>\n",
       "    </tr>\n",
       "  </thead>\n",
       "  <tbody>\n",
       "    <tr>\n",
       "      <th>0</th>\n",
       "      <td>2015-01-01 00:00:00</td>\n",
       "      <td>8288.0</td>\n",
       "    </tr>\n",
       "    <tr>\n",
       "      <th>1</th>\n",
       "      <td>2015-01-01 01:00:00</td>\n",
       "      <td>8099.0</td>\n",
       "    </tr>\n",
       "    <tr>\n",
       "      <th>2</th>\n",
       "      <td>2015-01-01 02:00:00</td>\n",
       "      <td>7994.0</td>\n",
       "    </tr>\n",
       "    <tr>\n",
       "      <th>3</th>\n",
       "      <td>2015-01-01 03:00:00</td>\n",
       "      <td>7965.0</td>\n",
       "    </tr>\n",
       "    <tr>\n",
       "      <th>4</th>\n",
       "      <td>2015-01-01 04:00:00</td>\n",
       "      <td>8120.0</td>\n",
       "    </tr>\n",
       "    <tr>\n",
       "      <th>...</th>\n",
       "      <td>...</td>\n",
       "      <td>...</td>\n",
       "    </tr>\n",
       "    <tr>\n",
       "      <th>46723</th>\n",
       "      <td>2020-04-30 19:00:00</td>\n",
       "      <td>16858.0</td>\n",
       "    </tr>\n",
       "    <tr>\n",
       "      <th>46724</th>\n",
       "      <td>2020-04-30 20:00:00</td>\n",
       "      <td>17105.0</td>\n",
       "    </tr>\n",
       "    <tr>\n",
       "      <th>46725</th>\n",
       "      <td>2020-04-30 21:00:00</td>\n",
       "      <td>16824.0</td>\n",
       "    </tr>\n",
       "    <tr>\n",
       "      <th>46726</th>\n",
       "      <td>2020-04-30 22:00:00</td>\n",
       "      <td>16332.0</td>\n",
       "    </tr>\n",
       "    <tr>\n",
       "      <th>46727</th>\n",
       "      <td>2020-04-30 23:00:00</td>\n",
       "      <td>15003.0</td>\n",
       "    </tr>\n",
       "  </tbody>\n",
       "</table>\n",
       "<p>46728 rows × 2 columns</p>\n",
       "</div>"
      ],
      "text/plain": [
       "            date_and_hour  System_load\n",
       "0     2015-01-01 00:00:00       8288.0\n",
       "1     2015-01-01 01:00:00       8099.0\n",
       "2     2015-01-01 02:00:00       7994.0\n",
       "3     2015-01-01 03:00:00       7965.0\n",
       "4     2015-01-01 04:00:00       8120.0\n",
       "...                   ...          ...\n",
       "46723 2020-04-30 19:00:00      16858.0\n",
       "46724 2020-04-30 20:00:00      17105.0\n",
       "46725 2020-04-30 21:00:00      16824.0\n",
       "46726 2020-04-30 22:00:00      16332.0\n",
       "46727 2020-04-30 23:00:00      15003.0\n",
       "\n",
       "[46728 rows x 2 columns]"
      ]
     },
     "execution_count": 7,
     "metadata": {},
     "output_type": "execute_result"
    }
   ],
   "source": [
    "df"
   ]
  },
  {
   "cell_type": "code",
   "execution_count": 8,
   "id": "d37cadc5",
   "metadata": {},
   "outputs": [],
   "source": [
    "df.to_csv('C:\\\\Users\\\\arif\\\\OneDrive\\\\Journal Paper\\\\Code\\\\Irshad\\\\Dataset\\\\5_All_Values_handaled.csv',index=False)"
   ]
  },
  {
   "cell_type": "code",
   "execution_count": 9,
   "id": "14771c8f",
   "metadata": {},
   "outputs": [],
   "source": [
    "df = pd.read_csv('C:\\\\Users\\\\arif\\\\OneDrive\\\\Journal Paper\\\\Code\\\\Irshad\\\\Dataset\\\\5_All_Values_handaled.csv', parse_dates=['date_and_hour'], index_col='date_and_hour')"
   ]
  },
  {
   "cell_type": "code",
   "execution_count": 10,
   "id": "c676e6ec",
   "metadata": {},
   "outputs": [
    {
     "data": {
      "text/plain": [
       "System_load    0\n",
       "dtype: int64"
      ]
     },
     "execution_count": 10,
     "metadata": {},
     "output_type": "execute_result"
    }
   ],
   "source": [
    "# will fill the remaing by interpolation\n",
    "df.isnull().sum()"
   ]
  },
  {
   "cell_type": "code",
   "execution_count": null,
   "id": "a79bae3e",
   "metadata": {},
   "outputs": [],
   "source": []
  }
 ],
 "metadata": {
  "kernelspec": {
   "display_name": "Python 3 (ipykernel)",
   "language": "python",
   "name": "python3"
  },
  "language_info": {
   "codemirror_mode": {
    "name": "ipython",
    "version": 3
   },
   "file_extension": ".py",
   "mimetype": "text/x-python",
   "name": "python",
   "nbconvert_exporter": "python",
   "pygments_lexer": "ipython3",
   "version": "3.7.13"
  }
 },
 "nbformat": 4,
 "nbformat_minor": 5
}
