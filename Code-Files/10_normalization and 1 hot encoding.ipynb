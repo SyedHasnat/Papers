{
 "cells": [
  {
   "cell_type": "code",
   "execution_count": 11,
   "id": "bbc3ddeb",
   "metadata": {
    "scrolled": true
   },
   "outputs": [],
   "source": [
    "import numpy as np\n",
    "import pandas as pd\n",
    "from pandas import read_csv\n",
    "import pickle\n",
    "from sklearn.preprocessing import MinMaxScaler, StandardScaler\n",
    "from sklearn.preprocessing import OneHotEncoder"
   ]
  },
  {
   "cell_type": "code",
   "execution_count": 2,
   "id": "87e8063c",
   "metadata": {},
   "outputs": [
    {
     "data": {
      "text/html": [
       "<div>\n",
       "<style scoped>\n",
       "    .dataframe tbody tr th:only-of-type {\n",
       "        vertical-align: middle;\n",
       "    }\n",
       "\n",
       "    .dataframe tbody tr th {\n",
       "        vertical-align: top;\n",
       "    }\n",
       "\n",
       "    .dataframe thead th {\n",
       "        text-align: right;\n",
       "    }\n",
       "</style>\n",
       "<table border=\"1\" class=\"dataframe\">\n",
       "  <thead>\n",
       "    <tr style=\"text-align: right;\">\n",
       "      <th></th>\n",
       "      <th>System_load</th>\n",
       "      <th>Year</th>\n",
       "      <th>Month_of_year</th>\n",
       "      <th>Day_Of_Week</th>\n",
       "      <th>hour_of_day</th>\n",
       "      <th>holiday</th>\n",
       "      <th>winter_peak</th>\n",
       "      <th>Spring_Peak</th>\n",
       "      <th>Summer_Peak</th>\n",
       "      <th>Autumn_peak</th>\n",
       "    </tr>\n",
       "    <tr>\n",
       "      <th>date_and_hour</th>\n",
       "      <th></th>\n",
       "      <th></th>\n",
       "      <th></th>\n",
       "      <th></th>\n",
       "      <th></th>\n",
       "      <th></th>\n",
       "      <th></th>\n",
       "      <th></th>\n",
       "      <th></th>\n",
       "      <th></th>\n",
       "    </tr>\n",
       "  </thead>\n",
       "  <tbody>\n",
       "    <tr>\n",
       "      <th>2015-01-01 00:00:00</th>\n",
       "      <td>8288.0</td>\n",
       "      <td>2015</td>\n",
       "      <td>1</td>\n",
       "      <td>3</td>\n",
       "      <td>0</td>\n",
       "      <td>0</td>\n",
       "      <td>0</td>\n",
       "      <td>0</td>\n",
       "      <td>0</td>\n",
       "      <td>0</td>\n",
       "    </tr>\n",
       "    <tr>\n",
       "      <th>2015-01-01 01:00:00</th>\n",
       "      <td>8099.0</td>\n",
       "      <td>2015</td>\n",
       "      <td>1</td>\n",
       "      <td>3</td>\n",
       "      <td>1</td>\n",
       "      <td>0</td>\n",
       "      <td>0</td>\n",
       "      <td>0</td>\n",
       "      <td>0</td>\n",
       "      <td>0</td>\n",
       "    </tr>\n",
       "  </tbody>\n",
       "</table>\n",
       "</div>"
      ],
      "text/plain": [
       "                     System_load  Year  Month_of_year  Day_Of_Week  \\\n",
       "date_and_hour                                                        \n",
       "2015-01-01 00:00:00       8288.0  2015              1            3   \n",
       "2015-01-01 01:00:00       8099.0  2015              1            3   \n",
       "\n",
       "                     hour_of_day  holiday  winter_peak  Spring_Peak  \\\n",
       "date_and_hour                                                         \n",
       "2015-01-01 00:00:00            0        0            0            0   \n",
       "2015-01-01 01:00:00            1        0            0            0   \n",
       "\n",
       "                     Summer_Peak  Autumn_peak  \n",
       "date_and_hour                                  \n",
       "2015-01-01 00:00:00            0            0  \n",
       "2015-01-01 01:00:00            0            0  "
      ]
     },
     "execution_count": 2,
     "metadata": {},
     "output_type": "execute_result"
    }
   ],
   "source": [
    "df=pd.read_csv('C:\\\\Users\\\\Syed Hasnat\\\\OneDrive\\\\Journal Paper\\\\Code\\\\Hasant code\\\\dataset_plots_code\\\\Dataset\\\\7_Dataset.csv',parse_dates=['date_and_hour'],index_col=['date_and_hour'])\n",
    "df.head(2)"
   ]
  },
  {
   "cell_type": "code",
   "execution_count": 3,
   "id": "df2b787f",
   "metadata": {},
   "outputs": [
    {
     "name": "stdout",
     "output_type": "stream",
     "text": [
      "<class 'pandas.core.frame.DataFrame'>\n",
      "DatetimeIndex: 46728 entries, 2015-01-01 00:00:00 to 2020-04-30 23:00:00\n",
      "Data columns (total 10 columns):\n",
      " #   Column         Non-Null Count  Dtype  \n",
      "---  ------         --------------  -----  \n",
      " 0   System_load    46728 non-null  float64\n",
      " 1   Year           46728 non-null  int64  \n",
      " 2   Month_of_year  46728 non-null  int64  \n",
      " 3   Day_Of_Week    46728 non-null  int64  \n",
      " 4   hour_of_day    46728 non-null  int64  \n",
      " 5   holiday        46728 non-null  int64  \n",
      " 6   winter_peak    46728 non-null  int64  \n",
      " 7   Spring_Peak    46728 non-null  int64  \n",
      " 8   Summer_Peak    46728 non-null  int64  \n",
      " 9   Autumn_peak    46728 non-null  int64  \n",
      "dtypes: float64(1), int64(9)\n",
      "memory usage: 3.9 MB\n"
     ]
    }
   ],
   "source": [
    "df.info()"
   ]
  },
  {
   "cell_type": "code",
   "execution_count": 4,
   "id": "9b4c6a4d",
   "metadata": {},
   "outputs": [
    {
     "data": {
      "text/plain": [
       "(46728, 10)"
      ]
     },
     "execution_count": 4,
     "metadata": {},
     "output_type": "execute_result"
    }
   ],
   "source": [
    "dataset = df.iloc[:].values #np.array(df) dwara use koli sho\n",
    "dataset.shape"
   ]
  },
  {
   "cell_type": "code",
   "execution_count": 5,
   "id": "0ae7a4be",
   "metadata": {},
   "outputs": [],
   "source": [
    "#del df['Year']"
   ]
  },
  {
   "cell_type": "code",
   "execution_count": 5,
   "id": "df9b24ca",
   "metadata": {},
   "outputs": [
    {
     "data": {
      "text/plain": [
       "(46728, 10)"
      ]
     },
     "execution_count": 5,
     "metadata": {},
     "output_type": "execute_result"
    }
   ],
   "source": [
    "dataset = df.iloc[:].values #np.array(df) dwara use koli sho\n",
    "dataset.shape"
   ]
  },
  {
   "cell_type": "markdown",
   "id": "636a7e65",
   "metadata": {},
   "source": [
    "# Function to split data For Training, Validation & Test"
   ]
  },
  {
   "cell_type": "code",
   "execution_count": 6,
   "id": "a3227ad6",
   "metadata": {},
   "outputs": [],
   "source": [
    "def t_v_t(dataset,train_p,validation_p,test_p):\n",
    "    '''\n",
    "    \\n\\nt_v_t(dataset,train_p,validation_p,test_p)\\n\n",
    "    dataset = DataFrame\n",
    "    train_p = Percentage of Traing Data\n",
    "    validation_p = Percentage of Validation Data\n",
    "    test_p = Percentage of Test Data\n",
    "    \\n\\nExample:\n",
    "    to call this Function;\n",
    "    train_set , validation_set , test_set = t_v_t(df,70,20,10)\n",
    "    '''\n",
    "    train_p=train_p/100\n",
    "    validation_p=validation_p/100\n",
    "    test_p=test_p/100\n",
    "    train=int(np.round(len(dataset)*train_p))                                 #70\n",
    "    validation=int(np.round(len(dataset)*validation_p))                       #20\n",
    "    test=int(np.round(len(dataset)*test_p))                                   #10\n",
    "    train_set,validation_set,test_set=dataset[:train],dataset[train:train+validation],dataset[train+validation:len(dataset)]\n",
    "    return train_set,validation_set,test_set"
   ]
  },
  {
   "cell_type": "code",
   "execution_count": 7,
   "id": "34482667",
   "metadata": {},
   "outputs": [
    {
     "name": "stdout",
     "output_type": "stream",
     "text": [
      "\n",
      "    \n",
      "\n",
      "t_v_t(dataset,train_p,validation_p,test_p)\n",
      "\n",
      "    dataset = DataFrame\n",
      "    train_p = Percentage of Traing Data\n",
      "    validation_p = Percentage of Validation Data\n",
      "    test_p = Percentage of Test Data\n",
      "    \n",
      "\n",
      "Example:\n",
      "    to call this Function;\n",
      "    train_set , validation_set , test_set = t_v_t(df,70,20,10)\n",
      "    \n"
     ]
    }
   ],
   "source": [
    "print(t_v_t.__doc__)"
   ]
  },
  {
   "cell_type": "markdown",
   "id": "35b24f16",
   "metadata": {},
   "source": [
    "# Normalization"
   ]
  },
  {
   "cell_type": "code",
   "execution_count": 8,
   "id": "7a32a605",
   "metadata": {},
   "outputs": [],
   "source": [
    "train_set , validation_set , test_set = t_v_t(df,70,20,10);"
   ]
  },
  {
   "cell_type": "code",
   "execution_count": 9,
   "id": "17fbb0fb",
   "metadata": {},
   "outputs": [
    {
     "name": "stdout",
     "output_type": "stream",
     "text": [
      "(32710, 10)\n",
      "(9346, 10)\n",
      "(4672, 10)\n"
     ]
    }
   ],
   "source": [
    "print(train_set.shape)\n",
    "print(validation_set.shape)\n",
    "print(test_set.shape)"
   ]
  },
  {
   "cell_type": "markdown",
   "id": "0ccc4a2a",
   "metadata": {},
   "source": [
    "##### MinMax"
   ]
  },
  {
   "cell_type": "code",
   "execution_count": 11,
   "id": "079398a2",
   "metadata": {},
   "outputs": [],
   "source": [
    "train_set_load             = train_set['System_load'].values.reshape(-1, 1)              \n",
    "validation_set_load        = validation_set['System_load'].values.reshape(-1, 1)\n",
    "test_set_load              = test_set['System_load'].values.reshape(-1, 1)\n",
    "#.........................................................................\n",
    "scaler = MinMaxScaler(feature_range=(0, 1))\n",
    "scaler.fit(train_set_load)\n",
    "#.........................................................................\n",
    "scaled_train_set_load      = scaler.transform(train_set_load)\n",
    "scaled_validation_set_load = scaler.transform(validation_set_load)\n",
    "scaled_test_set_load       = scaler.transform(test_set_load)"
   ]
  },
  {
   "cell_type": "code",
   "execution_count": 13,
   "id": "04ce1b26",
   "metadata": {},
   "outputs": [],
   "source": [
    "pickle.dump(scaler, open (\"C:\\\\Users\\\\arif\\\\OneDrive\\\\Journal Paper\\\\Code\\\\Irshad\\\\Dataset\\\\scaler.pkl\",'wb') )"
   ]
  },
  {
   "cell_type": "markdown",
   "id": "68ef623d",
   "metadata": {},
   "source": [
    "##### StandardScaler"
   ]
  },
  {
   "cell_type": "code",
   "execution_count": 12,
   "id": "ecab6722",
   "metadata": {},
   "outputs": [],
   "source": [
    "train_set_load             = train_set['System_load'].values.reshape(-1, 1)              \n",
    "validation_set_load        = validation_set['System_load'].values.reshape(-1, 1)\n",
    "test_set_load              = test_set['System_load'].values.reshape(-1, 1)\n",
    "#.........................................................................\n",
    "scaler = StandardScaler()\n",
    "scaler.fit(train_set_load)\n",
    "#.........................................................................\n",
    "scaled_train_set_load      = scaler.transform(train_set_load)\n",
    "scaled_validation_set_load = scaler.transform(validation_set_load)\n",
    "scaled_test_set_load       = scaler.transform(test_set_load)"
   ]
  },
  {
   "cell_type": "code",
   "execution_count": 13,
   "id": "df06c81b",
   "metadata": {},
   "outputs": [],
   "source": [
    "pickle.dump(scaler, open (\"C:\\\\Users\\\\Syed Hasnat\\\\OneDrive\\\\Journal Paper\\\\Code\\\\Irshad\\\\Dataset\\\\Standardscaler.pkl\",'wb') )"
   ]
  },
  {
   "cell_type": "code",
   "execution_count": 14,
   "id": "fcd43a54",
   "metadata": {},
   "outputs": [
    {
     "data": {
      "text/plain": [
       "(32710, 16)"
      ]
     },
     "execution_count": 14,
     "metadata": {},
     "output_type": "execute_result"
    }
   ],
   "source": [
    "train_setO     = train_set[:].values\n",
    "\n",
    "year           = train_setO[:,1:2]\n",
    "holiday        = train_setO[:,5:6]\n",
    "winter_peak    = train_setO[:,6:7]\n",
    "Spring_Peak    = train_setO[:,7:8]\n",
    "Summer_Peak    = train_setO[:,8:9]\n",
    "Autumn_peak    = train_setO[:,9:10]\n",
    "\n",
    "en_year        = OneHotEncoder(categories=[[2015,2016,2017,2018,2019,2020]],handle_unknown='ignore')\n",
    "en_holiday     = OneHotEncoder(handle_unknown='ignore')\n",
    "en_week        = OneHotEncoder(handle_unknown='ignore')\n",
    "en_spring      = OneHotEncoder(handle_unknown='ignore')\n",
    "en_summer      = OneHotEncoder(handle_unknown='ignore')\n",
    "en_autumn      = OneHotEncoder(handle_unknown='ignore')\n",
    "\n",
    "yearf          = en_year.fit(year)\n",
    "holidayf       = en_holiday.fit(holiday)\n",
    "winter_peakf   = en_week.fit(winter_peak)\n",
    "Spring_Peakf   = en_spring.fit(Spring_Peak)\n",
    "Summer_Peakf   = en_summer.fit(Summer_Peak)\n",
    "Autumn_peakf   = en_autumn.fit(Autumn_peak)\n",
    "\n",
    "yeart          = yearf.transform(year).toarray()\n",
    "holidayt       = holidayf.transform(holiday).toarray()\n",
    "winter_peakt   = winter_peakf.transform(winter_peak).toarray()\n",
    "Spring_Peakt   = Spring_Peakf.transform(Spring_Peak).toarray()\n",
    "Summer_Peakt   = Summer_Peakf.transform(Summer_Peak).toarray()\n",
    "Autumn_peakt   = Autumn_peakf.transform(Autumn_peak).toarray()\n",
    "\n",
    "#train_setO here O is for onehot\n",
    "train_setO     = np.concatenate((yeart , holidayt, winter_peakt, Spring_Peakt, Summer_Peakt,Autumn_peakt),axis=1) \n",
    "train_setO.shape"
   ]
  },
  {
   "cell_type": "code",
   "execution_count": 15,
   "id": "3718dd0c",
   "metadata": {},
   "outputs": [
    {
     "data": {
      "text/plain": [
       "(9346, 16)"
      ]
     },
     "execution_count": 15,
     "metadata": {},
     "output_type": "execute_result"
    }
   ],
   "source": [
    "validation_setO = validation_set[:].values\n",
    "\n",
    "year_v            = validation_setO[:,1:2]\n",
    "holiday_v         = validation_setO[:,5:6]\n",
    "winter_peak_v     = validation_setO[:,6:7]\n",
    "Spring_Peak_v     = validation_setO[:,7:8]\n",
    "Summer_Peak_v     = validation_setO[:,8:9]\n",
    "Autumn_peak_v     = validation_setO[:,9:10]\n",
    "\n",
    "year_vt           = yearf.transform(year_v).toarray()\n",
    "holiday_vt        = holidayf.transform(holiday_v).toarray()\n",
    "winter_peak_vt    = winter_peakf.transform(winter_peak_v).toarray()\n",
    "Spring_Peak_vt    = Spring_Peakf.transform(Spring_Peak_v).toarray()\n",
    "Summer_Peak_vt    = Summer_Peakf.transform(Summer_Peak_v).toarray()\n",
    "Autumn_peak_vt    = Autumn_peakf.transform(Autumn_peak_v).toarray()\n",
    "\n",
    "val_one_hot = np.concatenate((year_vt,holiday_vt, winter_peak_vt, Spring_Peak_vt, Summer_Peak_vt, Autumn_peak_vt),axis=1) \n",
    "val_one_hot.shape"
   ]
  },
  {
   "cell_type": "code",
   "execution_count": 16,
   "id": "f0630c51",
   "metadata": {},
   "outputs": [
    {
     "data": {
      "text/plain": [
       "(4672, 16)"
      ]
     },
     "execution_count": 16,
     "metadata": {},
     "output_type": "execute_result"
    }
   ],
   "source": [
    "test_setO      = test_set[:].values\n",
    "\n",
    "year_test           = test_setO[:,1:2]\n",
    "holiday_test        = test_setO[:,5:6]\n",
    "winter_peak_test    = test_setO[:,6:7]\n",
    "Spring_Peak_test    = test_setO[:,7:8]\n",
    "Summer_Peak_test    = test_setO[:,8:9]\n",
    "Autumn_peak_test    = test_setO[:,9:10]\n",
    "\n",
    "year_tt          = en_year.transform(year_test).toarray()\n",
    "holiday_tt       = en_holiday.transform(holiday_test).toarray()\n",
    "winter_peak_tt   = en_week.transform(winter_peak_test).toarray()\n",
    "Spring_Peak_tt   = en_spring.transform(Spring_Peak_test).toarray()\n",
    "Summer_Peak_tt   = en_summer.transform(Summer_Peak_test).toarray()\n",
    "Autumn_peak_tt   = en_autumn.transform(Autumn_peak_test).toarray()\n",
    "\n",
    "test_one_hot = np.concatenate((year_tt,holiday_tt, winter_peak_tt, Spring_Peak_tt, Summer_Peak_tt, Autumn_peak_tt),axis=1) \n",
    "test_one_hot.shape "
   ]
  },
  {
   "cell_type": "code",
   "execution_count": 17,
   "id": "59749a94",
   "metadata": {},
   "outputs": [],
   "source": [
    "cyclic_train = train_set[['Month_of_year','Day_Of_Week','hour_of_day']]\n",
    "cyclic_train = cyclic_train[:].values\n",
    "\n",
    "sin_montht   = np.sin(2*np.pi*cyclic_train[:,0:1]/12)\n",
    "cos_montht   = np.cos(2*np.pi*cyclic_train[:,0:1]/12)\n",
    "\n",
    "sin_weekt    = np.sin(2*np.pi*cyclic_train[:,1:2]/6)\n",
    "cos_weekt    = np.cos(2*np.pi*cyclic_train[:,1:2]/6)\n",
    "  \n",
    "sin_hourt    = np.sin(2*np.pi*cyclic_train[:,2:3]/24)\n",
    "cos_hourt    = np.cos(2*np.pi*cyclic_train[:,2:3]/24)\n",
    "\n",
    "cyclic_train = np.concatenate((sin_montht, cos_montht, sin_weekt, cos_weekt, sin_hourt,cos_hourt), axis=1) "
   ]
  },
  {
   "cell_type": "code",
   "execution_count": 18,
   "id": "5a4bc300",
   "metadata": {},
   "outputs": [],
   "source": [
    "cyclic_validation = validation_set[['Month_of_year','Day_Of_Week','hour_of_day']]\n",
    "cyclic_validation = cyclic_validation[:].values\n",
    "\n",
    "sin_montht        = np.sin(2*np.pi*cyclic_validation[:,0:1]/12)\n",
    "cos_montht        = np.cos(2*np.pi*cyclic_validation[:,0:1]/12)\n",
    "\n",
    "sin_weekt         = np.sin(2*np.pi*cyclic_validation[:,1:2]/6)\n",
    "cos_weekt         = np.cos(2*np.pi*cyclic_validation[:,1:2]/6)\n",
    "\n",
    "sin_hourt         = np.sin(2*np.pi*cyclic_validation[:,2:3]/24)\n",
    "cos_hourt         = np.cos(2*np.pi*cyclic_validation[:,2:3]/24)\n",
    "\n",
    "cyclic_validation = np.concatenate((sin_montht, cos_montht, sin_weekt, cos_weekt, sin_hourt,cos_hourt), axis=1) "
   ]
  },
  {
   "cell_type": "code",
   "execution_count": 19,
   "id": "eda56ccd",
   "metadata": {},
   "outputs": [],
   "source": [
    "cyclic_test = test_set[['Month_of_year','Day_Of_Week','hour_of_day']]\n",
    "cyclic_test = cyclic_test[:].values\n",
    "\n",
    "sin_montht  = np.sin(2*np.pi*cyclic_test[:,0:1]/12)\n",
    "cos_montht  = np.cos(2*np.pi*cyclic_test[:,0:1]/12)\n",
    "\n",
    "sin_weekt   = np.sin(2*np.pi*cyclic_test[:,1:2]/6)\n",
    "cos_weekt   = np.cos(2*np.pi*cyclic_test[:,1:2]/6)\n",
    "\n",
    "sin_hourt   = np.sin(2*np.pi*cyclic_test[:,2:3]/24)\n",
    "cos_hourt   = np.cos(2*np.pi*cyclic_test[:,2:3]/24)\n",
    "\n",
    "cyclic_test = np.concatenate((sin_montht, cos_montht, sin_weekt, cos_weekt, sin_hourt,cos_hourt), axis=1) "
   ]
  },
  {
   "cell_type": "code",
   "execution_count": 20,
   "id": "2cea7253",
   "metadata": {},
   "outputs": [],
   "source": [
    "train = np.concatenate((scaled_train_set_load, train_setO, cyclic_train), axis=1)"
   ]
  },
  {
   "cell_type": "code",
   "execution_count": 21,
   "id": "cae0e599",
   "metadata": {},
   "outputs": [],
   "source": [
    "validation = np.concatenate((scaled_validation_set_load, val_one_hot, cyclic_validation), axis=1)"
   ]
  },
  {
   "cell_type": "code",
   "execution_count": 22,
   "id": "2e08b8ad",
   "metadata": {},
   "outputs": [],
   "source": [
    "test = np.concatenate((scaled_test_set_load, test_one_hot, cyclic_test), axis=1)"
   ]
  },
  {
   "cell_type": "code",
   "execution_count": 23,
   "id": "c8e267b3",
   "metadata": {},
   "outputs": [],
   "source": [
    "train_df = pd.DataFrame(data=train.transpose(), index=['System_load', 'Year1','Year2','Year3','Year4','Year5','Year6',\n",
    "                                            'Month_of_year1','Month_of_year2','Day_Of_Week1','Day_Of_Week2',\n",
    "                                            'hour_of_day1', 'hour_of_day2','holiday1','holiday2', 'winter_peak1',\n",
    "                                            'winter_peak2','Spring_Peak1','Spring_Peak','Summer_Peak1','Summer_Peak2',\n",
    "                                            'Autumn_peak1','Autumn_peak']).transpose()"
   ]
  },
  {
   "cell_type": "code",
   "execution_count": 24,
   "id": "5e5e3395",
   "metadata": {},
   "outputs": [],
   "source": [
    "train_df.to_csv('C:\\\\Users\\\\Syed Hasnat\\\\OneDrive\\\\Journal Paper\\\\Code\\\\Irshad\\\\Dataset\\\\8_train_stabdardScaler.csv', index=True)"
   ]
  },
  {
   "cell_type": "code",
   "execution_count": 25,
   "id": "36b34ca7",
   "metadata": {},
   "outputs": [],
   "source": [
    "validation_df = pd.DataFrame(data=validation.transpose(), index=['System_load', 'Year1','Year2','Year3','Year4','Year5','Year6',\n",
    "                                            'Month_of_year1','Month_of_year2','Day_Of_Week1','Day_Of_Week2',\n",
    "                                            'hour_of_day1', 'hour_of_day2','holiday1','holiday2', 'winter_peak1',\n",
    "                                            'winter_peak2','Spring_Peak1','Spring_Peak','Summer_Peak1','Summer_Peak2',\n",
    "                                            'Autumn_peak1','Autumn_peak']).transpose()"
   ]
  },
  {
   "cell_type": "code",
   "execution_count": 26,
   "id": "fe1869fb",
   "metadata": {},
   "outputs": [],
   "source": [
    "validation_df.to_csv('C:\\\\Users\\\\Syed Hasnat\\\\OneDrive\\\\Journal Paper\\\\Code\\\\Irshad\\\\Dataset\\\\8_validation_stabdardScaler.csv', index=True)"
   ]
  },
  {
   "cell_type": "code",
   "execution_count": 27,
   "id": "ac2e44cd",
   "metadata": {},
   "outputs": [],
   "source": [
    "test_df = pd.DataFrame(data=test.transpose(), index=['System_load', 'Year1','Year2','Year3','Year4','Year5','Year6',\n",
    "                                            'Month_of_year1','Month_of_year2','Day_Of_Week1','Day_Of_Week2',\n",
    "                                            'hour_of_day1', 'hour_of_day2','holiday1','holiday2', 'winter_peak1',\n",
    "                                            'winter_peak2','Spring_Peak1','Spring_Peak','Summer_Peak1','Summer_Peak2',\n",
    "                                            'Autumn_peak1','Autumn_peak']).transpose()"
   ]
  },
  {
   "cell_type": "code",
   "execution_count": 28,
   "id": "97f55a28",
   "metadata": {},
   "outputs": [],
   "source": [
    "test_df.to_csv('C:\\\\Users\\\\Syed Hasnat\\\\OneDrive\\\\Journal Paper\\\\Code\\\\Irshad\\\\Dataset\\\\8_test_stabdardScaler.csv', index=True)"
   ]
  },
  {
   "cell_type": "code",
   "execution_count": null,
   "id": "0f29d7c2",
   "metadata": {},
   "outputs": [],
   "source": []
  },
  {
   "cell_type": "code",
   "execution_count": null,
   "id": "051d4b68",
   "metadata": {},
   "outputs": [],
   "source": []
  },
  {
   "cell_type": "code",
   "execution_count": 37,
   "id": "08ae81ee",
   "metadata": {},
   "outputs": [
    {
     "data": {
      "text/html": [
       "<div>\n",
       "<style scoped>\n",
       "    .dataframe tbody tr th:only-of-type {\n",
       "        vertical-align: middle;\n",
       "    }\n",
       "\n",
       "    .dataframe tbody tr th {\n",
       "        vertical-align: top;\n",
       "    }\n",
       "\n",
       "    .dataframe thead th {\n",
       "        text-align: right;\n",
       "    }\n",
       "</style>\n",
       "<table border=\"1\" class=\"dataframe\">\n",
       "  <thead>\n",
       "    <tr style=\"text-align: right;\">\n",
       "      <th></th>\n",
       "      <th>System_load</th>\n",
       "      <th>Year1</th>\n",
       "      <th>Year2</th>\n",
       "      <th>Year3</th>\n",
       "      <th>Year4</th>\n",
       "      <th>Year5</th>\n",
       "      <th>Year6</th>\n",
       "      <th>Month_of_year1</th>\n",
       "      <th>Month_of_year2</th>\n",
       "      <th>Day_Of_Week1</th>\n",
       "      <th>...</th>\n",
       "      <th>holiday1</th>\n",
       "      <th>holiday2</th>\n",
       "      <th>winter_peak1</th>\n",
       "      <th>winter_peak2</th>\n",
       "      <th>Spring_Peak1</th>\n",
       "      <th>Spring_Peak</th>\n",
       "      <th>Summer_Peak1</th>\n",
       "      <th>Summer_Peak2</th>\n",
       "      <th>Autumn_peak1</th>\n",
       "      <th>Autumn_peak</th>\n",
       "    </tr>\n",
       "  </thead>\n",
       "  <tbody>\n",
       "    <tr>\n",
       "      <th>0</th>\n",
       "      <td>0.707816</td>\n",
       "      <td>0.0</td>\n",
       "      <td>0.0</td>\n",
       "      <td>0.0</td>\n",
       "      <td>1.0</td>\n",
       "      <td>0.0</td>\n",
       "      <td>0.0</td>\n",
       "      <td>1.0</td>\n",
       "      <td>0.0</td>\n",
       "      <td>1.0</td>\n",
       "      <td>...</td>\n",
       "      <td>1.0</td>\n",
       "      <td>0.0</td>\n",
       "      <td>0.0</td>\n",
       "      <td>1.0</td>\n",
       "      <td>-1.000000</td>\n",
       "      <td>-1.836970e-16</td>\n",
       "      <td>0.000000</td>\n",
       "      <td>1.0</td>\n",
       "      <td>-0.500000</td>\n",
       "      <td>8.660254e-01</td>\n",
       "    </tr>\n",
       "    <tr>\n",
       "      <th>1</th>\n",
       "      <td>0.692655</td>\n",
       "      <td>0.0</td>\n",
       "      <td>0.0</td>\n",
       "      <td>0.0</td>\n",
       "      <td>1.0</td>\n",
       "      <td>0.0</td>\n",
       "      <td>0.0</td>\n",
       "      <td>1.0</td>\n",
       "      <td>0.0</td>\n",
       "      <td>1.0</td>\n",
       "      <td>...</td>\n",
       "      <td>1.0</td>\n",
       "      <td>0.0</td>\n",
       "      <td>1.0</td>\n",
       "      <td>0.0</td>\n",
       "      <td>-1.000000</td>\n",
       "      <td>-1.836970e-16</td>\n",
       "      <td>0.000000</td>\n",
       "      <td>1.0</td>\n",
       "      <td>-0.258819</td>\n",
       "      <td>9.659258e-01</td>\n",
       "    </tr>\n",
       "    <tr>\n",
       "      <th>2</th>\n",
       "      <td>0.583457</td>\n",
       "      <td>0.0</td>\n",
       "      <td>0.0</td>\n",
       "      <td>0.0</td>\n",
       "      <td>1.0</td>\n",
       "      <td>0.0</td>\n",
       "      <td>0.0</td>\n",
       "      <td>1.0</td>\n",
       "      <td>0.0</td>\n",
       "      <td>1.0</td>\n",
       "      <td>...</td>\n",
       "      <td>1.0</td>\n",
       "      <td>0.0</td>\n",
       "      <td>1.0</td>\n",
       "      <td>0.0</td>\n",
       "      <td>-1.000000</td>\n",
       "      <td>-1.836970e-16</td>\n",
       "      <td>0.866025</td>\n",
       "      <td>0.5</td>\n",
       "      <td>0.000000</td>\n",
       "      <td>1.000000e+00</td>\n",
       "    </tr>\n",
       "    <tr>\n",
       "      <th>3</th>\n",
       "      <td>0.614739</td>\n",
       "      <td>0.0</td>\n",
       "      <td>0.0</td>\n",
       "      <td>0.0</td>\n",
       "      <td>1.0</td>\n",
       "      <td>0.0</td>\n",
       "      <td>0.0</td>\n",
       "      <td>1.0</td>\n",
       "      <td>0.0</td>\n",
       "      <td>1.0</td>\n",
       "      <td>...</td>\n",
       "      <td>1.0</td>\n",
       "      <td>0.0</td>\n",
       "      <td>1.0</td>\n",
       "      <td>0.0</td>\n",
       "      <td>-1.000000</td>\n",
       "      <td>-1.836970e-16</td>\n",
       "      <td>0.866025</td>\n",
       "      <td>0.5</td>\n",
       "      <td>0.258819</td>\n",
       "      <td>9.659258e-01</td>\n",
       "    </tr>\n",
       "    <tr>\n",
       "      <th>4</th>\n",
       "      <td>0.591805</td>\n",
       "      <td>0.0</td>\n",
       "      <td>0.0</td>\n",
       "      <td>0.0</td>\n",
       "      <td>1.0</td>\n",
       "      <td>0.0</td>\n",
       "      <td>0.0</td>\n",
       "      <td>1.0</td>\n",
       "      <td>0.0</td>\n",
       "      <td>1.0</td>\n",
       "      <td>...</td>\n",
       "      <td>1.0</td>\n",
       "      <td>0.0</td>\n",
       "      <td>1.0</td>\n",
       "      <td>0.0</td>\n",
       "      <td>-1.000000</td>\n",
       "      <td>-1.836970e-16</td>\n",
       "      <td>0.866025</td>\n",
       "      <td>0.5</td>\n",
       "      <td>0.500000</td>\n",
       "      <td>8.660254e-01</td>\n",
       "    </tr>\n",
       "    <tr>\n",
       "      <th>...</th>\n",
       "      <td>...</td>\n",
       "      <td>...</td>\n",
       "      <td>...</td>\n",
       "      <td>...</td>\n",
       "      <td>...</td>\n",
       "      <td>...</td>\n",
       "      <td>...</td>\n",
       "      <td>...</td>\n",
       "      <td>...</td>\n",
       "      <td>...</td>\n",
       "      <td>...</td>\n",
       "      <td>...</td>\n",
       "      <td>...</td>\n",
       "      <td>...</td>\n",
       "      <td>...</td>\n",
       "      <td>...</td>\n",
       "      <td>...</td>\n",
       "      <td>...</td>\n",
       "      <td>...</td>\n",
       "      <td>...</td>\n",
       "      <td>...</td>\n",
       "    </tr>\n",
       "    <tr>\n",
       "      <th>9341</th>\n",
       "      <td>0.420429</td>\n",
       "      <td>0.0</td>\n",
       "      <td>0.0</td>\n",
       "      <td>0.0</td>\n",
       "      <td>0.0</td>\n",
       "      <td>1.0</td>\n",
       "      <td>0.0</td>\n",
       "      <td>0.0</td>\n",
       "      <td>1.0</td>\n",
       "      <td>1.0</td>\n",
       "      <td>...</td>\n",
       "      <td>1.0</td>\n",
       "      <td>0.0</td>\n",
       "      <td>1.0</td>\n",
       "      <td>0.0</td>\n",
       "      <td>-0.866025</td>\n",
       "      <td>5.000000e-01</td>\n",
       "      <td>-0.866025</td>\n",
       "      <td>0.5</td>\n",
       "      <td>0.707107</td>\n",
       "      <td>7.071068e-01</td>\n",
       "    </tr>\n",
       "    <tr>\n",
       "      <th>9342</th>\n",
       "      <td>0.407571</td>\n",
       "      <td>0.0</td>\n",
       "      <td>0.0</td>\n",
       "      <td>0.0</td>\n",
       "      <td>0.0</td>\n",
       "      <td>1.0</td>\n",
       "      <td>0.0</td>\n",
       "      <td>0.0</td>\n",
       "      <td>1.0</td>\n",
       "      <td>1.0</td>\n",
       "      <td>...</td>\n",
       "      <td>1.0</td>\n",
       "      <td>0.0</td>\n",
       "      <td>1.0</td>\n",
       "      <td>0.0</td>\n",
       "      <td>-0.866025</td>\n",
       "      <td>5.000000e-01</td>\n",
       "      <td>-0.866025</td>\n",
       "      <td>0.5</td>\n",
       "      <td>0.866025</td>\n",
       "      <td>5.000000e-01</td>\n",
       "    </tr>\n",
       "    <tr>\n",
       "      <th>9343</th>\n",
       "      <td>0.398599</td>\n",
       "      <td>0.0</td>\n",
       "      <td>0.0</td>\n",
       "      <td>0.0</td>\n",
       "      <td>0.0</td>\n",
       "      <td>1.0</td>\n",
       "      <td>0.0</td>\n",
       "      <td>0.0</td>\n",
       "      <td>1.0</td>\n",
       "      <td>1.0</td>\n",
       "      <td>...</td>\n",
       "      <td>1.0</td>\n",
       "      <td>0.0</td>\n",
       "      <td>1.0</td>\n",
       "      <td>0.0</td>\n",
       "      <td>-0.866025</td>\n",
       "      <td>5.000000e-01</td>\n",
       "      <td>-0.866025</td>\n",
       "      <td>0.5</td>\n",
       "      <td>0.965926</td>\n",
       "      <td>2.588190e-01</td>\n",
       "    </tr>\n",
       "    <tr>\n",
       "      <th>9344</th>\n",
       "      <td>0.433335</td>\n",
       "      <td>0.0</td>\n",
       "      <td>0.0</td>\n",
       "      <td>0.0</td>\n",
       "      <td>0.0</td>\n",
       "      <td>1.0</td>\n",
       "      <td>0.0</td>\n",
       "      <td>0.0</td>\n",
       "      <td>1.0</td>\n",
       "      <td>1.0</td>\n",
       "      <td>...</td>\n",
       "      <td>1.0</td>\n",
       "      <td>0.0</td>\n",
       "      <td>1.0</td>\n",
       "      <td>0.0</td>\n",
       "      <td>-0.866025</td>\n",
       "      <td>5.000000e-01</td>\n",
       "      <td>-0.866025</td>\n",
       "      <td>0.5</td>\n",
       "      <td>1.000000</td>\n",
       "      <td>6.123234e-17</td>\n",
       "    </tr>\n",
       "    <tr>\n",
       "      <th>9345</th>\n",
       "      <td>0.425754</td>\n",
       "      <td>0.0</td>\n",
       "      <td>0.0</td>\n",
       "      <td>0.0</td>\n",
       "      <td>0.0</td>\n",
       "      <td>1.0</td>\n",
       "      <td>0.0</td>\n",
       "      <td>0.0</td>\n",
       "      <td>1.0</td>\n",
       "      <td>1.0</td>\n",
       "      <td>...</td>\n",
       "      <td>1.0</td>\n",
       "      <td>0.0</td>\n",
       "      <td>1.0</td>\n",
       "      <td>0.0</td>\n",
       "      <td>-0.866025</td>\n",
       "      <td>5.000000e-01</td>\n",
       "      <td>-0.866025</td>\n",
       "      <td>0.5</td>\n",
       "      <td>0.965926</td>\n",
       "      <td>-2.588190e-01</td>\n",
       "    </tr>\n",
       "  </tbody>\n",
       "</table>\n",
       "<p>9346 rows × 23 columns</p>\n",
       "</div>"
      ],
      "text/plain": [
       "      System_load  Year1  Year2  Year3  Year4  Year5  Year6  Month_of_year1  \\\n",
       "0        0.707816    0.0    0.0    0.0    1.0    0.0    0.0             1.0   \n",
       "1        0.692655    0.0    0.0    0.0    1.0    0.0    0.0             1.0   \n",
       "2        0.583457    0.0    0.0    0.0    1.0    0.0    0.0             1.0   \n",
       "3        0.614739    0.0    0.0    0.0    1.0    0.0    0.0             1.0   \n",
       "4        0.591805    0.0    0.0    0.0    1.0    0.0    0.0             1.0   \n",
       "...           ...    ...    ...    ...    ...    ...    ...             ...   \n",
       "9341     0.420429    0.0    0.0    0.0    0.0    1.0    0.0             0.0   \n",
       "9342     0.407571    0.0    0.0    0.0    0.0    1.0    0.0             0.0   \n",
       "9343     0.398599    0.0    0.0    0.0    0.0    1.0    0.0             0.0   \n",
       "9344     0.433335    0.0    0.0    0.0    0.0    1.0    0.0             0.0   \n",
       "9345     0.425754    0.0    0.0    0.0    0.0    1.0    0.0             0.0   \n",
       "\n",
       "      Month_of_year2  Day_Of_Week1  ...  holiday1  holiday2  winter_peak1  \\\n",
       "0                0.0           1.0  ...       1.0       0.0           0.0   \n",
       "1                0.0           1.0  ...       1.0       0.0           1.0   \n",
       "2                0.0           1.0  ...       1.0       0.0           1.0   \n",
       "3                0.0           1.0  ...       1.0       0.0           1.0   \n",
       "4                0.0           1.0  ...       1.0       0.0           1.0   \n",
       "...              ...           ...  ...       ...       ...           ...   \n",
       "9341             1.0           1.0  ...       1.0       0.0           1.0   \n",
       "9342             1.0           1.0  ...       1.0       0.0           1.0   \n",
       "9343             1.0           1.0  ...       1.0       0.0           1.0   \n",
       "9344             1.0           1.0  ...       1.0       0.0           1.0   \n",
       "9345             1.0           1.0  ...       1.0       0.0           1.0   \n",
       "\n",
       "      winter_peak2  Spring_Peak1   Spring_Peak  Summer_Peak1  Summer_Peak2  \\\n",
       "0              1.0     -1.000000 -1.836970e-16      0.000000           1.0   \n",
       "1              0.0     -1.000000 -1.836970e-16      0.000000           1.0   \n",
       "2              0.0     -1.000000 -1.836970e-16      0.866025           0.5   \n",
       "3              0.0     -1.000000 -1.836970e-16      0.866025           0.5   \n",
       "4              0.0     -1.000000 -1.836970e-16      0.866025           0.5   \n",
       "...            ...           ...           ...           ...           ...   \n",
       "9341           0.0     -0.866025  5.000000e-01     -0.866025           0.5   \n",
       "9342           0.0     -0.866025  5.000000e-01     -0.866025           0.5   \n",
       "9343           0.0     -0.866025  5.000000e-01     -0.866025           0.5   \n",
       "9344           0.0     -0.866025  5.000000e-01     -0.866025           0.5   \n",
       "9345           0.0     -0.866025  5.000000e-01     -0.866025           0.5   \n",
       "\n",
       "      Autumn_peak1   Autumn_peak  \n",
       "0        -0.500000  8.660254e-01  \n",
       "1        -0.258819  9.659258e-01  \n",
       "2         0.000000  1.000000e+00  \n",
       "3         0.258819  9.659258e-01  \n",
       "4         0.500000  8.660254e-01  \n",
       "...            ...           ...  \n",
       "9341      0.707107  7.071068e-01  \n",
       "9342      0.866025  5.000000e-01  \n",
       "9343      0.965926  2.588190e-01  \n",
       "9344      1.000000  6.123234e-17  \n",
       "9345      0.965926 -2.588190e-01  \n",
       "\n",
       "[9346 rows x 23 columns]"
      ]
     },
     "execution_count": 37,
     "metadata": {},
     "output_type": "execute_result"
    }
   ],
   "source": [
    "validation_df"
   ]
  },
  {
   "cell_type": "code",
   "execution_count": 41,
   "id": "a3944a32",
   "metadata": {},
   "outputs": [
    {
     "data": {
      "text/plain": [
       "array([[ 0.31857218,  1.        ,  0.        , ..., -1.        ,\n",
       "         0.        ,  1.        ],\n",
       "       [ 0.30950439,  1.        ,  0.        , ..., -1.        ,\n",
       "         0.25881905,  0.96592583],\n",
       "       [ 0.30446673,  1.        ,  0.        , ..., -1.        ,\n",
       "         0.5       ,  0.8660254 ],\n",
       "       ...,\n",
       "       [ 0.72259272,  1.        ,  0.        , ...,  1.        ,\n",
       "        -0.96592583,  0.25881905],\n",
       "       [ 0.70613635,  1.        ,  0.        , ...,  1.        ,\n",
       "        -0.8660254 ,  0.5       ],\n",
       "       [ 0.69649283,  1.        ,  0.        , ...,  1.        ,\n",
       "        -0.70710678,  0.70710678]])"
      ]
     },
     "execution_count": 41,
     "metadata": {},
     "output_type": "execute_result"
    }
   ],
   "source": [
    "train[:,[0, 7, 8, 9, 10, 11, 12, 13, 14, 15, 16, 17, 18, 19, 20, 21, 22]]"
   ]
  },
  {
   "cell_type": "code",
   "execution_count": 21,
   "id": "ff3169e6",
   "metadata": {},
   "outputs": [
    {
     "data": {
      "text/plain": [
       "(32710, 23)"
      ]
     },
     "execution_count": 21,
     "metadata": {},
     "output_type": "execute_result"
    }
   ],
   "source": [
    "train.shape"
   ]
  },
  {
   "cell_type": "code",
   "execution_count": null,
   "id": "3934ad9a",
   "metadata": {},
   "outputs": [],
   "source": []
  },
  {
   "cell_type": "code",
   "execution_count": null,
   "id": "d1699ee5",
   "metadata": {},
   "outputs": [],
   "source": []
  },
  {
   "cell_type": "code",
   "execution_count": null,
   "id": "900a444f",
   "metadata": {},
   "outputs": [],
   "source": []
  },
  {
   "cell_type": "code",
   "execution_count": null,
   "id": "b52f1e96",
   "metadata": {},
   "outputs": [],
   "source": []
  },
  {
   "cell_type": "code",
   "execution_count": 112,
   "id": "32f0f846",
   "metadata": {},
   "outputs": [
    {
     "data": {
      "text/plain": [
       "(9346, 6)"
      ]
     },
     "execution_count": 112,
     "metadata": {},
     "output_type": "execute_result"
    }
   ],
   "source": [
    "cyclic_validation.shape"
   ]
  },
  {
   "cell_type": "code",
   "execution_count": 110,
   "id": "221f3d75",
   "metadata": {},
   "outputs": [
    {
     "data": {
      "text/plain": [
       "(32710, 6)"
      ]
     },
     "execution_count": 110,
     "metadata": {},
     "output_type": "execute_result"
    }
   ],
   "source": [
    "cyclic_train.shape"
   ]
  },
  {
   "cell_type": "code",
   "execution_count": 71,
   "id": "2dcc41b0",
   "metadata": {},
   "outputs": [],
   "source": [
    "cyclic_train = train_set[['Month_of_year','Day_Of_Week','hour_of_day']]\n",
    "cyclic_train = cyclic_train[:].values"
   ]
  },
  {
   "cell_type": "code",
   "execution_count": 72,
   "id": "baaa91b0",
   "metadata": {},
   "outputs": [
    {
     "data": {
      "text/plain": [
       "array([[ 1,  3,  0],\n",
       "       [ 1,  3,  1],\n",
       "       [ 1,  3,  2],\n",
       "       ...,\n",
       "       [ 9,  0, 19],\n",
       "       [ 9,  0, 20],\n",
       "       [ 9,  0, 21]], dtype=int64)"
      ]
     },
     "execution_count": 72,
     "metadata": {},
     "output_type": "execute_result"
    }
   ],
   "source": [
    "cyclic_train"
   ]
  },
  {
   "cell_type": "code",
   "execution_count": 73,
   "id": "75732e48",
   "metadata": {},
   "outputs": [
    {
     "data": {
      "text/html": [
       "<div>\n",
       "<style scoped>\n",
       "    .dataframe tbody tr th:only-of-type {\n",
       "        vertical-align: middle;\n",
       "    }\n",
       "\n",
       "    .dataframe tbody tr th {\n",
       "        vertical-align: top;\n",
       "    }\n",
       "\n",
       "    .dataframe thead th {\n",
       "        text-align: right;\n",
       "    }\n",
       "</style>\n",
       "<table border=\"1\" class=\"dataframe\">\n",
       "  <thead>\n",
       "    <tr style=\"text-align: right;\">\n",
       "      <th></th>\n",
       "      <th>System_load</th>\n",
       "      <th>Year</th>\n",
       "      <th>Month_of_year</th>\n",
       "      <th>Day_Of_Week</th>\n",
       "      <th>hour_of_day</th>\n",
       "      <th>holiday</th>\n",
       "      <th>winter_peak</th>\n",
       "      <th>Spring_Peak</th>\n",
       "      <th>Summer_Peak</th>\n",
       "      <th>Autumn_peak</th>\n",
       "    </tr>\n",
       "    <tr>\n",
       "      <th>date_and_hour</th>\n",
       "      <th></th>\n",
       "      <th></th>\n",
       "      <th></th>\n",
       "      <th></th>\n",
       "      <th></th>\n",
       "      <th></th>\n",
       "      <th></th>\n",
       "      <th></th>\n",
       "      <th></th>\n",
       "      <th></th>\n",
       "    </tr>\n",
       "  </thead>\n",
       "  <tbody>\n",
       "    <tr>\n",
       "      <th>2015-01-01 00:00:00</th>\n",
       "      <td>8288.0</td>\n",
       "      <td>2015</td>\n",
       "      <td>1</td>\n",
       "      <td>3</td>\n",
       "      <td>0</td>\n",
       "      <td>0</td>\n",
       "      <td>0</td>\n",
       "      <td>0</td>\n",
       "      <td>0</td>\n",
       "      <td>0</td>\n",
       "    </tr>\n",
       "    <tr>\n",
       "      <th>2015-01-01 01:00:00</th>\n",
       "      <td>8099.0</td>\n",
       "      <td>2015</td>\n",
       "      <td>1</td>\n",
       "      <td>3</td>\n",
       "      <td>1</td>\n",
       "      <td>0</td>\n",
       "      <td>0</td>\n",
       "      <td>0</td>\n",
       "      <td>0</td>\n",
       "      <td>0</td>\n",
       "    </tr>\n",
       "    <tr>\n",
       "      <th>2015-01-01 02:00:00</th>\n",
       "      <td>7994.0</td>\n",
       "      <td>2015</td>\n",
       "      <td>1</td>\n",
       "      <td>3</td>\n",
       "      <td>2</td>\n",
       "      <td>0</td>\n",
       "      <td>0</td>\n",
       "      <td>0</td>\n",
       "      <td>0</td>\n",
       "      <td>0</td>\n",
       "    </tr>\n",
       "    <tr>\n",
       "      <th>2015-01-01 03:00:00</th>\n",
       "      <td>7965.0</td>\n",
       "      <td>2015</td>\n",
       "      <td>1</td>\n",
       "      <td>3</td>\n",
       "      <td>3</td>\n",
       "      <td>0</td>\n",
       "      <td>0</td>\n",
       "      <td>0</td>\n",
       "      <td>0</td>\n",
       "      <td>0</td>\n",
       "    </tr>\n",
       "    <tr>\n",
       "      <th>2015-01-01 04:00:00</th>\n",
       "      <td>8120.0</td>\n",
       "      <td>2015</td>\n",
       "      <td>1</td>\n",
       "      <td>3</td>\n",
       "      <td>4</td>\n",
       "      <td>0</td>\n",
       "      <td>0</td>\n",
       "      <td>0</td>\n",
       "      <td>0</td>\n",
       "      <td>0</td>\n",
       "    </tr>\n",
       "    <tr>\n",
       "      <th>...</th>\n",
       "      <td>...</td>\n",
       "      <td>...</td>\n",
       "      <td>...</td>\n",
       "      <td>...</td>\n",
       "      <td>...</td>\n",
       "      <td>...</td>\n",
       "      <td>...</td>\n",
       "      <td>...</td>\n",
       "      <td>...</td>\n",
       "      <td>...</td>\n",
       "    </tr>\n",
       "    <tr>\n",
       "      <th>2018-09-24 17:00:00</th>\n",
       "      <td>15502.0</td>\n",
       "      <td>2018</td>\n",
       "      <td>9</td>\n",
       "      <td>0</td>\n",
       "      <td>17</td>\n",
       "      <td>0</td>\n",
       "      <td>0</td>\n",
       "      <td>0</td>\n",
       "      <td>0</td>\n",
       "      <td>0</td>\n",
       "    </tr>\n",
       "    <tr>\n",
       "      <th>2018-09-24 18:00:00</th>\n",
       "      <td>16805.0</td>\n",
       "      <td>2018</td>\n",
       "      <td>9</td>\n",
       "      <td>0</td>\n",
       "      <td>18</td>\n",
       "      <td>0</td>\n",
       "      <td>0</td>\n",
       "      <td>0</td>\n",
       "      <td>0</td>\n",
       "      <td>1</td>\n",
       "    </tr>\n",
       "    <tr>\n",
       "      <th>2018-09-24 19:00:00</th>\n",
       "      <td>16709.0</td>\n",
       "      <td>2018</td>\n",
       "      <td>9</td>\n",
       "      <td>0</td>\n",
       "      <td>19</td>\n",
       "      <td>0</td>\n",
       "      <td>0</td>\n",
       "      <td>0</td>\n",
       "      <td>0</td>\n",
       "      <td>1</td>\n",
       "    </tr>\n",
       "    <tr>\n",
       "      <th>2018-09-24 20:00:00</th>\n",
       "      <td>16366.0</td>\n",
       "      <td>2018</td>\n",
       "      <td>9</td>\n",
       "      <td>0</td>\n",
       "      <td>20</td>\n",
       "      <td>0</td>\n",
       "      <td>0</td>\n",
       "      <td>0</td>\n",
       "      <td>0</td>\n",
       "      <td>1</td>\n",
       "    </tr>\n",
       "    <tr>\n",
       "      <th>2018-09-24 21:00:00</th>\n",
       "      <td>16165.0</td>\n",
       "      <td>2018</td>\n",
       "      <td>9</td>\n",
       "      <td>0</td>\n",
       "      <td>21</td>\n",
       "      <td>0</td>\n",
       "      <td>0</td>\n",
       "      <td>0</td>\n",
       "      <td>0</td>\n",
       "      <td>1</td>\n",
       "    </tr>\n",
       "  </tbody>\n",
       "</table>\n",
       "<p>32710 rows × 10 columns</p>\n",
       "</div>"
      ],
      "text/plain": [
       "                     System_load  Year  Month_of_year  Day_Of_Week  \\\n",
       "date_and_hour                                                        \n",
       "2015-01-01 00:00:00       8288.0  2015              1            3   \n",
       "2015-01-01 01:00:00       8099.0  2015              1            3   \n",
       "2015-01-01 02:00:00       7994.0  2015              1            3   \n",
       "2015-01-01 03:00:00       7965.0  2015              1            3   \n",
       "2015-01-01 04:00:00       8120.0  2015              1            3   \n",
       "...                          ...   ...            ...          ...   \n",
       "2018-09-24 17:00:00      15502.0  2018              9            0   \n",
       "2018-09-24 18:00:00      16805.0  2018              9            0   \n",
       "2018-09-24 19:00:00      16709.0  2018              9            0   \n",
       "2018-09-24 20:00:00      16366.0  2018              9            0   \n",
       "2018-09-24 21:00:00      16165.0  2018              9            0   \n",
       "\n",
       "                     hour_of_day  holiday  winter_peak  Spring_Peak  \\\n",
       "date_and_hour                                                         \n",
       "2015-01-01 00:00:00            0        0            0            0   \n",
       "2015-01-01 01:00:00            1        0            0            0   \n",
       "2015-01-01 02:00:00            2        0            0            0   \n",
       "2015-01-01 03:00:00            3        0            0            0   \n",
       "2015-01-01 04:00:00            4        0            0            0   \n",
       "...                          ...      ...          ...          ...   \n",
       "2018-09-24 17:00:00           17        0            0            0   \n",
       "2018-09-24 18:00:00           18        0            0            0   \n",
       "2018-09-24 19:00:00           19        0            0            0   \n",
       "2018-09-24 20:00:00           20        0            0            0   \n",
       "2018-09-24 21:00:00           21        0            0            0   \n",
       "\n",
       "                     Summer_Peak  Autumn_peak  \n",
       "date_and_hour                                  \n",
       "2015-01-01 00:00:00            0            0  \n",
       "2015-01-01 01:00:00            0            0  \n",
       "2015-01-01 02:00:00            0            0  \n",
       "2015-01-01 03:00:00            0            0  \n",
       "2015-01-01 04:00:00            0            0  \n",
       "...                          ...          ...  \n",
       "2018-09-24 17:00:00            0            0  \n",
       "2018-09-24 18:00:00            0            1  \n",
       "2018-09-24 19:00:00            0            1  \n",
       "2018-09-24 20:00:00            0            1  \n",
       "2018-09-24 21:00:00            0            1  \n",
       "\n",
       "[32710 rows x 10 columns]"
      ]
     },
     "execution_count": 73,
     "metadata": {},
     "output_type": "execute_result"
    }
   ],
   "source": [
    "train_set"
   ]
  },
  {
   "cell_type": "code",
   "execution_count": 74,
   "id": "61c472e0",
   "metadata": {},
   "outputs": [
    {
     "data": {
      "text/plain": [
       "array([[8.2880e+03, 2.0150e+03, 1.0000e+00, ..., 0.0000e+00, 0.0000e+00,\n",
       "        0.0000e+00],\n",
       "       [8.0990e+03, 2.0150e+03, 1.0000e+00, ..., 0.0000e+00, 0.0000e+00,\n",
       "        0.0000e+00],\n",
       "       [7.9940e+03, 2.0150e+03, 1.0000e+00, ..., 0.0000e+00, 0.0000e+00,\n",
       "        0.0000e+00],\n",
       "       ...,\n",
       "       [1.6709e+04, 2.0180e+03, 9.0000e+00, ..., 0.0000e+00, 0.0000e+00,\n",
       "        1.0000e+00],\n",
       "       [1.6366e+04, 2.0180e+03, 9.0000e+00, ..., 0.0000e+00, 0.0000e+00,\n",
       "        1.0000e+00],\n",
       "       [1.6165e+04, 2.0180e+03, 9.0000e+00, ..., 0.0000e+00, 0.0000e+00,\n",
       "        1.0000e+00]])"
      ]
     },
     "execution_count": 74,
     "metadata": {},
     "output_type": "execute_result"
    }
   ],
   "source": [
    " train_set[:].values"
   ]
  },
  {
   "cell_type": "code",
   "execution_count": 75,
   "id": "9c0f9418",
   "metadata": {},
   "outputs": [
    {
     "data": {
      "text/plain": [
       "array([[ 0.5],\n",
       "       [ 0.5],\n",
       "       [ 0.5],\n",
       "       ...,\n",
       "       [-1. ],\n",
       "       [-1. ],\n",
       "       [-1. ]])"
      ]
     },
     "execution_count": 75,
     "metadata": {},
     "output_type": "execute_result"
    }
   ],
   "source": [
    "np.sin(2*np.pi*cyclic_train[:,0:1]/12)"
   ]
  },
  {
   "cell_type": "code",
   "execution_count": 85,
   "id": "cf09b0d3",
   "metadata": {},
   "outputs": [
    {
     "data": {
      "text/plain": [
       "<matplotlib.collections.PathCollection at 0x25cb60aac48>"
      ]
     },
     "execution_count": 85,
     "metadata": {},
     "output_type": "execute_result"
    },
    {
     "data": {
      "image/png": "[encoded data removed]",
      "text/plain": [
       "<Figure size 432x288 with 1 Axes>"
      ]
     },
     "metadata": {
      "needs_background": "light"
     },
     "output_type": "display_data"
    }
   ],
   "source": [
    "import matplotlib.pyplot as plt\n",
    "plt.scatter(np.cos(2*np.pi*cyclic_train[:,0:1]/12), np.sin(2*np.pi*cyclic_train[:,0:1]/12))"
   ]
  },
  {
   "cell_type": "code",
   "execution_count": 77,
   "id": "c8fff510",
   "metadata": {},
   "outputs": [
    {
     "ename": "AttributeError",
     "evalue": "'numpy.ndarray' object has no attribute 'plot'",
     "output_type": "error",
     "traceback": [
      "\u001b[1;31m---------------------------------------------------------------------------\u001b[0m",
      "\u001b[1;31mAttributeError\u001b[0m                            Traceback (most recent call last)",
      "\u001b[1;32m~\\AppData\\Local\\Temp\\ipykernel_2988\\650097041.py\u001b[0m in \u001b[0;36m<module>\u001b[1;34m\u001b[0m\n\u001b[1;32m----> 1\u001b[1;33m \u001b[0mnp\u001b[0m\u001b[1;33m.\u001b[0m\u001b[0msin\u001b[0m\u001b[1;33m(\u001b[0m\u001b[1;36m2\u001b[0m\u001b[1;33m*\u001b[0m\u001b[0mnp\u001b[0m\u001b[1;33m.\u001b[0m\u001b[0mpi\u001b[0m\u001b[1;33m*\u001b[0m\u001b[0mcyclic_train\u001b[0m\u001b[1;33m[\u001b[0m\u001b[1;33m:\u001b[0m\u001b[1;33m,\u001b[0m\u001b[1;36m0\u001b[0m\u001b[1;33m:\u001b[0m\u001b[1;36m1\u001b[0m\u001b[1;33m]\u001b[0m\u001b[1;33m/\u001b[0m\u001b[1;36m12\u001b[0m\u001b[1;33m)\u001b[0m\u001b[1;33m.\u001b[0m\u001b[0mplot\u001b[0m\u001b[1;33m.\u001b[0m\u001b[0mscatter\u001b[0m\u001b[1;33m(\u001b[0m\u001b[1;34m'sin_time'\u001b[0m\u001b[1;33m,\u001b[0m\u001b[1;34m'cos_time'\u001b[0m\u001b[1;33m)\u001b[0m\u001b[1;33m.\u001b[0m\u001b[0mset_aspect\u001b[0m\u001b[1;33m(\u001b[0m\u001b[1;34m'equal'\u001b[0m\u001b[1;33m)\u001b[0m\u001b[1;33m\u001b[0m\u001b[1;33m\u001b[0m\u001b[0m\n\u001b[0m",
      "\u001b[1;31mAttributeError\u001b[0m: 'numpy.ndarray' object has no attribute 'plot'"
     ]
    }
   ],
   "source": [
    "np.sin(2*np.pi*cyclic_train[:,0:1]/12).plot.scatter('sin_time','cos_time').set_aspect('equal')"
   ]
  },
  {
   "cell_type": "code",
   "execution_count": 92,
   "id": "c9e05ef2",
   "metadata": {},
   "outputs": [],
   "source": [
    "from sklearn.preprocessing import FunctionTransformer\n",
    "def sin_transformer(period):\n",
    "\treturn FunctionTransformer(lambda x: np.sin(x / period * 2 * np.pi))\n",
    "\n",
    "def cos_transformer(period):\n",
    "\treturn FunctionTransformer(lambda x: np.cos(x / period * 2 * np.pi))"
   ]
  },
  {
   "cell_type": "code",
   "execution_count": 104,
   "id": "999a5196",
   "metadata": {},
   "outputs": [],
   "source": [
    "cyclic_train = train_set[['Month_of_year']]"
   ]
  },
  {
   "cell_type": "code",
   "execution_count": 106,
   "id": "04ca1f97",
   "metadata": {},
   "outputs": [],
   "source": [
    "X_2 = cyclic_train.copy()\n",
    "\n",
    "X_2[\"month_sin\"] = sin_transformer(12).fit_transform(X_2)[\"Month_of_year\"]\n",
    "X_2[\"month_cos\"] = cos_transformer(12).fit_transform(X_2)[\"Month_of_year\"]"
   ]
  },
  {
   "cell_type": "code",
   "execution_count": 107,
   "id": "ccfcbb26",
   "metadata": {},
   "outputs": [
    {
     "data": {
      "text/html": [
       "<div>\n",
       "<style scoped>\n",
       "    .dataframe tbody tr th:only-of-type {\n",
       "        vertical-align: middle;\n",
       "    }\n",
       "\n",
       "    .dataframe tbody tr th {\n",
       "        vertical-align: top;\n",
       "    }\n",
       "\n",
       "    .dataframe thead th {\n",
       "        text-align: right;\n",
       "    }\n",
       "</style>\n",
       "<table border=\"1\" class=\"dataframe\">\n",
       "  <thead>\n",
       "    <tr style=\"text-align: right;\">\n",
       "      <th></th>\n",
       "      <th>Month_of_year</th>\n",
       "      <th>month_sin</th>\n",
       "      <th>month_cos</th>\n",
       "    </tr>\n",
       "    <tr>\n",
       "      <th>date_and_hour</th>\n",
       "      <th></th>\n",
       "      <th></th>\n",
       "      <th></th>\n",
       "    </tr>\n",
       "  </thead>\n",
       "  <tbody>\n",
       "    <tr>\n",
       "      <th>2015-01-01 00:00:00</th>\n",
       "      <td>1</td>\n",
       "      <td>0.5</td>\n",
       "      <td>8.660254e-01</td>\n",
       "    </tr>\n",
       "    <tr>\n",
       "      <th>2015-01-01 01:00:00</th>\n",
       "      <td>1</td>\n",
       "      <td>0.5</td>\n",
       "      <td>8.660254e-01</td>\n",
       "    </tr>\n",
       "    <tr>\n",
       "      <th>2015-01-01 02:00:00</th>\n",
       "      <td>1</td>\n",
       "      <td>0.5</td>\n",
       "      <td>8.660254e-01</td>\n",
       "    </tr>\n",
       "    <tr>\n",
       "      <th>2015-01-01 03:00:00</th>\n",
       "      <td>1</td>\n",
       "      <td>0.5</td>\n",
       "      <td>8.660254e-01</td>\n",
       "    </tr>\n",
       "    <tr>\n",
       "      <th>2015-01-01 04:00:00</th>\n",
       "      <td>1</td>\n",
       "      <td>0.5</td>\n",
       "      <td>8.660254e-01</td>\n",
       "    </tr>\n",
       "    <tr>\n",
       "      <th>...</th>\n",
       "      <td>...</td>\n",
       "      <td>...</td>\n",
       "      <td>...</td>\n",
       "    </tr>\n",
       "    <tr>\n",
       "      <th>2018-09-24 17:00:00</th>\n",
       "      <td>9</td>\n",
       "      <td>-1.0</td>\n",
       "      <td>-1.836970e-16</td>\n",
       "    </tr>\n",
       "    <tr>\n",
       "      <th>2018-09-24 18:00:00</th>\n",
       "      <td>9</td>\n",
       "      <td>-1.0</td>\n",
       "      <td>-1.836970e-16</td>\n",
       "    </tr>\n",
       "    <tr>\n",
       "      <th>2018-09-24 19:00:00</th>\n",
       "      <td>9</td>\n",
       "      <td>-1.0</td>\n",
       "      <td>-1.836970e-16</td>\n",
       "    </tr>\n",
       "    <tr>\n",
       "      <th>2018-09-24 20:00:00</th>\n",
       "      <td>9</td>\n",
       "      <td>-1.0</td>\n",
       "      <td>-1.836970e-16</td>\n",
       "    </tr>\n",
       "    <tr>\n",
       "      <th>2018-09-24 21:00:00</th>\n",
       "      <td>9</td>\n",
       "      <td>-1.0</td>\n",
       "      <td>-1.836970e-16</td>\n",
       "    </tr>\n",
       "  </tbody>\n",
       "</table>\n",
       "<p>32710 rows × 3 columns</p>\n",
       "</div>"
      ],
      "text/plain": [
       "                     Month_of_year  month_sin     month_cos\n",
       "date_and_hour                                              \n",
       "2015-01-01 00:00:00              1        0.5  8.660254e-01\n",
       "2015-01-01 01:00:00              1        0.5  8.660254e-01\n",
       "2015-01-01 02:00:00              1        0.5  8.660254e-01\n",
       "2015-01-01 03:00:00              1        0.5  8.660254e-01\n",
       "2015-01-01 04:00:00              1        0.5  8.660254e-01\n",
       "...                            ...        ...           ...\n",
       "2018-09-24 17:00:00              9       -1.0 -1.836970e-16\n",
       "2018-09-24 18:00:00              9       -1.0 -1.836970e-16\n",
       "2018-09-24 19:00:00              9       -1.0 -1.836970e-16\n",
       "2018-09-24 20:00:00              9       -1.0 -1.836970e-16\n",
       "2018-09-24 21:00:00              9       -1.0 -1.836970e-16\n",
       "\n",
       "[32710 rows x 3 columns]"
      ]
     },
     "execution_count": 107,
     "metadata": {},
     "output_type": "execute_result"
    }
   ],
   "source": [
    "X_2"
   ]
  },
  {
   "cell_type": "code",
   "execution_count": 31,
   "id": "83e3ff97",
   "metadata": {},
   "outputs": [
    {
     "data": {
      "text/html": [
       "<div>\n",
       "<style scoped>\n",
       "    .dataframe tbody tr th:only-of-type {\n",
       "        vertical-align: middle;\n",
       "    }\n",
       "\n",
       "    .dataframe tbody tr th {\n",
       "        vertical-align: top;\n",
       "    }\n",
       "\n",
       "    .dataframe thead th {\n",
       "        text-align: right;\n",
       "    }\n",
       "</style>\n",
       "<table border=\"1\" class=\"dataframe\">\n",
       "  <thead>\n",
       "    <tr style=\"text-align: right;\">\n",
       "      <th></th>\n",
       "      <th>System_load</th>\n",
       "      <th>Year</th>\n",
       "      <th>Month_of_year</th>\n",
       "      <th>Day_Of_Week</th>\n",
       "      <th>hour_of_day</th>\n",
       "      <th>holiday</th>\n",
       "      <th>winter_peak</th>\n",
       "      <th>Spring_Peak</th>\n",
       "      <th>Summer_Peak</th>\n",
       "      <th>Autumn_peak</th>\n",
       "    </tr>\n",
       "    <tr>\n",
       "      <th>date_and_hour</th>\n",
       "      <th></th>\n",
       "      <th></th>\n",
       "      <th></th>\n",
       "      <th></th>\n",
       "      <th></th>\n",
       "      <th></th>\n",
       "      <th></th>\n",
       "      <th></th>\n",
       "      <th></th>\n",
       "      <th></th>\n",
       "    </tr>\n",
       "  </thead>\n",
       "  <tbody>\n",
       "    <tr>\n",
       "      <th>2015-01-01 00:00:00</th>\n",
       "      <td>8288.0</td>\n",
       "      <td>2015</td>\n",
       "      <td>1</td>\n",
       "      <td>3</td>\n",
       "      <td>0</td>\n",
       "      <td>0</td>\n",
       "      <td>0</td>\n",
       "      <td>0</td>\n",
       "      <td>0</td>\n",
       "      <td>0</td>\n",
       "    </tr>\n",
       "    <tr>\n",
       "      <th>2015-01-01 01:00:00</th>\n",
       "      <td>8099.0</td>\n",
       "      <td>2015</td>\n",
       "      <td>1</td>\n",
       "      <td>3</td>\n",
       "      <td>1</td>\n",
       "      <td>0</td>\n",
       "      <td>0</td>\n",
       "      <td>0</td>\n",
       "      <td>0</td>\n",
       "      <td>0</td>\n",
       "    </tr>\n",
       "    <tr>\n",
       "      <th>2015-01-01 02:00:00</th>\n",
       "      <td>7994.0</td>\n",
       "      <td>2015</td>\n",
       "      <td>1</td>\n",
       "      <td>3</td>\n",
       "      <td>2</td>\n",
       "      <td>0</td>\n",
       "      <td>0</td>\n",
       "      <td>0</td>\n",
       "      <td>0</td>\n",
       "      <td>0</td>\n",
       "    </tr>\n",
       "    <tr>\n",
       "      <th>2015-01-01 03:00:00</th>\n",
       "      <td>7965.0</td>\n",
       "      <td>2015</td>\n",
       "      <td>1</td>\n",
       "      <td>3</td>\n",
       "      <td>3</td>\n",
       "      <td>0</td>\n",
       "      <td>0</td>\n",
       "      <td>0</td>\n",
       "      <td>0</td>\n",
       "      <td>0</td>\n",
       "    </tr>\n",
       "    <tr>\n",
       "      <th>2015-01-01 04:00:00</th>\n",
       "      <td>8120.0</td>\n",
       "      <td>2015</td>\n",
       "      <td>1</td>\n",
       "      <td>3</td>\n",
       "      <td>4</td>\n",
       "      <td>0</td>\n",
       "      <td>0</td>\n",
       "      <td>0</td>\n",
       "      <td>0</td>\n",
       "      <td>0</td>\n",
       "    </tr>\n",
       "    <tr>\n",
       "      <th>...</th>\n",
       "      <td>...</td>\n",
       "      <td>...</td>\n",
       "      <td>...</td>\n",
       "      <td>...</td>\n",
       "      <td>...</td>\n",
       "      <td>...</td>\n",
       "      <td>...</td>\n",
       "      <td>...</td>\n",
       "      <td>...</td>\n",
       "      <td>...</td>\n",
       "    </tr>\n",
       "    <tr>\n",
       "      <th>2018-09-24 17:00:00</th>\n",
       "      <td>15502.0</td>\n",
       "      <td>2018</td>\n",
       "      <td>9</td>\n",
       "      <td>0</td>\n",
       "      <td>17</td>\n",
       "      <td>0</td>\n",
       "      <td>0</td>\n",
       "      <td>0</td>\n",
       "      <td>0</td>\n",
       "      <td>0</td>\n",
       "    </tr>\n",
       "    <tr>\n",
       "      <th>2018-09-24 18:00:00</th>\n",
       "      <td>16805.0</td>\n",
       "      <td>2018</td>\n",
       "      <td>9</td>\n",
       "      <td>0</td>\n",
       "      <td>18</td>\n",
       "      <td>0</td>\n",
       "      <td>0</td>\n",
       "      <td>0</td>\n",
       "      <td>0</td>\n",
       "      <td>1</td>\n",
       "    </tr>\n",
       "    <tr>\n",
       "      <th>2018-09-24 19:00:00</th>\n",
       "      <td>16709.0</td>\n",
       "      <td>2018</td>\n",
       "      <td>9</td>\n",
       "      <td>0</td>\n",
       "      <td>19</td>\n",
       "      <td>0</td>\n",
       "      <td>0</td>\n",
       "      <td>0</td>\n",
       "      <td>0</td>\n",
       "      <td>1</td>\n",
       "    </tr>\n",
       "    <tr>\n",
       "      <th>2018-09-24 20:00:00</th>\n",
       "      <td>16366.0</td>\n",
       "      <td>2018</td>\n",
       "      <td>9</td>\n",
       "      <td>0</td>\n",
       "      <td>20</td>\n",
       "      <td>0</td>\n",
       "      <td>0</td>\n",
       "      <td>0</td>\n",
       "      <td>0</td>\n",
       "      <td>1</td>\n",
       "    </tr>\n",
       "    <tr>\n",
       "      <th>2018-09-24 21:00:00</th>\n",
       "      <td>16165.0</td>\n",
       "      <td>2018</td>\n",
       "      <td>9</td>\n",
       "      <td>0</td>\n",
       "      <td>21</td>\n",
       "      <td>0</td>\n",
       "      <td>0</td>\n",
       "      <td>0</td>\n",
       "      <td>0</td>\n",
       "      <td>1</td>\n",
       "    </tr>\n",
       "  </tbody>\n",
       "</table>\n",
       "<p>32710 rows × 10 columns</p>\n",
       "</div>"
      ],
      "text/plain": [
       "                     System_load  Year  Month_of_year  Day_Of_Week  \\\n",
       "date_and_hour                                                        \n",
       "2015-01-01 00:00:00       8288.0  2015              1            3   \n",
       "2015-01-01 01:00:00       8099.0  2015              1            3   \n",
       "2015-01-01 02:00:00       7994.0  2015              1            3   \n",
       "2015-01-01 03:00:00       7965.0  2015              1            3   \n",
       "2015-01-01 04:00:00       8120.0  2015              1            3   \n",
       "...                          ...   ...            ...          ...   \n",
       "2018-09-24 17:00:00      15502.0  2018              9            0   \n",
       "2018-09-24 18:00:00      16805.0  2018              9            0   \n",
       "2018-09-24 19:00:00      16709.0  2018              9            0   \n",
       "2018-09-24 20:00:00      16366.0  2018              9            0   \n",
       "2018-09-24 21:00:00      16165.0  2018              9            0   \n",
       "\n",
       "                     hour_of_day  holiday  winter_peak  Spring_Peak  \\\n",
       "date_and_hour                                                         \n",
       "2015-01-01 00:00:00            0        0            0            0   \n",
       "2015-01-01 01:00:00            1        0            0            0   \n",
       "2015-01-01 02:00:00            2        0            0            0   \n",
       "2015-01-01 03:00:00            3        0            0            0   \n",
       "2015-01-01 04:00:00            4        0            0            0   \n",
       "...                          ...      ...          ...          ...   \n",
       "2018-09-24 17:00:00           17        0            0            0   \n",
       "2018-09-24 18:00:00           18        0            0            0   \n",
       "2018-09-24 19:00:00           19        0            0            0   \n",
       "2018-09-24 20:00:00           20        0            0            0   \n",
       "2018-09-24 21:00:00           21        0            0            0   \n",
       "\n",
       "                     Summer_Peak  Autumn_peak  \n",
       "date_and_hour                                  \n",
       "2015-01-01 00:00:00            0            0  \n",
       "2015-01-01 01:00:00            0            0  \n",
       "2015-01-01 02:00:00            0            0  \n",
       "2015-01-01 03:00:00            0            0  \n",
       "2015-01-01 04:00:00            0            0  \n",
       "...                          ...          ...  \n",
       "2018-09-24 17:00:00            0            0  \n",
       "2018-09-24 18:00:00            0            1  \n",
       "2018-09-24 19:00:00            0            1  \n",
       "2018-09-24 20:00:00            0            1  \n",
       "2018-09-24 21:00:00            0            1  \n",
       "\n",
       "[32710 rows x 10 columns]"
      ]
     },
     "execution_count": 31,
     "metadata": {},
     "output_type": "execute_result"
    }
   ],
   "source": [
    "train_set"
   ]
  },
  {
   "cell_type": "code",
   "execution_count": 32,
   "id": "41a9e41c",
   "metadata": {},
   "outputs": [
    {
     "data": {
      "text/plain": [
       "array([[8.2880e+03, 2.0150e+03, 1.0000e+00, ..., 0.0000e+00, 0.0000e+00,\n",
       "        0.0000e+00],\n",
       "       [8.0990e+03, 2.0150e+03, 1.0000e+00, ..., 0.0000e+00, 0.0000e+00,\n",
       "        0.0000e+00],\n",
       "       [7.9940e+03, 2.0150e+03, 1.0000e+00, ..., 0.0000e+00, 0.0000e+00,\n",
       "        0.0000e+00],\n",
       "       ...,\n",
       "       [1.6709e+04, 2.0180e+03, 9.0000e+00, ..., 0.0000e+00, 0.0000e+00,\n",
       "        1.0000e+00],\n",
       "       [1.6366e+04, 2.0180e+03, 9.0000e+00, ..., 0.0000e+00, 0.0000e+00,\n",
       "        1.0000e+00],\n",
       "       [1.6165e+04, 2.0180e+03, 9.0000e+00, ..., 0.0000e+00, 0.0000e+00,\n",
       "        1.0000e+00]])"
      ]
     },
     "execution_count": 32,
     "metadata": {},
     "output_type": "execute_result"
    }
   ],
   "source": [
    "train_set[:].values"
   ]
  },
  {
   "cell_type": "code",
   "execution_count": 33,
   "id": "eae3ce8e",
   "metadata": {},
   "outputs": [],
   "source": [
    "train_setO     = train_set[:].values\n",
    "\n",
    "year           = train_setO[:,1:2]\n",
    "en_year        = OneHotEncoder(categories=[[2015,2016,2017,2018,2019,2020]],handle_unknown='ignore')"
   ]
  },
  {
   "cell_type": "code",
   "execution_count": 39,
   "id": "479b1028",
   "metadata": {
    "scrolled": true
   },
   "outputs": [],
   "source": [
    "yeart          = en_year.fit(year)\n",
    "yeart          = en_year.transform(year).toarray()"
   ]
  },
  {
   "cell_type": "code",
   "execution_count": 40,
   "id": "b90fe042",
   "metadata": {},
   "outputs": [
    {
     "data": {
      "text/plain": [
       "array([[1., 0., 0., 0., 0., 0.],\n",
       "       [1., 0., 0., 0., 0., 0.],\n",
       "       [1., 0., 0., 0., 0., 0.],\n",
       "       ...,\n",
       "       [0., 0., 0., 1., 0., 0.],\n",
       "       [0., 0., 0., 1., 0., 0.],\n",
       "       [0., 0., 0., 1., 0., 0.]])"
      ]
     },
     "execution_count": 40,
     "metadata": {},
     "output_type": "execute_result"
    }
   ],
   "source": [
    "yeart"
   ]
  },
  {
   "cell_type": "code",
   "execution_count": 41,
   "id": "f10b5292",
   "metadata": {},
   "outputs": [],
   "source": [
    "test_setO      = test_set[:].values"
   ]
  },
  {
   "cell_type": "code",
   "execution_count": 42,
   "id": "d562b60e",
   "metadata": {},
   "outputs": [],
   "source": [
    "year           = test_setO[:,1:2]"
   ]
  },
  {
   "cell_type": "code",
   "execution_count": 43,
   "id": "98286f0f",
   "metadata": {},
   "outputs": [],
   "source": [
    "yeart          = en_year.transform(year).toarray()"
   ]
  },
  {
   "cell_type": "code",
   "execution_count": 44,
   "id": "5a40418f",
   "metadata": {},
   "outputs": [
    {
     "data": {
      "text/plain": [
       "array([[0., 0., 0., 0., 1., 0.],\n",
       "       [0., 0., 0., 0., 1., 0.],\n",
       "       [0., 0., 0., 0., 1., 0.],\n",
       "       ...,\n",
       "       [0., 0., 0., 0., 0., 1.],\n",
       "       [0., 0., 0., 0., 0., 1.],\n",
       "       [0., 0., 0., 0., 0., 1.]])"
      ]
     },
     "execution_count": 44,
     "metadata": {},
     "output_type": "execute_result"
    }
   ],
   "source": [
    "yeart"
   ]
  },
  {
   "cell_type": "code",
   "execution_count": 56,
   "id": "2c68f885",
   "metadata": {},
   "outputs": [
    {
     "data": {
      "text/html": [
       "<div>\n",
       "<style scoped>\n",
       "    .dataframe tbody tr th:only-of-type {\n",
       "        vertical-align: middle;\n",
       "    }\n",
       "\n",
       "    .dataframe tbody tr th {\n",
       "        vertical-align: top;\n",
       "    }\n",
       "\n",
       "    .dataframe thead th {\n",
       "        text-align: right;\n",
       "    }\n",
       "</style>\n",
       "<table border=\"1\" class=\"dataframe\">\n",
       "  <thead>\n",
       "    <tr style=\"text-align: right;\">\n",
       "      <th></th>\n",
       "      <th>System_load</th>\n",
       "      <th>Year</th>\n",
       "      <th>Month_of_year</th>\n",
       "      <th>Day_Of_Week</th>\n",
       "      <th>hour_of_day</th>\n",
       "      <th>holiday</th>\n",
       "      <th>winter_peak</th>\n",
       "      <th>Spring_Peak</th>\n",
       "      <th>Summer_Peak</th>\n",
       "      <th>Autumn_peak</th>\n",
       "    </tr>\n",
       "    <tr>\n",
       "      <th>date_and_hour</th>\n",
       "      <th></th>\n",
       "      <th></th>\n",
       "      <th></th>\n",
       "      <th></th>\n",
       "      <th></th>\n",
       "      <th></th>\n",
       "      <th></th>\n",
       "      <th></th>\n",
       "      <th></th>\n",
       "      <th></th>\n",
       "    </tr>\n",
       "  </thead>\n",
       "  <tbody>\n",
       "    <tr>\n",
       "      <th>2015-01-01 00:00:00</th>\n",
       "      <td>8288.0</td>\n",
       "      <td>2015</td>\n",
       "      <td>1</td>\n",
       "      <td>3</td>\n",
       "      <td>0</td>\n",
       "      <td>0</td>\n",
       "      <td>0</td>\n",
       "      <td>0</td>\n",
       "      <td>0</td>\n",
       "      <td>0</td>\n",
       "    </tr>\n",
       "    <tr>\n",
       "      <th>2015-01-01 01:00:00</th>\n",
       "      <td>8099.0</td>\n",
       "      <td>2015</td>\n",
       "      <td>1</td>\n",
       "      <td>3</td>\n",
       "      <td>1</td>\n",
       "      <td>0</td>\n",
       "      <td>0</td>\n",
       "      <td>0</td>\n",
       "      <td>0</td>\n",
       "      <td>0</td>\n",
       "    </tr>\n",
       "    <tr>\n",
       "      <th>2015-01-01 02:00:00</th>\n",
       "      <td>7994.0</td>\n",
       "      <td>2015</td>\n",
       "      <td>1</td>\n",
       "      <td>3</td>\n",
       "      <td>2</td>\n",
       "      <td>0</td>\n",
       "      <td>0</td>\n",
       "      <td>0</td>\n",
       "      <td>0</td>\n",
       "      <td>0</td>\n",
       "    </tr>\n",
       "    <tr>\n",
       "      <th>2015-01-01 03:00:00</th>\n",
       "      <td>7965.0</td>\n",
       "      <td>2015</td>\n",
       "      <td>1</td>\n",
       "      <td>3</td>\n",
       "      <td>3</td>\n",
       "      <td>0</td>\n",
       "      <td>0</td>\n",
       "      <td>0</td>\n",
       "      <td>0</td>\n",
       "      <td>0</td>\n",
       "    </tr>\n",
       "    <tr>\n",
       "      <th>2015-01-01 04:00:00</th>\n",
       "      <td>8120.0</td>\n",
       "      <td>2015</td>\n",
       "      <td>1</td>\n",
       "      <td>3</td>\n",
       "      <td>4</td>\n",
       "      <td>0</td>\n",
       "      <td>0</td>\n",
       "      <td>0</td>\n",
       "      <td>0</td>\n",
       "      <td>0</td>\n",
       "    </tr>\n",
       "    <tr>\n",
       "      <th>...</th>\n",
       "      <td>...</td>\n",
       "      <td>...</td>\n",
       "      <td>...</td>\n",
       "      <td>...</td>\n",
       "      <td>...</td>\n",
       "      <td>...</td>\n",
       "      <td>...</td>\n",
       "      <td>...</td>\n",
       "      <td>...</td>\n",
       "      <td>...</td>\n",
       "    </tr>\n",
       "    <tr>\n",
       "      <th>2018-09-24 17:00:00</th>\n",
       "      <td>15502.0</td>\n",
       "      <td>2018</td>\n",
       "      <td>9</td>\n",
       "      <td>0</td>\n",
       "      <td>17</td>\n",
       "      <td>0</td>\n",
       "      <td>0</td>\n",
       "      <td>0</td>\n",
       "      <td>0</td>\n",
       "      <td>0</td>\n",
       "    </tr>\n",
       "    <tr>\n",
       "      <th>2018-09-24 18:00:00</th>\n",
       "      <td>16805.0</td>\n",
       "      <td>2018</td>\n",
       "      <td>9</td>\n",
       "      <td>0</td>\n",
       "      <td>18</td>\n",
       "      <td>0</td>\n",
       "      <td>0</td>\n",
       "      <td>0</td>\n",
       "      <td>0</td>\n",
       "      <td>1</td>\n",
       "    </tr>\n",
       "    <tr>\n",
       "      <th>2018-09-24 19:00:00</th>\n",
       "      <td>16709.0</td>\n",
       "      <td>2018</td>\n",
       "      <td>9</td>\n",
       "      <td>0</td>\n",
       "      <td>19</td>\n",
       "      <td>0</td>\n",
       "      <td>0</td>\n",
       "      <td>0</td>\n",
       "      <td>0</td>\n",
       "      <td>1</td>\n",
       "    </tr>\n",
       "    <tr>\n",
       "      <th>2018-09-24 20:00:00</th>\n",
       "      <td>16366.0</td>\n",
       "      <td>2018</td>\n",
       "      <td>9</td>\n",
       "      <td>0</td>\n",
       "      <td>20</td>\n",
       "      <td>0</td>\n",
       "      <td>0</td>\n",
       "      <td>0</td>\n",
       "      <td>0</td>\n",
       "      <td>1</td>\n",
       "    </tr>\n",
       "    <tr>\n",
       "      <th>2018-09-24 21:00:00</th>\n",
       "      <td>16165.0</td>\n",
       "      <td>2018</td>\n",
       "      <td>9</td>\n",
       "      <td>0</td>\n",
       "      <td>21</td>\n",
       "      <td>0</td>\n",
       "      <td>0</td>\n",
       "      <td>0</td>\n",
       "      <td>0</td>\n",
       "      <td>1</td>\n",
       "    </tr>\n",
       "  </tbody>\n",
       "</table>\n",
       "<p>32710 rows × 10 columns</p>\n",
       "</div>"
      ],
      "text/plain": [
       "                     System_load  Year  Month_of_year  Day_Of_Week  \\\n",
       "date_and_hour                                                        \n",
       "2015-01-01 00:00:00       8288.0  2015              1            3   \n",
       "2015-01-01 01:00:00       8099.0  2015              1            3   \n",
       "2015-01-01 02:00:00       7994.0  2015              1            3   \n",
       "2015-01-01 03:00:00       7965.0  2015              1            3   \n",
       "2015-01-01 04:00:00       8120.0  2015              1            3   \n",
       "...                          ...   ...            ...          ...   \n",
       "2018-09-24 17:00:00      15502.0  2018              9            0   \n",
       "2018-09-24 18:00:00      16805.0  2018              9            0   \n",
       "2018-09-24 19:00:00      16709.0  2018              9            0   \n",
       "2018-09-24 20:00:00      16366.0  2018              9            0   \n",
       "2018-09-24 21:00:00      16165.0  2018              9            0   \n",
       "\n",
       "                     hour_of_day  holiday  winter_peak  Spring_Peak  \\\n",
       "date_and_hour                                                         \n",
       "2015-01-01 00:00:00            0        0            0            0   \n",
       "2015-01-01 01:00:00            1        0            0            0   \n",
       "2015-01-01 02:00:00            2        0            0            0   \n",
       "2015-01-01 03:00:00            3        0            0            0   \n",
       "2015-01-01 04:00:00            4        0            0            0   \n",
       "...                          ...      ...          ...          ...   \n",
       "2018-09-24 17:00:00           17        0            0            0   \n",
       "2018-09-24 18:00:00           18        0            0            0   \n",
       "2018-09-24 19:00:00           19        0            0            0   \n",
       "2018-09-24 20:00:00           20        0            0            0   \n",
       "2018-09-24 21:00:00           21        0            0            0   \n",
       "\n",
       "                     Summer_Peak  Autumn_peak  \n",
       "date_and_hour                                  \n",
       "2015-01-01 00:00:00            0            0  \n",
       "2015-01-01 01:00:00            0            0  \n",
       "2015-01-01 02:00:00            0            0  \n",
       "2015-01-01 03:00:00            0            0  \n",
       "2015-01-01 04:00:00            0            0  \n",
       "...                          ...          ...  \n",
       "2018-09-24 17:00:00            0            0  \n",
       "2018-09-24 18:00:00            0            1  \n",
       "2018-09-24 19:00:00            0            1  \n",
       "2018-09-24 20:00:00            0            1  \n",
       "2018-09-24 21:00:00            0            1  \n",
       "\n",
       "[32710 rows x 10 columns]"
      ]
     },
     "execution_count": 56,
     "metadata": {},
     "output_type": "execute_result"
    }
   ],
   "source": [
    "train_set"
   ]
  },
  {
   "cell_type": "code",
   "execution_count": 59,
   "id": "985f790a",
   "metadata": {},
   "outputs": [],
   "source": [
    "#nominals \n",
    "#en_ for encoding\n",
    "\n",
    "train_setO     = train_set[:].values\n",
    "\n",
    "year           = train_setO[:,1:2]\n",
    "holiday        = train_setO[:,5:6]\n",
    "winter_peak    = train_setO[:,6:7]\n",
    "Spring_Peak    = train_setO[:,7:8]\n",
    "Summer_Peak    = train_setO[:,8:9]\n",
    "Autumn_peak    = train_setO[:,9:10]"
   ]
  },
  {
   "cell_type": "code",
   "execution_count": 60,
   "id": "5aa21e47",
   "metadata": {},
   "outputs": [],
   "source": [
    "en_year        = OneHotEncoder(categories=[[2015,2016,2017,2018,2019,2020]],handle_unknown='ignore')\n",
    "en_holiday     = OneHotEncoder(handle_unknown='ignore')\n",
    "en_week        = OneHotEncoder(handle_unknown='ignore')\n",
    "en_spring      = OneHotEncoder(handle_unknown='ignore')\n",
    "en_summer      = OneHotEncoder(handle_unknown='ignore')\n",
    "en_autumn      = OneHotEncoder(handle_unknown='ignore')"
   ]
  },
  {
   "cell_type": "code",
   "execution_count": 61,
   "id": "64fb13ad",
   "metadata": {},
   "outputs": [],
   "source": [
    "yearf          = en_year.fit(year)\n",
    "holidayf       = en_holiday.fit(holiday)\n",
    "winter_peakf   = en_week.fit(winter_peak)\n",
    "Spring_Peakf   = en_spring.fit(Spring_Peak)\n",
    "Summer_Peakf   = en_summer.fit(Summer_Peak)\n",
    "Autumn_peakf   = en_autumn.fit(Autumn_peak)\n"
   ]
  },
  {
   "cell_type": "code",
   "execution_count": 63,
   "id": "170b4783",
   "metadata": {},
   "outputs": [],
   "source": [
    "yeart          = yearf.transform(year).toarray()\n",
    "holidayt       = holidayf.transform(holiday).toarray()\n",
    "winter_peakt   = winter_peakf.transform(winter_peak).toarray()\n",
    "Spring_Peakt   = Spring_Peakf.transform(Spring_Peak).toarray()\n",
    "Summer_Peakt   = Summer_Peakf.transform(Summer_Peak).toarray()\n",
    "Autumn_peakt   = Autumn_peakf.transform(Autumn_peak).toarray()"
   ]
  },
  {
   "cell_type": "code",
   "execution_count": null,
   "id": "290b89dc",
   "metadata": {},
   "outputs": [],
   "source": []
  },
  {
   "cell_type": "code",
   "execution_count": null,
   "id": "d2f4676f",
   "metadata": {},
   "outputs": [],
   "source": []
  },
  {
   "cell_type": "code",
   "execution_count": null,
   "id": "19e531c2",
   "metadata": {},
   "outputs": [],
   "source": []
  },
  {
   "cell_type": "code",
   "execution_count": 10,
   "id": "eee8ff7d",
   "metadata": {},
   "outputs": [
    {
     "data": {
      "text/plain": [
       "array([[ 8288.],\n",
       "       [ 8099.],\n",
       "       [ 7994.],\n",
       "       ...,\n",
       "       [16709.],\n",
       "       [16366.],\n",
       "       [16165.]])"
      ]
     },
     "execution_count": 10,
     "metadata": {},
     "output_type": "execute_result"
    }
   ],
   "source": [
    "train_set['System_load'].values.reshape(-1, 1)"
   ]
  },
  {
   "cell_type": "code",
   "execution_count": 11,
   "id": "33e33206",
   "metadata": {},
   "outputs": [
    {
     "data": {
      "text/plain": [
       "array([[ 8288.],\n",
       "       [ 8099.],\n",
       "       [ 7994.],\n",
       "       ...,\n",
       "       [16709.],\n",
       "       [16366.],\n",
       "       [16165.]])"
      ]
     },
     "execution_count": 11,
     "metadata": {},
     "output_type": "execute_result"
    }
   ],
   "source": [
    "train_set['System_load'].values.reshape(-1, 1)"
   ]
  },
  {
   "cell_type": "code",
   "execution_count": 14,
   "id": "d445a345",
   "metadata": {},
   "outputs": [
    {
     "data": {
      "text/plain": [
       "array([[16401.],\n",
       "       [16085.],\n",
       "       [13809.],\n",
       "       ...,\n",
       "       [ 9956.],\n",
       "       [10680.],\n",
       "       [10522.]])"
      ]
     },
     "execution_count": 14,
     "metadata": {},
     "output_type": "execute_result"
    }
   ],
   "source": [
    "validation_set['System_load'].values.reshape(-1, 1)"
   ]
  },
  {
   "cell_type": "code",
   "execution_count": 15,
   "id": "0db3ad67",
   "metadata": {},
   "outputs": [
    {
     "data": {
      "text/plain": [
       "array([[11099.],\n",
       "       [12240.],\n",
       "       [12606.],\n",
       "       ...,\n",
       "       [16824.],\n",
       "       [16332.],\n",
       "       [15003.]])"
      ]
     },
     "execution_count": 15,
     "metadata": {},
     "output_type": "execute_result"
    }
   ],
   "source": [
    "test_set['System_load'].values.reshape(-1, 1)"
   ]
  },
  {
   "cell_type": "code",
   "execution_count": 16,
   "id": "0905ba9e",
   "metadata": {},
   "outputs": [],
   "source": [
    "train_set_load = train_set['System_load'].values.reshape(-1, 1)              \n",
    "validation_set_load = validation_set['System_load'].values.reshape(-1, 1)\n",
    "test_set_load = test_set['System_load'].values.reshape(-1, 1)"
   ]
  },
  {
   "cell_type": "code",
   "execution_count": 17,
   "id": "0c321208",
   "metadata": {},
   "outputs": [],
   "source": [
    "scaler = MinMaxScaler(feature_range=(0, 1))\n",
    "scaler.fit(train_set_load)\n",
    "scaled_train_set_load = scaler.transform(train_set_load) "
   ]
  },
  {
   "cell_type": "code",
   "execution_count": 18,
   "id": "40772d4d",
   "metadata": {},
   "outputs": [
    {
     "data": {
      "text/plain": [
       "array([[0.31857218],\n",
       "       [0.30950439],\n",
       "       [0.30446673],\n",
       "       ...,\n",
       "       [0.72259272],\n",
       "       [0.70613635],\n",
       "       [0.69649283]])"
      ]
     },
     "execution_count": 18,
     "metadata": {},
     "output_type": "execute_result"
    }
   ],
   "source": [
    "scaled_train_set_load"
   ]
  },
  {
   "cell_type": "code",
   "execution_count": 22,
   "id": "e999a065",
   "metadata": {},
   "outputs": [
    {
     "name": "stdout",
     "output_type": "stream",
     "text": [
      "minimum: 1648.0\n",
      "maximum: 22491.0\n",
      "maximum: 8288.0\n",
      "Normalized: 0.3185721825073166\n"
     ]
    }
   ],
   "source": [
    "print('minimum:', train_set.min()['System_load'])\n",
    "print('maximum:', train_set.max()['System_load'])\n",
    "print('maximum:', train_set['System_load'][0])\n",
    "print('Normalized:', (8288.0-1648.0)/(22491.0-1648.0))"
   ]
  },
  {
   "cell_type": "code",
   "execution_count": 20,
   "id": "0eab77a9",
   "metadata": {},
   "outputs": [],
   "source": [
    "scaled_validation_set_load = scaler.transform(validation_set_load) "
   ]
  },
  {
   "cell_type": "code",
   "execution_count": 23,
   "id": "1991164e",
   "metadata": {},
   "outputs": [
    {
     "data": {
      "text/plain": [
       "array([[0.70781557],\n",
       "       [0.69265461],\n",
       "       [0.58345728],\n",
       "       ...,\n",
       "       [0.39859905],\n",
       "       [0.43333493],\n",
       "       [0.42575445]])"
      ]
     },
     "execution_count": 23,
     "metadata": {},
     "output_type": "execute_result"
    }
   ],
   "source": [
    "scaled_validation_set_load"
   ]
  },
  {
   "cell_type": "code",
   "execution_count": 25,
   "id": "aa5bd9f5",
   "metadata": {},
   "outputs": [
    {
     "name": "stdout",
     "output_type": "stream",
     "text": [
      "minimum: 5985.0\n",
      "maximum: 22696.0\n",
      "maximum: 16401.0\n",
      "Normalized by train parameters: 0.7078155735738617\n",
      "Normalized by validation parameters: 0.6233020166357489\n"
     ]
    }
   ],
   "source": [
    "print('minimum:', validation_set.min()['System_load'])\n",
    "print('maximum:', validation_set.max()['System_load'])\n",
    "print('maximum:', validation_set['System_load'][0])\n",
    "print('Normalized by train parameters:', (16401.0-1648.0)/(22491.0-1648.0))\n",
    "print('Normalized by validation parameters:', (16401.0-5985.0)/(22696.0-5985.0))"
   ]
  },
  {
   "cell_type": "code",
   "execution_count": null,
   "id": "3a591530",
   "metadata": {},
   "outputs": [],
   "source": [
    "xtestnorm = normalizer.transform(Xtest) "
   ]
  },
  {
   "cell_type": "code",
   "execution_count": null,
   "id": "292d79c9",
   "metadata": {},
   "outputs": [],
   "source": [
    "##################################################################################\n",
    "# train_set['System_load'].values da mong la row rake\n",
    "# train_set['System_load'].values.reshape(-1, 1) da mong la column rakae\n",
    "##################################################################################\n",
    "\n",
    "scaled_train_set_load = scaler.fit_transform(train_set_load)\n",
    "scaled_validation_set_load = scaler.fit_transform(validation_set_load)\n",
    "scaled_test_set_load = scaler.fit_transform(test_set_load)\n",
    "##################################################################################\n",
    "scaled_load=np.concatenate((scaled_train_set_load,scaled_validation_set_load\n",
    "                            ,scaled_test_set_load), axis=0) #satckeed vertically"
   ]
  },
  {
   "cell_type": "code",
   "execution_count": 67,
   "id": "dc4b1551",
   "metadata": {},
   "outputs": [
    {
     "data": {
      "text/plain": [
       "(46728, 1)"
      ]
     },
     "execution_count": 67,
     "metadata": {},
     "output_type": "execute_result"
    }
   ],
   "source": [
    "scaled_load.shape"
   ]
  },
  {
   "cell_type": "markdown",
   "id": "f305cceb",
   "metadata": {},
   "source": [
    "# OneHot Wncoding"
   ]
  },
  {
   "cell_type": "code",
   "execution_count": 10,
   "id": "606782a6",
   "metadata": {},
   "outputs": [
    {
     "data": {
      "text/html": [
       "<div>\n",
       "<style scoped>\n",
       "    .dataframe tbody tr th:only-of-type {\n",
       "        vertical-align: middle;\n",
       "    }\n",
       "\n",
       "    .dataframe tbody tr th {\n",
       "        vertical-align: top;\n",
       "    }\n",
       "\n",
       "    .dataframe thead th {\n",
       "        text-align: right;\n",
       "    }\n",
       "</style>\n",
       "<table border=\"1\" class=\"dataframe\">\n",
       "  <thead>\n",
       "    <tr style=\"text-align: right;\">\n",
       "      <th></th>\n",
       "      <th>System_load</th>\n",
       "      <th>Year</th>\n",
       "      <th>Month_of_year</th>\n",
       "      <th>Day_Of_Week</th>\n",
       "      <th>hour_of_day</th>\n",
       "      <th>holiday</th>\n",
       "      <th>winter_peak</th>\n",
       "      <th>Spring_Peak</th>\n",
       "      <th>Summer_Peak</th>\n",
       "      <th>Autumn_peak</th>\n",
       "    </tr>\n",
       "    <tr>\n",
       "      <th>date_and_hour</th>\n",
       "      <th></th>\n",
       "      <th></th>\n",
       "      <th></th>\n",
       "      <th></th>\n",
       "      <th></th>\n",
       "      <th></th>\n",
       "      <th></th>\n",
       "      <th></th>\n",
       "      <th></th>\n",
       "      <th></th>\n",
       "    </tr>\n",
       "  </thead>\n",
       "  <tbody>\n",
       "    <tr>\n",
       "      <th>2015-01-01 00:00:00</th>\n",
       "      <td>8288.0</td>\n",
       "      <td>2015</td>\n",
       "      <td>1</td>\n",
       "      <td>3</td>\n",
       "      <td>0</td>\n",
       "      <td>0</td>\n",
       "      <td>0</td>\n",
       "      <td>0</td>\n",
       "      <td>0</td>\n",
       "      <td>0</td>\n",
       "    </tr>\n",
       "    <tr>\n",
       "      <th>2015-01-01 01:00:00</th>\n",
       "      <td>8099.0</td>\n",
       "      <td>2015</td>\n",
       "      <td>1</td>\n",
       "      <td>3</td>\n",
       "      <td>1</td>\n",
       "      <td>0</td>\n",
       "      <td>0</td>\n",
       "      <td>0</td>\n",
       "      <td>0</td>\n",
       "      <td>0</td>\n",
       "    </tr>\n",
       "    <tr>\n",
       "      <th>2015-01-01 02:00:00</th>\n",
       "      <td>7994.0</td>\n",
       "      <td>2015</td>\n",
       "      <td>1</td>\n",
       "      <td>3</td>\n",
       "      <td>2</td>\n",
       "      <td>0</td>\n",
       "      <td>0</td>\n",
       "      <td>0</td>\n",
       "      <td>0</td>\n",
       "      <td>0</td>\n",
       "    </tr>\n",
       "    <tr>\n",
       "      <th>2015-01-01 03:00:00</th>\n",
       "      <td>7965.0</td>\n",
       "      <td>2015</td>\n",
       "      <td>1</td>\n",
       "      <td>3</td>\n",
       "      <td>3</td>\n",
       "      <td>0</td>\n",
       "      <td>0</td>\n",
       "      <td>0</td>\n",
       "      <td>0</td>\n",
       "      <td>0</td>\n",
       "    </tr>\n",
       "    <tr>\n",
       "      <th>2015-01-01 04:00:00</th>\n",
       "      <td>8120.0</td>\n",
       "      <td>2015</td>\n",
       "      <td>1</td>\n",
       "      <td>3</td>\n",
       "      <td>4</td>\n",
       "      <td>0</td>\n",
       "      <td>0</td>\n",
       "      <td>0</td>\n",
       "      <td>0</td>\n",
       "      <td>0</td>\n",
       "    </tr>\n",
       "    <tr>\n",
       "      <th>...</th>\n",
       "      <td>...</td>\n",
       "      <td>...</td>\n",
       "      <td>...</td>\n",
       "      <td>...</td>\n",
       "      <td>...</td>\n",
       "      <td>...</td>\n",
       "      <td>...</td>\n",
       "      <td>...</td>\n",
       "      <td>...</td>\n",
       "      <td>...</td>\n",
       "    </tr>\n",
       "    <tr>\n",
       "      <th>2018-09-24 17:00:00</th>\n",
       "      <td>15502.0</td>\n",
       "      <td>2018</td>\n",
       "      <td>9</td>\n",
       "      <td>0</td>\n",
       "      <td>17</td>\n",
       "      <td>0</td>\n",
       "      <td>0</td>\n",
       "      <td>0</td>\n",
       "      <td>0</td>\n",
       "      <td>0</td>\n",
       "    </tr>\n",
       "    <tr>\n",
       "      <th>2018-09-24 18:00:00</th>\n",
       "      <td>16805.0</td>\n",
       "      <td>2018</td>\n",
       "      <td>9</td>\n",
       "      <td>0</td>\n",
       "      <td>18</td>\n",
       "      <td>0</td>\n",
       "      <td>0</td>\n",
       "      <td>0</td>\n",
       "      <td>0</td>\n",
       "      <td>1</td>\n",
       "    </tr>\n",
       "    <tr>\n",
       "      <th>2018-09-24 19:00:00</th>\n",
       "      <td>16709.0</td>\n",
       "      <td>2018</td>\n",
       "      <td>9</td>\n",
       "      <td>0</td>\n",
       "      <td>19</td>\n",
       "      <td>0</td>\n",
       "      <td>0</td>\n",
       "      <td>0</td>\n",
       "      <td>0</td>\n",
       "      <td>1</td>\n",
       "    </tr>\n",
       "    <tr>\n",
       "      <th>2018-09-24 20:00:00</th>\n",
       "      <td>16366.0</td>\n",
       "      <td>2018</td>\n",
       "      <td>9</td>\n",
       "      <td>0</td>\n",
       "      <td>20</td>\n",
       "      <td>0</td>\n",
       "      <td>0</td>\n",
       "      <td>0</td>\n",
       "      <td>0</td>\n",
       "      <td>1</td>\n",
       "    </tr>\n",
       "    <tr>\n",
       "      <th>2018-09-24 21:00:00</th>\n",
       "      <td>16165.0</td>\n",
       "      <td>2018</td>\n",
       "      <td>9</td>\n",
       "      <td>0</td>\n",
       "      <td>21</td>\n",
       "      <td>0</td>\n",
       "      <td>0</td>\n",
       "      <td>0</td>\n",
       "      <td>0</td>\n",
       "      <td>1</td>\n",
       "    </tr>\n",
       "  </tbody>\n",
       "</table>\n",
       "<p>32710 rows × 10 columns</p>\n",
       "</div>"
      ],
      "text/plain": [
       "                     System_load  Year  Month_of_year  Day_Of_Week  \\\n",
       "date_and_hour                                                        \n",
       "2015-01-01 00:00:00       8288.0  2015              1            3   \n",
       "2015-01-01 01:00:00       8099.0  2015              1            3   \n",
       "2015-01-01 02:00:00       7994.0  2015              1            3   \n",
       "2015-01-01 03:00:00       7965.0  2015              1            3   \n",
       "2015-01-01 04:00:00       8120.0  2015              1            3   \n",
       "...                          ...   ...            ...          ...   \n",
       "2018-09-24 17:00:00      15502.0  2018              9            0   \n",
       "2018-09-24 18:00:00      16805.0  2018              9            0   \n",
       "2018-09-24 19:00:00      16709.0  2018              9            0   \n",
       "2018-09-24 20:00:00      16366.0  2018              9            0   \n",
       "2018-09-24 21:00:00      16165.0  2018              9            0   \n",
       "\n",
       "                     hour_of_day  holiday  winter_peak  Spring_Peak  \\\n",
       "date_and_hour                                                         \n",
       "2015-01-01 00:00:00            0        0            0            0   \n",
       "2015-01-01 01:00:00            1        0            0            0   \n",
       "2015-01-01 02:00:00            2        0            0            0   \n",
       "2015-01-01 03:00:00            3        0            0            0   \n",
       "2015-01-01 04:00:00            4        0            0            0   \n",
       "...                          ...      ...          ...          ...   \n",
       "2018-09-24 17:00:00           17        0            0            0   \n",
       "2018-09-24 18:00:00           18        0            0            0   \n",
       "2018-09-24 19:00:00           19        0            0            0   \n",
       "2018-09-24 20:00:00           20        0            0            0   \n",
       "2018-09-24 21:00:00           21        0            0            0   \n",
       "\n",
       "                     Summer_Peak  Autumn_peak  \n",
       "date_and_hour                                  \n",
       "2015-01-01 00:00:00            0            0  \n",
       "2015-01-01 01:00:00            0            0  \n",
       "2015-01-01 02:00:00            0            0  \n",
       "2015-01-01 03:00:00            0            0  \n",
       "2015-01-01 04:00:00            0            0  \n",
       "...                          ...          ...  \n",
       "2018-09-24 17:00:00            0            0  \n",
       "2018-09-24 18:00:00            0            1  \n",
       "2018-09-24 19:00:00            0            1  \n",
       "2018-09-24 20:00:00            0            1  \n",
       "2018-09-24 21:00:00            0            1  \n",
       "\n",
       "[32710 rows x 10 columns]"
      ]
     },
     "execution_count": 10,
     "metadata": {},
     "output_type": "execute_result"
    }
   ],
   "source": [
    "train_set"
   ]
  },
  {
   "cell_type": "code",
   "execution_count": 13,
   "id": "0780c264",
   "metadata": {},
   "outputs": [],
   "source": [
    "train_setO     = train_set[:].values\n",
    "\n",
    "#nominals\n",
    "year           = train_setO[:,1:2]"
   ]
  },
  {
   "cell_type": "code",
   "execution_count": 41,
   "id": "3155e48d",
   "metadata": {},
   "outputs": [
    {
     "data": {
      "text/plain": [
       "dtype('float64')"
      ]
     },
     "execution_count": 41,
     "metadata": {},
     "output_type": "execute_result"
    }
   ],
   "source": [
    "year[0][0].dtype"
   ]
  },
  {
   "cell_type": "code",
   "execution_count": 44,
   "id": "41afa4f5",
   "metadata": {},
   "outputs": [],
   "source": [
    "ency            = OneHotEncoder(categories = [2015., 2016., 2017., 2018.], handle_unknown='ignore')"
   ]
  },
  {
   "cell_type": "code",
   "execution_count": 45,
   "id": "d4b0f1d4",
   "metadata": {},
   "outputs": [
    {
     "ename": "ValueError",
     "evalue": "Shape mismatch: if categories is an array, it has to be of shape (n_features,).",
     "output_type": "error",
     "traceback": [
      "\u001b[1;31m---------------------------------------------------------------------------\u001b[0m",
      "\u001b[1;31mValueError\u001b[0m                                Traceback (most recent call last)",
      "\u001b[1;32m~\\AppData\\Local\\Temp\\ipykernel_16160\\4210502276.py\u001b[0m in \u001b[0;36m<module>\u001b[1;34m\u001b[0m\n\u001b[1;32m----> 1\u001b[1;33m \u001b[0mency\u001b[0m\u001b[1;33m.\u001b[0m\u001b[0mfit\u001b[0m\u001b[1;33m(\u001b[0m\u001b[0myear\u001b[0m\u001b[1;33m)\u001b[0m\u001b[1;33m\u001b[0m\u001b[1;33m\u001b[0m\u001b[0m\n\u001b[0m",
      "\u001b[1;32m~\\Anaconda3\\envs\\time2\\lib\\site-packages\\sklearn\\preprocessing\\_encoders.py\u001b[0m in \u001b[0;36mfit\u001b[1;34m(self, X, y)\u001b[0m\n\u001b[0;32m    459\u001b[0m         \"\"\"\n\u001b[0;32m    460\u001b[0m         \u001b[0mself\u001b[0m\u001b[1;33m.\u001b[0m\u001b[0m_validate_keywords\u001b[0m\u001b[1;33m(\u001b[0m\u001b[1;33m)\u001b[0m\u001b[1;33m\u001b[0m\u001b[1;33m\u001b[0m\u001b[0m\n\u001b[1;32m--> 461\u001b[1;33m         \u001b[0mself\u001b[0m\u001b[1;33m.\u001b[0m\u001b[0m_fit\u001b[0m\u001b[1;33m(\u001b[0m\u001b[0mX\u001b[0m\u001b[1;33m,\u001b[0m \u001b[0mhandle_unknown\u001b[0m\u001b[1;33m=\u001b[0m\u001b[0mself\u001b[0m\u001b[1;33m.\u001b[0m\u001b[0mhandle_unknown\u001b[0m\u001b[1;33m,\u001b[0m \u001b[0mforce_all_finite\u001b[0m\u001b[1;33m=\u001b[0m\u001b[1;34m\"allow-nan\"\u001b[0m\u001b[1;33m)\u001b[0m\u001b[1;33m\u001b[0m\u001b[1;33m\u001b[0m\u001b[0m\n\u001b[0m\u001b[0;32m    462\u001b[0m         \u001b[0mself\u001b[0m\u001b[1;33m.\u001b[0m\u001b[0mdrop_idx_\u001b[0m \u001b[1;33m=\u001b[0m \u001b[0mself\u001b[0m\u001b[1;33m.\u001b[0m\u001b[0m_compute_drop_idx\u001b[0m\u001b[1;33m(\u001b[0m\u001b[1;33m)\u001b[0m\u001b[1;33m\u001b[0m\u001b[1;33m\u001b[0m\u001b[0m\n\u001b[0;32m    463\u001b[0m         \u001b[1;32mreturn\u001b[0m \u001b[0mself\u001b[0m\u001b[1;33m\u001b[0m\u001b[1;33m\u001b[0m\u001b[0m\n",
      "\u001b[1;32m~\\Anaconda3\\envs\\time2\\lib\\site-packages\\sklearn\\preprocessing\\_encoders.py\u001b[0m in \u001b[0;36m_fit\u001b[1;34m(self, X, handle_unknown, force_all_finite)\u001b[0m\n\u001b[0;32m     83\u001b[0m             \u001b[1;32mif\u001b[0m \u001b[0mlen\u001b[0m\u001b[1;33m(\u001b[0m\u001b[0mself\u001b[0m\u001b[1;33m.\u001b[0m\u001b[0mcategories\u001b[0m\u001b[1;33m)\u001b[0m \u001b[1;33m!=\u001b[0m \u001b[0mn_features\u001b[0m\u001b[1;33m:\u001b[0m\u001b[1;33m\u001b[0m\u001b[1;33m\u001b[0m\u001b[0m\n\u001b[0;32m     84\u001b[0m                 raise ValueError(\n\u001b[1;32m---> 85\u001b[1;33m                     \u001b[1;34m\"Shape mismatch: if categories is an array,\"\u001b[0m\u001b[1;33m\u001b[0m\u001b[1;33m\u001b[0m\u001b[0m\n\u001b[0m\u001b[0;32m     86\u001b[0m                     \u001b[1;34m\" it has to be of shape (n_features,).\"\u001b[0m\u001b[1;33m\u001b[0m\u001b[1;33m\u001b[0m\u001b[0m\n\u001b[0;32m     87\u001b[0m                 )\n",
      "\u001b[1;31mValueError\u001b[0m: Shape mismatch: if categories is an array, it has to be of shape (n_features,)."
     ]
    }
   ],
   "source": [
    "ency.fit(year)"
   ]
  },
  {
   "cell_type": "code",
   "execution_count": null,
   "id": "e09c879a",
   "metadata": {},
   "outputs": [],
   "source": []
  },
  {
   "cell_type": "code",
   "execution_count": 48,
   "id": "725e3c0a",
   "metadata": {},
   "outputs": [
    {
     "data": {
      "text/plain": [
       "array([[1., 0., 0., 0.],\n",
       "       [1., 0., 0., 0.],\n",
       "       [1., 0., 0., 0.],\n",
       "       ...,\n",
       "       [0., 0., 0., 1.],\n",
       "       [0., 0., 0., 1.],\n",
       "       [0., 0., 0., 1.]])"
      ]
     },
     "execution_count": 48,
     "metadata": {},
     "output_type": "execute_result"
    }
   ],
   "source": [
    "ency.transform(year).toarray()"
   ]
  },
  {
   "cell_type": "code",
   "execution_count": 54,
   "id": "906c6b32",
   "metadata": {},
   "outputs": [],
   "source": [
    "validation_setO = validation_set[:].values\n",
    "\n",
    "#nominals\n",
    "year        = validation_setO[:,1:2]"
   ]
  },
  {
   "cell_type": "code",
   "execution_count": 55,
   "id": "bb12aa5c",
   "metadata": {},
   "outputs": [
    {
     "data": {
      "text/plain": [
       "array([[0., 0., 0., 1.],\n",
       "       [0., 0., 0., 1.],\n",
       "       [0., 0., 0., 1.],\n",
       "       ...,\n",
       "       [0., 0., 0., 0.],\n",
       "       [0., 0., 0., 0.],\n",
       "       [0., 0., 0., 0.]])"
      ]
     },
     "execution_count": 55,
     "metadata": {},
     "output_type": "execute_result"
    }
   ],
   "source": [
    "ency.transform(year).toarray()"
   ]
  },
  {
   "cell_type": "code",
   "execution_count": 56,
   "id": "afe83463",
   "metadata": {},
   "outputs": [],
   "source": [
    "test_setO = test_set[:].values\n",
    "year      = test_setO[:,1:2]"
   ]
  },
  {
   "cell_type": "code",
   "execution_count": 57,
   "id": "1270385b",
   "metadata": {},
   "outputs": [
    {
     "data": {
      "text/plain": [
       "array([[0., 0., 0., 0.],\n",
       "       [0., 0., 0., 0.],\n",
       "       [0., 0., 0., 0.],\n",
       "       ...,\n",
       "       [0., 0., 0., 0.],\n",
       "       [0., 0., 0., 0.],\n",
       "       [0., 0., 0., 0.]])"
      ]
     },
     "execution_count": 57,
     "metadata": {},
     "output_type": "execute_result"
    }
   ],
   "source": [
    "ency.transform(year).toarray()"
   ]
  },
  {
   "cell_type": "code",
   "execution_count": null,
   "id": "25595fed",
   "metadata": {},
   "outputs": [],
   "source": []
  },
  {
   "cell_type": "code",
   "execution_count": 33,
   "id": "7094fab9",
   "metadata": {},
   "outputs": [],
   "source": [
    "train_setO     = train_set[:].values\n",
    "\n",
    "#nominals\n",
    "year           = train_setO[:,1:2]\n",
    "holiday        = train_setO[:,5:6]\n",
    "winter_peak    = train_setO[:,6:7]\n",
    "Spring_Peak    = train_setO[:,7:8]\n",
    "Summer_Peak    = train_setO[:,8:9]\n",
    "Autumn_peak    = train_setO[:,9:10]\n",
    "\n",
    "\n",
    "ency            = OneHotEncoder(handle_unknown='ignore')\n",
    "ench            = OneHotEncoder(handle_unknown='ignore')\n",
    "encw            = OneHotEncoder(handle_unknown='ignore')\n",
    "encsp           = OneHotEncoder(handle_unknown='ignore')\n",
    "encsu           = OneHotEncoder(handle_unknown='ignore')\n",
    "enca            = OneHotEncoder(handle_unknown='ignore')\n",
    "\n",
    "ency.fit(year.reshape(-1,1))\n",
    "yeart       = ency.transform(holiday.reshape(-1, 1)).toarray()\n",
    "\n",
    "ench.fit(holiday.reshape(-1,1))\n",
    "holidayt       = ench.transform(holiday.reshape(-1, 1)).toarray()\n",
    "\n",
    "encw.fit(winter_peak.reshape(-1,1))\n",
    "winter_peakt   = encw.transform(winter_peak.reshape(-1, 1)).toarray()\n",
    "\n",
    "encsp.fit(Spring_Peak.reshape(-1,1))\n",
    "Spring_Peakt   = encsp.transform(Spring_Peak.reshape(-1, 1)).toarray()\n",
    "\n",
    "encsu.fit(Summer_Peak.reshape(-1,1))\n",
    "Summer_Peakt   = encsu.transform(Summer_Peak.reshape(-1, 1)).toarray()\n",
    "\n",
    "enca.fit(Autumn_peak.reshape(-1,1))\n",
    "Autumn_peakt   = enca.transform(Autumn_peak.reshape(-1, 1)).toarray()"
   ]
  },
  {
   "cell_type": "code",
   "execution_count": null,
   "id": "3a9f210e",
   "metadata": {},
   "outputs": [],
   "source": [
    "test_setO = test_set[:].values\n"
   ]
  },
  {
   "cell_type": "code",
   "execution_count": null,
   "id": "7a59c329",
   "metadata": {},
   "outputs": [],
   "source": []
  },
  {
   "cell_type": "code",
   "execution_count": null,
   "id": "4db77c19",
   "metadata": {},
   "outputs": [],
   "source": []
  },
  {
   "cell_type": "code",
   "execution_count": 52,
   "id": "a4967c20",
   "metadata": {},
   "outputs": [
    {
     "data": {
      "text/html": [
       "<div>\n",
       "<style scoped>\n",
       "    .dataframe tbody tr th:only-of-type {\n",
       "        vertical-align: middle;\n",
       "    }\n",
       "\n",
       "    .dataframe tbody tr th {\n",
       "        vertical-align: top;\n",
       "    }\n",
       "\n",
       "    .dataframe thead th {\n",
       "        text-align: right;\n",
       "    }\n",
       "</style>\n",
       "<table border=\"1\" class=\"dataframe\">\n",
       "  <thead>\n",
       "    <tr style=\"text-align: right;\">\n",
       "      <th></th>\n",
       "      <th>System_load</th>\n",
       "      <th>Year</th>\n",
       "      <th>Month_of_year</th>\n",
       "      <th>Day_Of_Week</th>\n",
       "      <th>hour_of_day</th>\n",
       "      <th>holiday</th>\n",
       "      <th>winter_peak</th>\n",
       "      <th>Spring_Peak</th>\n",
       "      <th>Summer_Peak</th>\n",
       "      <th>Autumn_peak</th>\n",
       "    </tr>\n",
       "    <tr>\n",
       "      <th>date_and_hour</th>\n",
       "      <th></th>\n",
       "      <th></th>\n",
       "      <th></th>\n",
       "      <th></th>\n",
       "      <th></th>\n",
       "      <th></th>\n",
       "      <th></th>\n",
       "      <th></th>\n",
       "      <th></th>\n",
       "      <th></th>\n",
       "    </tr>\n",
       "  </thead>\n",
       "  <tbody>\n",
       "    <tr>\n",
       "      <th>2015-01-01 00:00:00</th>\n",
       "      <td>8288.0</td>\n",
       "      <td>2015</td>\n",
       "      <td>1</td>\n",
       "      <td>3</td>\n",
       "      <td>0</td>\n",
       "      <td>0</td>\n",
       "      <td>0</td>\n",
       "      <td>0</td>\n",
       "      <td>0</td>\n",
       "      <td>0</td>\n",
       "    </tr>\n",
       "    <tr>\n",
       "      <th>2015-01-01 01:00:00</th>\n",
       "      <td>8099.0</td>\n",
       "      <td>2015</td>\n",
       "      <td>1</td>\n",
       "      <td>3</td>\n",
       "      <td>1</td>\n",
       "      <td>0</td>\n",
       "      <td>0</td>\n",
       "      <td>0</td>\n",
       "      <td>0</td>\n",
       "      <td>0</td>\n",
       "    </tr>\n",
       "  </tbody>\n",
       "</table>\n",
       "</div>"
      ],
      "text/plain": [
       "                     System_load  Year  Month_of_year  Day_Of_Week  \\\n",
       "date_and_hour                                                        \n",
       "2015-01-01 00:00:00       8288.0  2015              1            3   \n",
       "2015-01-01 01:00:00       8099.0  2015              1            3   \n",
       "\n",
       "                     hour_of_day  holiday  winter_peak  Spring_Peak  \\\n",
       "date_and_hour                                                         \n",
       "2015-01-01 00:00:00            0        0            0            0   \n",
       "2015-01-01 01:00:00            1        0            0            0   \n",
       "\n",
       "                     Summer_Peak  Autumn_peak  \n",
       "date_and_hour                                  \n",
       "2015-01-01 00:00:00            0            0  \n",
       "2015-01-01 01:00:00            0            0  "
      ]
     },
     "execution_count": 52,
     "metadata": {},
     "output_type": "execute_result"
    }
   ],
   "source": [
    "df.head(2)"
   ]
  },
  {
   "cell_type": "code",
   "execution_count": 55,
   "id": "c6c0f0c4",
   "metadata": {},
   "outputs": [],
   "source": [
    "a = df.columns"
   ]
  },
  {
   "cell_type": "code",
   "execution_count": null,
   "id": "157006fd",
   "metadata": {},
   "outputs": [],
   "source": [
    "Year          = np.array(df[a[1]].values).reshape(-1,1)\n",
    "Month_of_year = np.array(df[a[2]].values).reshape(-1,1)\n",
    "Day_Of_Week   = np.array(df[a[3]].values).reshape(-1,1)\n",
    "hour_of_day   = np.array(df[a[4]].values).reshape(-1,1)\n",
    "holiday       = np.array(df[a[5]].values).reshape(-1,1)\n",
    "winter_peak   = np.array(df[a[6]].values).reshape(-1,1)\n",
    "Spring_Peak   = np.array(df[a[7]].values).reshape(-1,1)\n",
    "Summer_Peak   = np.array(df[a[8]].values).reshape(-1,1)\n",
    "Autumn_peak   = np.array(df[a[9]].values).reshape(-1,1)\n",
    "\n",
    "enc           = OneHotEncoder(handle_unknown='ignore')\n",
    "\n",
    "enc.fit(Year)\n",
    "Yeart         = enc.transform(Year).toarray()\n",
    "\n",
    "enc.fit(Month_of_year)\n",
    "Month_of_yeart= enc.transform(Month_of_year).toarray()\n",
    "\n",
    "enc.fit(Day_Of_Week)\n",
    "Day_Of_Weekt  = enc.transform(Day_Of_Week).toarray()\n",
    "\n",
    "enc.fit(hour_of_day)\n",
    "hour_of_dayt  = enc.transform(hour_of_day).toarray()\n",
    "\n",
    "enc.fit(holiday)\n",
    "holidayt      = enc.transform(holiday).toarray()\n",
    "\n",
    "enc.fit(winter_peak)\n",
    "winter_peakt  = enc.transform(winter_peak).toarray()\n",
    "\n",
    "enc.fit(Spring_Peak)\n",
    "Spring_Peakt  = enc.transform(Spring_Peak).toarray()\n",
    "\n",
    "enc.fit(Summer_Peak)\n",
    "Summer_Peakt  = enc.transform(Summer_Peak).toarray()\n",
    "\n",
    "enc.fit(Autumn_peak)\n",
    "Autumn_peakt  = enc.transform(Autumn_peak).toarray()\n",
    "\n"
   ]
  },
  {
   "cell_type": "code",
   "execution_count": null,
   "id": "d2bcd2de",
   "metadata": {},
   "outputs": [],
   "source": [
    "dataset = np.concatenate((scaled_load, Yeart, Month_of_yeart, \n",
    "                          Day_Of_Weekt, hour_of_dayt,holidayt, \n",
    "                          winter_peakt, Spring_Peakt, Summer_Peakt, \n",
    "                          Autumn_peakt),axis=1) #horizntl stacked\n",
    "dataset.shape"
   ]
  },
  {
   "cell_type": "code",
   "execution_count": null,
   "id": "8ac562e6",
   "metadata": {},
   "outputs": [],
   "source": [
    "1 +6 +12 +7 +24 +2          +2+2+2+2"
   ]
  },
  {
   "cell_type": "markdown",
   "id": "5ca8053b",
   "metadata": {},
   "source": [
    "# practice"
   ]
  },
  {
   "cell_type": "code",
   "execution_count": null,
   "id": "f08ad2cf",
   "metadata": {},
   "outputs": [],
   "source": [
    "from sklearn.preprocessing import MinMaxScaler\n",
    "from sklearn.preprocessing import OneHotEncoder"
   ]
  },
  {
   "cell_type": "code",
   "execution_count": 106,
   "id": "fb851b48",
   "metadata": {},
   "outputs": [
    {
     "name": "stdout",
     "output_type": "stream",
     "text": [
      "[[0. 0. 1.]\n",
      " [0. 0. 1.]\n",
      " [0. 0. 1.]\n",
      " ...\n",
      " [1. 0. 0.]\n",
      " [1. 0. 0.]\n",
      " [1. 0. 0.]]\n"
     ]
    }
   ],
   "source": [
    "# One-hot encoding a single column\n",
    "from sklearn.preprocessing import OneHotEncoder\n",
    "from seaborn import load_dataset\n",
    "\n",
    "df = load_dataset('penguins')\n",
    "ohe = OneHotEncoder()\n",
    "transformed = ohe.fit_transform(df[['island']])\n",
    "print(transformed.toarray())"
   ]
  },
  {
   "cell_type": "code",
   "execution_count": 110,
   "id": "6734138b",
   "metadata": {},
   "outputs": [
    {
     "name": "stdout",
     "output_type": "stream",
     "text": [
      "[[1. 0.]\n",
      " [1. 0.]\n",
      " [1. 0.]\n",
      " ...\n",
      " [0. 1.]\n",
      " [0. 1.]\n",
      " [0. 1.]]\n"
     ]
    }
   ],
   "source": [
    "ohe = OneHotEncoder()\n",
    "transformed = ohe.fit_transform(test_set[['Year']])\n",
    "print(transformed.toarray())"
   ]
  },
  {
   "cell_type": "code",
   "execution_count": 13,
   "id": "b0a64fca",
   "metadata": {},
   "outputs": [],
   "source": [
    "train_set , validation_set , test_set = t_v_t(df,70,20,10);"
   ]
  },
  {
   "cell_type": "code",
   "execution_count": 12,
   "id": "31ee85c7",
   "metadata": {},
   "outputs": [
    {
     "ename": "NameError",
     "evalue": "name 'a' is not defined",
     "output_type": "error",
     "traceback": [
      "\u001b[1;31m---------------------------------------------------------------------------\u001b[0m",
      "\u001b[1;31mNameError\u001b[0m                                 Traceback (most recent call last)",
      "\u001b[1;32m~\\AppData\\Local\\Temp\\ipykernel_13216\\4232509135.py\u001b[0m in \u001b[0;36m<module>\u001b[1;34m\u001b[0m\n\u001b[1;32m----> 1\u001b[1;33m \u001b[0mYear\u001b[0m          \u001b[1;33m=\u001b[0m \u001b[0mnp\u001b[0m\u001b[1;33m.\u001b[0m\u001b[0marray\u001b[0m\u001b[1;33m(\u001b[0m\u001b[0mdf\u001b[0m\u001b[1;33m[\u001b[0m\u001b[0ma\u001b[0m\u001b[1;33m[\u001b[0m\u001b[1;36m1\u001b[0m\u001b[1;33m]\u001b[0m\u001b[1;33m]\u001b[0m\u001b[1;33m.\u001b[0m\u001b[0mvalues\u001b[0m\u001b[1;33m)\u001b[0m\u001b[1;33m.\u001b[0m\u001b[0mreshape\u001b[0m\u001b[1;33m(\u001b[0m\u001b[1;33m-\u001b[0m\u001b[1;36m1\u001b[0m\u001b[1;33m,\u001b[0m\u001b[1;36m1\u001b[0m\u001b[1;33m)\u001b[0m\u001b[1;33m\u001b[0m\u001b[1;33m\u001b[0m\u001b[0m\n\u001b[0m\u001b[0;32m      2\u001b[0m \u001b[0mMonth_of_year\u001b[0m \u001b[1;33m=\u001b[0m \u001b[0mnp\u001b[0m\u001b[1;33m.\u001b[0m\u001b[0marray\u001b[0m\u001b[1;33m(\u001b[0m\u001b[0mdf\u001b[0m\u001b[1;33m[\u001b[0m\u001b[0ma\u001b[0m\u001b[1;33m[\u001b[0m\u001b[1;36m2\u001b[0m\u001b[1;33m]\u001b[0m\u001b[1;33m]\u001b[0m\u001b[1;33m.\u001b[0m\u001b[0mvalues\u001b[0m\u001b[1;33m)\u001b[0m\u001b[1;33m.\u001b[0m\u001b[0mreshape\u001b[0m\u001b[1;33m(\u001b[0m\u001b[1;33m-\u001b[0m\u001b[1;36m1\u001b[0m\u001b[1;33m,\u001b[0m\u001b[1;36m1\u001b[0m\u001b[1;33m)\u001b[0m\u001b[1;33m\u001b[0m\u001b[1;33m\u001b[0m\u001b[0m\n\u001b[0;32m      3\u001b[0m \u001b[0mDay_Of_Week\u001b[0m   \u001b[1;33m=\u001b[0m \u001b[0mnp\u001b[0m\u001b[1;33m.\u001b[0m\u001b[0marray\u001b[0m\u001b[1;33m(\u001b[0m\u001b[0mdf\u001b[0m\u001b[1;33m[\u001b[0m\u001b[0ma\u001b[0m\u001b[1;33m[\u001b[0m\u001b[1;36m3\u001b[0m\u001b[1;33m]\u001b[0m\u001b[1;33m]\u001b[0m\u001b[1;33m.\u001b[0m\u001b[0mvalues\u001b[0m\u001b[1;33m)\u001b[0m\u001b[1;33m.\u001b[0m\u001b[0mreshape\u001b[0m\u001b[1;33m(\u001b[0m\u001b[1;33m-\u001b[0m\u001b[1;36m1\u001b[0m\u001b[1;33m,\u001b[0m\u001b[1;36m1\u001b[0m\u001b[1;33m)\u001b[0m\u001b[1;33m\u001b[0m\u001b[1;33m\u001b[0m\u001b[0m\n\u001b[0;32m      4\u001b[0m \u001b[0mhour_of_day\u001b[0m   \u001b[1;33m=\u001b[0m \u001b[0mnp\u001b[0m\u001b[1;33m.\u001b[0m\u001b[0marray\u001b[0m\u001b[1;33m(\u001b[0m\u001b[0mdf\u001b[0m\u001b[1;33m[\u001b[0m\u001b[0ma\u001b[0m\u001b[1;33m[\u001b[0m\u001b[1;36m4\u001b[0m\u001b[1;33m]\u001b[0m\u001b[1;33m]\u001b[0m\u001b[1;33m.\u001b[0m\u001b[0mvalues\u001b[0m\u001b[1;33m)\u001b[0m\u001b[1;33m.\u001b[0m\u001b[0mreshape\u001b[0m\u001b[1;33m(\u001b[0m\u001b[1;33m-\u001b[0m\u001b[1;36m1\u001b[0m\u001b[1;33m,\u001b[0m\u001b[1;36m1\u001b[0m\u001b[1;33m)\u001b[0m\u001b[1;33m\u001b[0m\u001b[1;33m\u001b[0m\u001b[0m\n\u001b[0;32m      5\u001b[0m \u001b[0mholiday\u001b[0m       \u001b[1;33m=\u001b[0m \u001b[0mnp\u001b[0m\u001b[1;33m.\u001b[0m\u001b[0marray\u001b[0m\u001b[1;33m(\u001b[0m\u001b[0mdf\u001b[0m\u001b[1;33m[\u001b[0m\u001b[0ma\u001b[0m\u001b[1;33m[\u001b[0m\u001b[1;36m5\u001b[0m\u001b[1;33m]\u001b[0m\u001b[1;33m]\u001b[0m\u001b[1;33m.\u001b[0m\u001b[0mvalues\u001b[0m\u001b[1;33m)\u001b[0m\u001b[1;33m.\u001b[0m\u001b[0mreshape\u001b[0m\u001b[1;33m(\u001b[0m\u001b[1;33m-\u001b[0m\u001b[1;36m1\u001b[0m\u001b[1;33m,\u001b[0m\u001b[1;36m1\u001b[0m\u001b[1;33m)\u001b[0m\u001b[1;33m\u001b[0m\u001b[1;33m\u001b[0m\u001b[0m\n",
      "\u001b[1;31mNameError\u001b[0m: name 'a' is not defined"
     ]
    }
   ],
   "source": [
    "Year          = np.array(df[a[1]].values).reshape(-1,1)\n",
    "Month_of_year = np.array(df[a[2]].values).reshape(-1,1)\n",
    "Day_Of_Week   = np.array(df[a[3]].values).reshape(-1,1)\n",
    "hour_of_day   = np.array(df[a[4]].values).reshape(-1,1)\n",
    "holiday       = np.array(df[a[5]].values).reshape(-1,1)\n",
    "winter_peak   = np.array(df[a[6]].values).reshape(-1,1)\n",
    "Spring_Peak   = np.array(df[a[7]].values).reshape(-1,1)\n",
    "Summer_Peak   = np.array(df[a[8]].values).reshape(-1,1)\n",
    "Autumn_peak   = np.array(df[a[9]].values).reshape(-1,1)"
   ]
  },
  {
   "cell_type": "code",
   "execution_count": 16,
   "id": "4a537257",
   "metadata": {},
   "outputs": [],
   "source": [
    "y = validation_set['Year'].values.reshape(-1,1)"
   ]
  },
  {
   "cell_type": "code",
   "execution_count": 17,
   "id": "d4945880",
   "metadata": {},
   "outputs": [
    {
     "name": "stdout",
     "output_type": "stream",
     "text": [
      "[[0.]\n",
      " [0.]\n",
      " [0.]\n",
      " ...\n",
      " [1.]\n",
      " [1.]\n",
      " [1.]]\n"
     ]
    }
   ],
   "source": [
    "encoder = OrdinalEncoder()\n",
    "# transform data\n",
    "result = encoder.fit_transform(y)\n",
    "print(result)"
   ]
  },
  {
   "cell_type": "code",
   "execution_count": 18,
   "id": "fcec1ecd",
   "metadata": {},
   "outputs": [
    {
     "data": {
      "text/plain": [
       "array([[2018],\n",
       "       [2018],\n",
       "       [2018],\n",
       "       ...,\n",
       "       [2019],\n",
       "       [2019],\n",
       "       [2019]], dtype=int64)"
      ]
     },
     "execution_count": 18,
     "metadata": {},
     "output_type": "execute_result"
    }
   ],
   "source": [
    "y"
   ]
  },
  {
   "cell_type": "code",
   "execution_count": 100,
   "id": "e845bf8a",
   "metadata": {},
   "outputs": [],
   "source": [
    "enc = OneHotEncoder(handle_unknown='ignore')\n",
    "\n",
    "enc.fit(y)\n",
    "ye         = enc.transform(y).toarray()"
   ]
  },
  {
   "cell_type": "code",
   "execution_count": 101,
   "id": "f226ee30",
   "metadata": {},
   "outputs": [
    {
     "data": {
      "text/plain": [
       "array([[1., 0., 0., 0.],\n",
       "       [1., 0., 0., 0.],\n",
       "       [1., 0., 0., 0.],\n",
       "       ...,\n",
       "       [0., 0., 0., 1.],\n",
       "       [0., 0., 0., 1.],\n",
       "       [0., 0., 0., 1.]])"
      ]
     },
     "execution_count": 101,
     "metadata": {},
     "output_type": "execute_result"
    }
   ],
   "source": [
    "ye"
   ]
  },
  {
   "cell_type": "code",
   "execution_count": 104,
   "id": "639dd933",
   "metadata": {},
   "outputs": [],
   "source": [
    "yt = validation_set['Year'].values.reshape(-1,1)"
   ]
  },
  {
   "cell_type": "code",
   "execution_count": 105,
   "id": "4fb51549",
   "metadata": {},
   "outputs": [
    {
     "data": {
      "text/plain": [
       "array([[0., 0.],\n",
       "       [0., 0.],\n",
       "       [0., 0.],\n",
       "       ...,\n",
       "       [1., 0.],\n",
       "       [1., 0.],\n",
       "       [1., 0.]])"
      ]
     },
     "execution_count": 105,
     "metadata": {},
     "output_type": "execute_result"
    }
   ],
   "source": [
    "enc = OneHotEncoder(handle_unknown='ignore')\n",
    "\n",
    "enc.fit(yt)\n",
    "yet         = enc.transform(y).toarray()\n",
    "yet"
   ]
  },
  {
   "cell_type": "code",
   "execution_count": 111,
   "id": "9ffdd13e",
   "metadata": {},
   "outputs": [
    {
     "name": "stdout",
     "output_type": "stream",
     "text": [
      "[array([2019, 2020], dtype=int64)]\n"
     ]
    }
   ],
   "source": [
    "print(ohe.categories_)"
   ]
  },
  {
   "cell_type": "code",
   "execution_count": 75,
   "id": "b532772b",
   "metadata": {},
   "outputs": [
    {
     "data": {
      "text/plain": [
       "[['Male', 1], ['Female', 3], ['Female', 2]]"
      ]
     },
     "execution_count": 75,
     "metadata": {},
     "output_type": "execute_result"
    }
   ],
   "source": [
    "X = [['Male', 1], ['Female', 3], ['Female', 2]]\n",
    "X"
   ]
  },
  {
   "cell_type": "code",
   "execution_count": 76,
   "id": "b6fce430",
   "metadata": {},
   "outputs": [
    {
     "data": {
      "text/plain": [
       "list"
      ]
     },
     "execution_count": 76,
     "metadata": {},
     "output_type": "execute_result"
    }
   ],
   "source": [
    "type(X)"
   ]
  },
  {
   "cell_type": "code",
   "execution_count": null,
   "id": "d6d87346",
   "metadata": {},
   "outputs": [],
   "source": [
    "from numpy import asarray\n",
    "from sklearn.preprocessing import OrdinalEncoder\n",
    "# define data\n",
    "data = asarray([['red'], ['green'], ['blue']])\n",
    "print(data)\n",
    "# define ordinal encoding\n",
    "encoder = OrdinalEncoder()\n",
    "# transform data\n",
    "result = encoder.fit_transform(data)\n",
    "print(result)"
   ]
  },
  {
   "cell_type": "code",
   "execution_count": 5,
   "id": "6680cf13",
   "metadata": {},
   "outputs": [],
   "source": [
    "yt = df['Year'].values.reshape(-1,1)"
   ]
  },
  {
   "cell_type": "code",
   "execution_count": 7,
   "id": "197ba67b",
   "metadata": {},
   "outputs": [],
   "source": [
    "from sklearn.preprocessing import OrdinalEncoder"
   ]
  },
  {
   "cell_type": "code",
   "execution_count": 2,
   "id": "c2f6fcd5",
   "metadata": {},
   "outputs": [],
   "source": [
    "import numpy as np\n",
    "import pandas as pd\n",
    "import matplotlib.pyplot as plt\n",
    "import seaborn as sns\n",
    "from datetime import date\n",
    "from sklearn.linear_model import LinearRegression\n",
    "from sklearn.preprocessing import FunctionTransformer\n",
    "from sklearn.metrics import mean_absolute_error\n",
    "#from sklego.preprocessing import RepeatingBasisFunction\n",
    "\n",
    "# settings\n",
    "plt.style.use(\"seaborn\")\n",
    "sns.set_palette(\"colorblind\")\n",
    "\n",
    "%matplotlib inline"
   ]
  },
  {
   "cell_type": "code",
   "execution_count": 3,
   "id": "7b5ca3f0",
   "metadata": {},
   "outputs": [
    {
     "data": {
      "image/png": "[encoded data removed]",
      "text/plain": [
       "<Figure size 1152x288 with 1 Axes>"
      ]
     },
     "metadata": {
      "needs_background": "light"
     },
     "output_type": "display_data"
    }
   ],
   "source": [
    "# for reproducibility\n",
    "np.random.seed(42)\n",
    "\n",
    "# generate the DataFrame with dates\n",
    "range_of_dates = pd.date_range(start=\"2017-01-01\", \n",
    "                               end=\"2020-12-30\")\n",
    "X = pd.DataFrame(index=range_of_dates)\n",
    "\n",
    "# create a sequence of day numbers\n",
    "X[\"day_nr\"] = range(len(X))\n",
    "X[\"day_of_year\"] = X.index.day_of_year\n",
    "\n",
    "# generate the components of the target\n",
    "signal_1 = 3 + 4 * np.sin(X[\"day_nr\"] / 365 * 2 * np.pi)\n",
    "signal_2 = 3 * np.sin(X[\"day_nr\"] / 365 * 4 * np.pi + 365/2)\n",
    "noise = np.random.normal(0, 0.85, len(X))\n",
    "\n",
    "# combine them to get the target series\n",
    "y = signal_1 + signal_2 + noise\n",
    "\n",
    "# plot\n",
    "y.plot(figsize=(16,4), title=\"Generated time series\");"
   ]
  },
  {
   "cell_type": "code",
   "execution_count": 4,
   "id": "fd1ecfd4",
   "metadata": {},
   "outputs": [],
   "source": [
    "# define the last observation of the training set\n",
    "TRAIN_END = 3 * 365"
   ]
  },
  {
   "cell_type": "code",
   "execution_count": 9,
   "id": "870f5114",
   "metadata": {},
   "outputs": [
    {
     "data": {
      "text/plain": [
       "Int64Index([  1,   2,   3,   4,   5,   6,   7,   8,   9,  10,\n",
       "            ...\n",
       "            356, 357, 358, 359, 360, 361, 362, 363, 364, 365],\n",
       "           dtype='int64', length=1460)"
      ]
     },
     "execution_count": 9,
     "metadata": {},
     "output_type": "execute_result"
    }
   ],
   "source": [
    " X.index.day_of_year"
   ]
  },
  {
   "cell_type": "code",
   "execution_count": 6,
   "id": "0cab7511",
   "metadata": {},
   "outputs": [
    {
     "data": {
      "text/plain": [
       "1460"
      ]
     },
     "execution_count": 6,
     "metadata": {},
     "output_type": "execute_result"
    }
   ],
   "source": [
    "4*365"
   ]
  },
  {
   "cell_type": "code",
   "execution_count": 10,
   "id": "6f520107",
   "metadata": {},
   "outputs": [
    {
     "data": {
      "text/html": [
       "<div>\n",
       "<style scoped>\n",
       "    .dataframe tbody tr th:only-of-type {\n",
       "        vertical-align: middle;\n",
       "    }\n",
       "\n",
       "    .dataframe tbody tr th {\n",
       "        vertical-align: top;\n",
       "    }\n",
       "\n",
       "    .dataframe thead th {\n",
       "        text-align: right;\n",
       "    }\n",
       "</style>\n",
       "<table border=\"1\" class=\"dataframe\">\n",
       "  <thead>\n",
       "    <tr style=\"text-align: right;\">\n",
       "      <th></th>\n",
       "      <th>actuals</th>\n",
       "    </tr>\n",
       "  </thead>\n",
       "  <tbody>\n",
       "    <tr>\n",
       "      <th>2017-01-01</th>\n",
       "      <td>4.273237</td>\n",
       "    </tr>\n",
       "    <tr>\n",
       "      <th>2017-01-02</th>\n",
       "      <td>3.900877</td>\n",
       "    </tr>\n",
       "    <tr>\n",
       "      <th>2017-01-03</th>\n",
       "      <td>4.735163</td>\n",
       "    </tr>\n",
       "    <tr>\n",
       "      <th>2017-01-04</th>\n",
       "      <td>5.644148</td>\n",
       "    </tr>\n",
       "    <tr>\n",
       "      <th>2017-01-05</th>\n",
       "      <td>4.314070</td>\n",
       "    </tr>\n",
       "  </tbody>\n",
       "</table>\n",
       "</div>"
      ],
      "text/plain": [
       "             actuals\n",
       "2017-01-01  4.273237\n",
       "2017-01-02  3.900877\n",
       "2017-01-03  4.735163\n",
       "2017-01-04  5.644148\n",
       "2017-01-05  4.314070"
      ]
     },
     "execution_count": 10,
     "metadata": {},
     "output_type": "execute_result"
    }
   ],
   "source": [
    "# create a DataFrame to store the ground truth and the fitted values\n",
    "results_df = y.to_frame()\n",
    "results_df.columns = [\"actuals\"]\n",
    "results_df.head()"
   ]
  },
  {
   "cell_type": "code",
   "execution_count": 11,
   "id": "e69cf00b",
   "metadata": {},
   "outputs": [
    {
     "data": {
      "text/html": [
       "<div>\n",
       "<style scoped>\n",
       "    .dataframe tbody tr th:only-of-type {\n",
       "        vertical-align: middle;\n",
       "    }\n",
       "\n",
       "    .dataframe tbody tr th {\n",
       "        vertical-align: top;\n",
       "    }\n",
       "\n",
       "    .dataframe thead th {\n",
       "        text-align: right;\n",
       "    }\n",
       "</style>\n",
       "<table border=\"1\" class=\"dataframe\">\n",
       "  <thead>\n",
       "    <tr style=\"text-align: right;\">\n",
       "      <th></th>\n",
       "      <th>month_2</th>\n",
       "      <th>month_3</th>\n",
       "      <th>month_4</th>\n",
       "      <th>month_5</th>\n",
       "      <th>month_6</th>\n",
       "      <th>month_7</th>\n",
       "      <th>month_8</th>\n",
       "      <th>month_9</th>\n",
       "      <th>month_10</th>\n",
       "      <th>month_11</th>\n",
       "      <th>month_12</th>\n",
       "    </tr>\n",
       "  </thead>\n",
       "  <tbody>\n",
       "    <tr>\n",
       "      <th>2017-01-01</th>\n",
       "      <td>0</td>\n",
       "      <td>0</td>\n",
       "      <td>0</td>\n",
       "      <td>0</td>\n",
       "      <td>0</td>\n",
       "      <td>0</td>\n",
       "      <td>0</td>\n",
       "      <td>0</td>\n",
       "      <td>0</td>\n",
       "      <td>0</td>\n",
       "      <td>0</td>\n",
       "    </tr>\n",
       "    <tr>\n",
       "      <th>2017-01-02</th>\n",
       "      <td>0</td>\n",
       "      <td>0</td>\n",
       "      <td>0</td>\n",
       "      <td>0</td>\n",
       "      <td>0</td>\n",
       "      <td>0</td>\n",
       "      <td>0</td>\n",
       "      <td>0</td>\n",
       "      <td>0</td>\n",
       "      <td>0</td>\n",
       "      <td>0</td>\n",
       "    </tr>\n",
       "    <tr>\n",
       "      <th>2017-01-03</th>\n",
       "      <td>0</td>\n",
       "      <td>0</td>\n",
       "      <td>0</td>\n",
       "      <td>0</td>\n",
       "      <td>0</td>\n",
       "      <td>0</td>\n",
       "      <td>0</td>\n",
       "      <td>0</td>\n",
       "      <td>0</td>\n",
       "      <td>0</td>\n",
       "      <td>0</td>\n",
       "    </tr>\n",
       "    <tr>\n",
       "      <th>2017-01-04</th>\n",
       "      <td>0</td>\n",
       "      <td>0</td>\n",
       "      <td>0</td>\n",
       "      <td>0</td>\n",
       "      <td>0</td>\n",
       "      <td>0</td>\n",
       "      <td>0</td>\n",
       "      <td>0</td>\n",
       "      <td>0</td>\n",
       "      <td>0</td>\n",
       "      <td>0</td>\n",
       "    </tr>\n",
       "    <tr>\n",
       "      <th>2017-01-05</th>\n",
       "      <td>0</td>\n",
       "      <td>0</td>\n",
       "      <td>0</td>\n",
       "      <td>0</td>\n",
       "      <td>0</td>\n",
       "      <td>0</td>\n",
       "      <td>0</td>\n",
       "      <td>0</td>\n",
       "      <td>0</td>\n",
       "      <td>0</td>\n",
       "      <td>0</td>\n",
       "    </tr>\n",
       "    <tr>\n",
       "      <th>...</th>\n",
       "      <td>...</td>\n",
       "      <td>...</td>\n",
       "      <td>...</td>\n",
       "      <td>...</td>\n",
       "      <td>...</td>\n",
       "      <td>...</td>\n",
       "      <td>...</td>\n",
       "      <td>...</td>\n",
       "      <td>...</td>\n",
       "      <td>...</td>\n",
       "      <td>...</td>\n",
       "    </tr>\n",
       "    <tr>\n",
       "      <th>2020-12-26</th>\n",
       "      <td>0</td>\n",
       "      <td>0</td>\n",
       "      <td>0</td>\n",
       "      <td>0</td>\n",
       "      <td>0</td>\n",
       "      <td>0</td>\n",
       "      <td>0</td>\n",
       "      <td>0</td>\n",
       "      <td>0</td>\n",
       "      <td>0</td>\n",
       "      <td>1</td>\n",
       "    </tr>\n",
       "    <tr>\n",
       "      <th>2020-12-27</th>\n",
       "      <td>0</td>\n",
       "      <td>0</td>\n",
       "      <td>0</td>\n",
       "      <td>0</td>\n",
       "      <td>0</td>\n",
       "      <td>0</td>\n",
       "      <td>0</td>\n",
       "      <td>0</td>\n",
       "      <td>0</td>\n",
       "      <td>0</td>\n",
       "      <td>1</td>\n",
       "    </tr>\n",
       "    <tr>\n",
       "      <th>2020-12-28</th>\n",
       "      <td>0</td>\n",
       "      <td>0</td>\n",
       "      <td>0</td>\n",
       "      <td>0</td>\n",
       "      <td>0</td>\n",
       "      <td>0</td>\n",
       "      <td>0</td>\n",
       "      <td>0</td>\n",
       "      <td>0</td>\n",
       "      <td>0</td>\n",
       "      <td>1</td>\n",
       "    </tr>\n",
       "    <tr>\n",
       "      <th>2020-12-29</th>\n",
       "      <td>0</td>\n",
       "      <td>0</td>\n",
       "      <td>0</td>\n",
       "      <td>0</td>\n",
       "      <td>0</td>\n",
       "      <td>0</td>\n",
       "      <td>0</td>\n",
       "      <td>0</td>\n",
       "      <td>0</td>\n",
       "      <td>0</td>\n",
       "      <td>1</td>\n",
       "    </tr>\n",
       "    <tr>\n",
       "      <th>2020-12-30</th>\n",
       "      <td>0</td>\n",
       "      <td>0</td>\n",
       "      <td>0</td>\n",
       "      <td>0</td>\n",
       "      <td>0</td>\n",
       "      <td>0</td>\n",
       "      <td>0</td>\n",
       "      <td>0</td>\n",
       "      <td>0</td>\n",
       "      <td>0</td>\n",
       "      <td>1</td>\n",
       "    </tr>\n",
       "  </tbody>\n",
       "</table>\n",
       "<p>1460 rows × 11 columns</p>\n",
       "</div>"
      ],
      "text/plain": [
       "            month_2  month_3  month_4  month_5  month_6  month_7  month_8  \\\n",
       "2017-01-01        0        0        0        0        0        0        0   \n",
       "2017-01-02        0        0        0        0        0        0        0   \n",
       "2017-01-03        0        0        0        0        0        0        0   \n",
       "2017-01-04        0        0        0        0        0        0        0   \n",
       "2017-01-05        0        0        0        0        0        0        0   \n",
       "...             ...      ...      ...      ...      ...      ...      ...   \n",
       "2020-12-26        0        0        0        0        0        0        0   \n",
       "2020-12-27        0        0        0        0        0        0        0   \n",
       "2020-12-28        0        0        0        0        0        0        0   \n",
       "2020-12-29        0        0        0        0        0        0        0   \n",
       "2020-12-30        0        0        0        0        0        0        0   \n",
       "\n",
       "            month_9  month_10  month_11  month_12  \n",
       "2017-01-01        0         0         0         0  \n",
       "2017-01-02        0         0         0         0  \n",
       "2017-01-03        0         0         0         0  \n",
       "2017-01-04        0         0         0         0  \n",
       "2017-01-05        0         0         0         0  \n",
       "...             ...       ...       ...       ...  \n",
       "2020-12-26        0         0         0         1  \n",
       "2020-12-27        0         0         0         1  \n",
       "2020-12-28        0         0         0         1  \n",
       "2020-12-29        0         0         0         1  \n",
       "2020-12-30        0         0         0         1  \n",
       "\n",
       "[1460 rows x 11 columns]"
      ]
     },
     "execution_count": 11,
     "metadata": {},
     "output_type": "execute_result"
    }
   ],
   "source": [
    "X_1 = pd.DataFrame( data=pd.get_dummies(X.index.month, drop_first=True, prefix=\"month\"))\n",
    "X_1.index = X.index\n",
    "X_1"
   ]
  },
  {
   "cell_type": "code",
   "execution_count": 12,
   "id": "4e811988",
   "metadata": {},
   "outputs": [
    {
     "data": {
      "image/png": "[encoded data removed]",
      "text/plain": [
       "<Figure size 1152x288 with 1 Axes>"
      ]
     },
     "metadata": {
      "needs_background": "light"
     },
     "output_type": "display_data"
    }
   ],
   "source": [
    "model_1 = LinearRegression().fit(X_1.iloc[:TRAIN_END], y.iloc[:TRAIN_END])\n",
    "\n",
    "results_df[\"model_1\"] = model_1.predict(X_1)\n",
    "results_df[[\"actuals\", \"model_1\"]].plot(figsize=(16,4), \n",
    "                                        title=\"Fit using month dummies\")\n",
    "plt.axvline(date(2020, 1, 1), c=\"m\", linestyle=\"--\");"
   ]
  },
  {
   "cell_type": "code",
   "execution_count": 13,
   "id": "2b9ebaa3",
   "metadata": {},
   "outputs": [],
   "source": [
    "def sin_transformer(period):\n",
    "    return FunctionTransformer(lambda x: np.sin(x / period * 2 * np.pi))\n",
    "\n",
    "def cos_transformer(period):\n",
    "    return FunctionTransformer(lambda x: np.cos(x / period * 2 * np.pi))"
   ]
  },
  {
   "cell_type": "code",
   "execution_count": 14,
   "id": "506fc397",
   "metadata": {},
   "outputs": [],
   "source": [
    "X_2 = X.copy()\n",
    "X_2[\"month\"] = X_2.index.month"
   ]
  },
  {
   "cell_type": "code",
   "execution_count": 21,
   "id": "73b7a062",
   "metadata": {},
   "outputs": [],
   "source": [
    "X_2[\"month_sin\"] = sin_transformer(12).fit_transform(X_2)[\"month\"]\n",
    "X_2[\"month_cos\"] = cos_transformer(12).fit_transform(X_2)[\"month\"]\n",
    "\n",
    "X_2[\"day_sin\"] = sin_transformer(365).fit_transform(X_2)[\"day_of_year\"]\n",
    "X_2[\"day_cos\"] = cos_transformer(365).fit_transform(X_2)[\"day_of_year\"]"
   ]
  },
  {
   "cell_type": "code",
   "execution_count": 22,
   "id": "932caf49",
   "metadata": {},
   "outputs": [
    {
     "data": {
      "image/png": "[encoded data removed]",
      "text/plain": [
       "<Figure size 1152x576 with 2 Axes>"
      ]
     },
     "metadata": {
      "needs_background": "light"
     },
     "output_type": "display_data"
    }
   ],
   "source": [
    "fig, ax = plt.subplots(2, 1, sharex=True, figsize=(16,8))\n",
    "X_2[[\"month_sin\", \"month_cos\"]].plot(ax=ax[0])\n",
    "X_2[[\"day_sin\", \"day_cos\"]].plot(ax=ax[1])\n",
    "plt.suptitle(\"Cyclical encoding with sine/cosine transformation\");"
   ]
  },
  {
   "cell_type": "code",
   "execution_count": 23,
   "id": "bd541831",
   "metadata": {},
   "outputs": [
    {
     "name": "stderr",
     "output_type": "stream",
     "text": [
      "*c* argument looks like a single numeric RGB or RGBA sequence, which should be avoided as value-mapping will have precedence in case its length matches with *x* & *y*.  Please use the *color* keyword-argument or provide a 2D array with a single row if you intend to specify the same RGB or RGBA value for all points.\n"
     ]
    },
    {
     "data": {
      "image/png": "[encoded data removed]",
      "text/plain": [
       "<Figure size 576x576 with 1 Axes>"
      ]
     },
     "metadata": {
      "needs_background": "light"
     },
     "output_type": "display_data"
    }
   ],
   "source": [
    "X_2[X_2.index.year == 2017].plot(kind=\"scatter\", \n",
    "                                 x=\"month_sin\", \n",
    "                                 y=\"month_cos\", \n",
    "                                 figsize=(8, 8),\n",
    "                                 title=\"Cyclical encoding using sine/cosine transformations\");"
   ]
  },
  {
   "cell_type": "code",
   "execution_count": 24,
   "id": "c6b92277",
   "metadata": {},
   "outputs": [
    {
     "data": {
      "text/html": [
       "<div>\n",
       "<style scoped>\n",
       "    .dataframe tbody tr th:only-of-type {\n",
       "        vertical-align: middle;\n",
       "    }\n",
       "\n",
       "    .dataframe tbody tr th {\n",
       "        vertical-align: top;\n",
       "    }\n",
       "\n",
       "    .dataframe thead th {\n",
       "        text-align: right;\n",
       "    }\n",
       "</style>\n",
       "<table border=\"1\" class=\"dataframe\">\n",
       "  <thead>\n",
       "    <tr style=\"text-align: right;\">\n",
       "      <th></th>\n",
       "      <th>day_nr</th>\n",
       "      <th>day_of_year</th>\n",
       "      <th>month</th>\n",
       "      <th>month_sin</th>\n",
       "      <th>month_cos</th>\n",
       "      <th>day_sin</th>\n",
       "      <th>day_cos</th>\n",
       "    </tr>\n",
       "  </thead>\n",
       "  <tbody>\n",
       "    <tr>\n",
       "      <th>2017-01-01</th>\n",
       "      <td>0</td>\n",
       "      <td>1</td>\n",
       "      <td>1</td>\n",
       "      <td>5.000000e-01</td>\n",
       "      <td>0.866025</td>\n",
       "      <td>1.721336e-02</td>\n",
       "      <td>0.999852</td>\n",
       "    </tr>\n",
       "    <tr>\n",
       "      <th>2017-01-02</th>\n",
       "      <td>1</td>\n",
       "      <td>2</td>\n",
       "      <td>1</td>\n",
       "      <td>5.000000e-01</td>\n",
       "      <td>0.866025</td>\n",
       "      <td>3.442161e-02</td>\n",
       "      <td>0.999407</td>\n",
       "    </tr>\n",
       "    <tr>\n",
       "      <th>2017-01-03</th>\n",
       "      <td>2</td>\n",
       "      <td>3</td>\n",
       "      <td>1</td>\n",
       "      <td>5.000000e-01</td>\n",
       "      <td>0.866025</td>\n",
       "      <td>5.161967e-02</td>\n",
       "      <td>0.998667</td>\n",
       "    </tr>\n",
       "    <tr>\n",
       "      <th>2017-01-04</th>\n",
       "      <td>3</td>\n",
       "      <td>4</td>\n",
       "      <td>1</td>\n",
       "      <td>5.000000e-01</td>\n",
       "      <td>0.866025</td>\n",
       "      <td>6.880243e-02</td>\n",
       "      <td>0.997630</td>\n",
       "    </tr>\n",
       "    <tr>\n",
       "      <th>2017-01-05</th>\n",
       "      <td>4</td>\n",
       "      <td>5</td>\n",
       "      <td>1</td>\n",
       "      <td>5.000000e-01</td>\n",
       "      <td>0.866025</td>\n",
       "      <td>8.596480e-02</td>\n",
       "      <td>0.996298</td>\n",
       "    </tr>\n",
       "    <tr>\n",
       "      <th>...</th>\n",
       "      <td>...</td>\n",
       "      <td>...</td>\n",
       "      <td>...</td>\n",
       "      <td>...</td>\n",
       "      <td>...</td>\n",
       "      <td>...</td>\n",
       "      <td>...</td>\n",
       "    </tr>\n",
       "    <tr>\n",
       "      <th>2017-12-27</th>\n",
       "      <td>360</td>\n",
       "      <td>361</td>\n",
       "      <td>12</td>\n",
       "      <td>-2.449294e-16</td>\n",
       "      <td>1.000000</td>\n",
       "      <td>-6.880243e-02</td>\n",
       "      <td>0.997630</td>\n",
       "    </tr>\n",
       "    <tr>\n",
       "      <th>2017-12-28</th>\n",
       "      <td>361</td>\n",
       "      <td>362</td>\n",
       "      <td>12</td>\n",
       "      <td>-2.449294e-16</td>\n",
       "      <td>1.000000</td>\n",
       "      <td>-5.161967e-02</td>\n",
       "      <td>0.998667</td>\n",
       "    </tr>\n",
       "    <tr>\n",
       "      <th>2017-12-29</th>\n",
       "      <td>362</td>\n",
       "      <td>363</td>\n",
       "      <td>12</td>\n",
       "      <td>-2.449294e-16</td>\n",
       "      <td>1.000000</td>\n",
       "      <td>-3.442161e-02</td>\n",
       "      <td>0.999407</td>\n",
       "    </tr>\n",
       "    <tr>\n",
       "      <th>2017-12-30</th>\n",
       "      <td>363</td>\n",
       "      <td>364</td>\n",
       "      <td>12</td>\n",
       "      <td>-2.449294e-16</td>\n",
       "      <td>1.000000</td>\n",
       "      <td>-1.721336e-02</td>\n",
       "      <td>0.999852</td>\n",
       "    </tr>\n",
       "    <tr>\n",
       "      <th>2017-12-31</th>\n",
       "      <td>364</td>\n",
       "      <td>365</td>\n",
       "      <td>12</td>\n",
       "      <td>-2.449294e-16</td>\n",
       "      <td>1.000000</td>\n",
       "      <td>-2.449294e-16</td>\n",
       "      <td>1.000000</td>\n",
       "    </tr>\n",
       "  </tbody>\n",
       "</table>\n",
       "<p>365 rows × 7 columns</p>\n",
       "</div>"
      ],
      "text/plain": [
       "            day_nr  day_of_year  month     month_sin  month_cos       day_sin  \\\n",
       "2017-01-01       0            1      1  5.000000e-01   0.866025  1.721336e-02   \n",
       "2017-01-02       1            2      1  5.000000e-01   0.866025  3.442161e-02   \n",
       "2017-01-03       2            3      1  5.000000e-01   0.866025  5.161967e-02   \n",
       "2017-01-04       3            4      1  5.000000e-01   0.866025  6.880243e-02   \n",
       "2017-01-05       4            5      1  5.000000e-01   0.866025  8.596480e-02   \n",
       "...            ...          ...    ...           ...        ...           ...   \n",
       "2017-12-27     360          361     12 -2.449294e-16   1.000000 -6.880243e-02   \n",
       "2017-12-28     361          362     12 -2.449294e-16   1.000000 -5.161967e-02   \n",
       "2017-12-29     362          363     12 -2.449294e-16   1.000000 -3.442161e-02   \n",
       "2017-12-30     363          364     12 -2.449294e-16   1.000000 -1.721336e-02   \n",
       "2017-12-31     364          365     12 -2.449294e-16   1.000000 -2.449294e-16   \n",
       "\n",
       "             day_cos  \n",
       "2017-01-01  0.999852  \n",
       "2017-01-02  0.999407  \n",
       "2017-01-03  0.998667  \n",
       "2017-01-04  0.997630  \n",
       "2017-01-05  0.996298  \n",
       "...              ...  \n",
       "2017-12-27  0.997630  \n",
       "2017-12-28  0.998667  \n",
       "2017-12-29  0.999407  \n",
       "2017-12-30  0.999852  \n",
       "2017-12-31  1.000000  \n",
       "\n",
       "[365 rows x 7 columns]"
      ]
     },
     "execution_count": 24,
     "metadata": {},
     "output_type": "execute_result"
    }
   ],
   "source": [
    "X_2[X_2.index.year == 2017]"
   ]
  },
  {
   "cell_type": "code",
   "execution_count": 25,
   "id": "a493de1b",
   "metadata": {},
   "outputs": [
    {
     "data": {
      "image/png": "[encoded data removed]",
      "text/plain": [
       "<Figure size 1152x288 with 1 Axes>"
      ]
     },
     "metadata": {
      "needs_background": "light"
     },
     "output_type": "display_data"
    }
   ],
   "source": [
    "X_2_monthly = X_2[[\"month_sin\", \"month_cos\"]]\n",
    "\n",
    "model_2 = LinearRegression().fit(X_2_monthly.iloc[:TRAIN_END], \n",
    "                                 y.iloc[:TRAIN_END])\n",
    "\n",
    "results_df[\"model_2\"] = model_2.predict(X_2_monthly)\n",
    "results_df[[\"actuals\", \"model_2\"]].plot(figsize=(16,4), \n",
    "                                        title=\"Fit using sine/cosine features\")\n",
    "plt.axvline(date(2020, 1, 1), c=\"m\", linestyle=\"--\");"
   ]
  },
  {
   "cell_type": "code",
   "execution_count": 26,
   "id": "393a06e5",
   "metadata": {},
   "outputs": [
    {
     "data": {
      "image/png": "[encoded data removed]",
      "text/plain": [
       "<Figure size 1152x288 with 1 Axes>"
      ]
     },
     "metadata": {
      "needs_background": "light"
     },
     "output_type": "display_data"
    }
   ],
   "source": [
    "X_2_daily = X_2[[\"day_sin\", \"day_cos\"]]\n",
    "\n",
    "model_2 = LinearRegression().fit(X_2_daily.iloc[:TRAIN_END], \n",
    "                                 y.iloc[:TRAIN_END])\n",
    "\n",
    "results_df[\"model_2\"] = model_2.predict(X_2_daily)\n",
    "results_df[[\"actuals\", \"model_2\"]].plot(figsize=(16,4), \n",
    "                                        title=\"Fit using sine/cosine features\")\n",
    "plt.axvline(date(2020, 1, 1), c=\"m\", linestyle=\"--\");"
   ]
  },
  {
   "cell_type": "code",
   "execution_count": 28,
   "id": "84d27b76",
   "metadata": {},
   "outputs": [
    {
     "ename": "NameError",
     "evalue": "name 'RepeatingBasisFunction' is not defined",
     "output_type": "error",
     "traceback": [
      "\u001b[1;31m---------------------------------------------------------------------------\u001b[0m",
      "\u001b[1;31mNameError\u001b[0m                                 Traceback (most recent call last)",
      "\u001b[1;32m~\\AppData\\Local\\Temp\\ipykernel_15228\\2553495276.py\u001b[0m in \u001b[0;36m<module>\u001b[1;34m\u001b[0m\n\u001b[1;32m----> 1\u001b[1;33m rbf = RepeatingBasisFunction(n_periods=12,\n\u001b[0m\u001b[0;32m      2\u001b[0m                              \u001b[0mcolumn\u001b[0m\u001b[1;33m=\u001b[0m\u001b[1;34m\"day_of_year\"\u001b[0m\u001b[1;33m,\u001b[0m\u001b[1;33m\u001b[0m\u001b[1;33m\u001b[0m\u001b[0m\n\u001b[0;32m      3\u001b[0m                              \u001b[0minput_range\u001b[0m\u001b[1;33m=\u001b[0m\u001b[1;33m(\u001b[0m\u001b[1;36m1\u001b[0m\u001b[1;33m,\u001b[0m\u001b[1;36m365\u001b[0m\u001b[1;33m)\u001b[0m\u001b[1;33m,\u001b[0m\u001b[1;33m\u001b[0m\u001b[1;33m\u001b[0m\u001b[0m\n\u001b[0;32m      4\u001b[0m                              remainder=\"drop\")\n\u001b[0;32m      5\u001b[0m \u001b[0mrbf\u001b[0m\u001b[1;33m.\u001b[0m\u001b[0mfit\u001b[0m\u001b[1;33m(\u001b[0m\u001b[0mX\u001b[0m\u001b[1;33m)\u001b[0m\u001b[1;33m\u001b[0m\u001b[1;33m\u001b[0m\u001b[0m\n",
      "\u001b[1;31mNameError\u001b[0m: name 'RepeatingBasisFunction' is not defined"
     ]
    }
   ],
   "source": [
    "rbf = RepeatingBasisFunction(n_periods=12,\n",
    "                             column=\"day_of_year\",\n",
    "                             input_range=(1,365),\n",
    "                             remainder=\"drop\")\n",
    "rbf.fit(X)\n",
    "X_3 = pd.DataFrame(index=X.index, \n",
    "                   data=rbf.transform(X))"
   ]
  },
  {
   "cell_type": "code",
   "execution_count": 18,
   "id": "57392571",
   "metadata": {},
   "outputs": [
    {
     "data": {
      "text/html": [
       "<div>\n",
       "<style scoped>\n",
       "    .dataframe tbody tr th:only-of-type {\n",
       "        vertical-align: middle;\n",
       "    }\n",
       "\n",
       "    .dataframe tbody tr th {\n",
       "        vertical-align: top;\n",
       "    }\n",
       "\n",
       "    .dataframe thead th {\n",
       "        text-align: right;\n",
       "    }\n",
       "</style>\n",
       "<table border=\"1\" class=\"dataframe\">\n",
       "  <thead>\n",
       "    <tr style=\"text-align: right;\">\n",
       "      <th></th>\n",
       "      <th>day_nr</th>\n",
       "      <th>day_of_year</th>\n",
       "      <th>month</th>\n",
       "    </tr>\n",
       "  </thead>\n",
       "  <tbody>\n",
       "    <tr>\n",
       "      <th>2017-01-01</th>\n",
       "      <td>0</td>\n",
       "      <td>1</td>\n",
       "      <td>1</td>\n",
       "    </tr>\n",
       "    <tr>\n",
       "      <th>2017-01-02</th>\n",
       "      <td>1</td>\n",
       "      <td>2</td>\n",
       "      <td>1</td>\n",
       "    </tr>\n",
       "    <tr>\n",
       "      <th>2017-01-03</th>\n",
       "      <td>2</td>\n",
       "      <td>3</td>\n",
       "      <td>1</td>\n",
       "    </tr>\n",
       "    <tr>\n",
       "      <th>2017-01-04</th>\n",
       "      <td>3</td>\n",
       "      <td>4</td>\n",
       "      <td>1</td>\n",
       "    </tr>\n",
       "    <tr>\n",
       "      <th>2017-01-05</th>\n",
       "      <td>4</td>\n",
       "      <td>5</td>\n",
       "      <td>1</td>\n",
       "    </tr>\n",
       "    <tr>\n",
       "      <th>...</th>\n",
       "      <td>...</td>\n",
       "      <td>...</td>\n",
       "      <td>...</td>\n",
       "    </tr>\n",
       "    <tr>\n",
       "      <th>2020-12-26</th>\n",
       "      <td>1455</td>\n",
       "      <td>361</td>\n",
       "      <td>12</td>\n",
       "    </tr>\n",
       "    <tr>\n",
       "      <th>2020-12-27</th>\n",
       "      <td>1456</td>\n",
       "      <td>362</td>\n",
       "      <td>12</td>\n",
       "    </tr>\n",
       "    <tr>\n",
       "      <th>2020-12-28</th>\n",
       "      <td>1457</td>\n",
       "      <td>363</td>\n",
       "      <td>12</td>\n",
       "    </tr>\n",
       "    <tr>\n",
       "      <th>2020-12-29</th>\n",
       "      <td>1458</td>\n",
       "      <td>364</td>\n",
       "      <td>12</td>\n",
       "    </tr>\n",
       "    <tr>\n",
       "      <th>2020-12-30</th>\n",
       "      <td>1459</td>\n",
       "      <td>365</td>\n",
       "      <td>12</td>\n",
       "    </tr>\n",
       "  </tbody>\n",
       "</table>\n",
       "<p>1460 rows × 3 columns</p>\n",
       "</div>"
      ],
      "text/plain": [
       "            day_nr  day_of_year  month\n",
       "2017-01-01       0            1      1\n",
       "2017-01-02       1            2      1\n",
       "2017-01-03       2            3      1\n",
       "2017-01-04       3            4      1\n",
       "2017-01-05       4            5      1\n",
       "...            ...          ...    ...\n",
       "2020-12-26    1455          361     12\n",
       "2020-12-27    1456          362     12\n",
       "2020-12-28    1457          363     12\n",
       "2020-12-29    1458          364     12\n",
       "2020-12-30    1459          365     12\n",
       "\n",
       "[1460 rows x 3 columns]"
      ]
     },
     "execution_count": 18,
     "metadata": {},
     "output_type": "execute_result"
    }
   ],
   "source": [
    "X_2"
   ]
  },
  {
   "cell_type": "code",
   "execution_count": 20,
   "id": "198f2ad9",
   "metadata": {},
   "outputs": [
    {
     "data": {
      "text/plain": [
       "2017-01-01    5.000000e-01\n",
       "2017-01-02    5.000000e-01\n",
       "2017-01-03    5.000000e-01\n",
       "2017-01-04    5.000000e-01\n",
       "2017-01-05    5.000000e-01\n",
       "                  ...     \n",
       "2020-12-26   -2.449294e-16\n",
       "2020-12-27   -2.449294e-16\n",
       "2020-12-28   -2.449294e-16\n",
       "2020-12-29   -2.449294e-16\n",
       "2020-12-30   -2.449294e-16\n",
       "Freq: D, Name: month, Length: 1460, dtype: float64"
      ]
     },
     "execution_count": 20,
     "metadata": {},
     "output_type": "execute_result"
    }
   ],
   "source": [
    " sin_transformer(12).fit_transform(X_2)[\"month\"]"
   ]
  },
  {
   "cell_type": "code",
   "execution_count": null,
   "id": "6a37b01e",
   "metadata": {},
   "outputs": [],
   "source": []
  }
 ],
 "metadata": {
  "kernelspec": {
   "display_name": "Python 3 (ipykernel)",
   "language": "python",
   "name": "python3"
  },
  "language_info": {
   "codemirror_mode": {
    "name": "ipython",
    "version": 3
   },
   "file_extension": ".py",
   "mimetype": "text/x-python",
   "name": "python",
   "nbconvert_exporter": "python",
   "pygments_lexer": "ipython3",
   "version": "3.9.12"
  }
 },
 "nbformat": 4,
 "nbformat_minor": 5
}
